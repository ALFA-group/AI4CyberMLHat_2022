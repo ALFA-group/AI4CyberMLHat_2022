{
 "cells": [
  {
   "cell_type": "code",
   "execution_count": 1,
   "metadata": {
    "execution": {
     "iopub.execute_input": "2022-06-01T09:52:55.465381Z",
     "iopub.status.busy": "2022-06-01T09:52:55.462314Z",
     "iopub.status.idle": "2022-06-01T09:52:55.924877Z",
     "shell.execute_reply": "2022-06-01T09:52:55.925540Z"
    }
   },
   "outputs": [],
   "source": [
    "import networkx as nx\n",
    "import json"
   ]
  },
  {
   "cell_type": "code",
   "execution_count": 2,
   "metadata": {
    "execution": {
     "iopub.execute_input": "2022-06-01T09:52:55.939161Z",
     "iopub.status.busy": "2022-06-01T09:52:55.938321Z",
     "iopub.status.idle": "2022-06-01T09:52:55.947967Z",
     "shell.execute_reply": "2022-06-01T09:52:55.948614Z"
    }
   },
   "outputs": [
    {
     "data": {
      "text/plain": [
       "'\\nGraph with CWEs, APs, techniques, tactics\\n\\nSame edge definition as networkx_graph_all\\n'"
      ]
     },
     "execution_count": 1,
     "metadata": {},
     "output_type": "execute_result"
    }
   ],
   "source": [
    "\"\"\"\n",
    "Graph with CWEs, APs, techniques, tactics\n",
    "\n",
    "Same edge definition as networkx_graph_all\n",
    "\"\"\""
   ]
  },
  {
   "cell_type": "code",
   "execution_count": 3,
   "metadata": {
    "execution": {
     "iopub.execute_input": "2022-06-01T09:52:55.965064Z",
     "iopub.status.busy": "2022-06-01T09:52:55.959659Z",
     "iopub.status.idle": "2022-06-01T09:52:56.026500Z",
     "shell.execute_reply": "2022-06-01T09:52:56.025270Z"
    }
   },
   "outputs": [],
   "source": [
    "with open(\"w_dict.json\", \"r\") as f:\n",
    "    w_dict = json.load(f)\n",
    "with open(\"ap_dict.json\", \"r\") as f:\n",
    "    ap_dict = json.load(f)\n",
    "with open(\"technique_dict.json\", \"r\") as f:\n",
    "    technique_dict = json.load(f)\n",
    "\n",
    "f = open(\"cwe_mitigation_ids_temp.json\")\n",
    "w_mitigation = json.load(f)\n",
    "\n",
    "f = open(\"capec_mitigation_temp.json\")\n",
    "ap_mitigation = json.load(f)\n",
    "\n",
    "f = open(\"technique_mitigation_temp.json\")\n",
    "technique_mitigation = json.load(f)\n",
    "\n",
    "f = open(\"technique_detection_temp.json\")\n",
    "technique_detection = json.load(f)\n",
    "\n",
    "f = open(\"capec_detection_temp.json\")\n",
    "ap_detection = json.load(f)\n",
    "\n",
    "f = open(\"cwe_detection_temp.json\")\n",
    "w_detection = json.load(f)\n",
    "\n",
    "f = open(\"d3fend_technique.json\")\n",
    "d3fend_technique = json.load(f)\n",
    "\n",
    "f = open(\"engage_technique.json\")\n",
    "engage_technique = json.load(f)\n",
    "\n",
    "f = open(\"d3fend.json\")\n",
    "d3 = json.load(f)\n",
    "\n",
    "f = open(\"engage_activity.json\")\n",
    "engage_activity = json.load(f)\n",
    "\n",
    "f = open(\"tactic_temp.json\")\n",
    "tactic = json.load(f)"
   ]
  },
  {
   "cell_type": "code",
   "execution_count": 4,
   "metadata": {
    "execution": {
     "iopub.execute_input": "2022-06-01T09:52:56.034991Z",
     "iopub.status.busy": "2022-06-01T09:52:56.033213Z",
     "iopub.status.idle": "2022-06-01T09:52:56.036471Z",
     "shell.execute_reply": "2022-06-01T09:52:56.037550Z"
    }
   },
   "outputs": [],
   "source": [
    "G = nx.Graph()"
   ]
  },
  {
   "cell_type": "code",
   "execution_count": 5,
   "metadata": {
    "execution": {
     "iopub.execute_input": "2022-06-01T09:52:56.049765Z",
     "iopub.status.busy": "2022-06-01T09:52:56.048072Z",
     "iopub.status.idle": "2022-06-01T09:52:56.054329Z",
     "shell.execute_reply": "2022-06-01T09:52:56.055345Z"
    }
   },
   "outputs": [
    {
     "data": {
      "text/plain": [
       "{'cwe': 600, 'cwe_ap': 324}"
      ]
     },
     "execution_count": 1,
     "metadata": {},
     "output_type": "execute_result"
    }
   ],
   "source": [
    "counts_dict = {}\n",
    "\n",
    "for w in w_dict:\n",
    "    links = w_dict[w]\n",
    "    str = [\"cwe\"]\n",
    "    if links[\"ap\"]:\n",
    "        str.append(\"ap\")\n",
    "\n",
    "    str = \"_\".join(str)\n",
    "\n",
    "    if str in counts_dict:\n",
    "        counts_dict[str] += 1\n",
    "    else:\n",
    "        counts_dict[str] = 1\n",
    "\n",
    "counts_dict"
   ]
  },
  {
   "cell_type": "code",
   "execution_count": 6,
   "metadata": {
    "execution": {
     "iopub.execute_input": "2022-06-01T09:52:56.063080Z",
     "iopub.status.busy": "2022-06-01T09:52:56.061815Z",
     "iopub.status.idle": "2022-06-01T09:52:56.067098Z",
     "shell.execute_reply": "2022-06-01T09:52:56.065367Z"
    }
   },
   "outputs": [],
   "source": [
    "for key in counts_dict:\n",
    "    G.add_node(key, label=counts_dict[key], color=\"red\", title=key)\n",
    "    true_key = key.split(\"_\")[1:]"
   ]
  },
  {
   "cell_type": "code",
   "execution_count": 7,
   "metadata": {
    "execution": {
     "iopub.execute_input": "2022-06-01T09:52:56.076852Z",
     "iopub.status.busy": "2022-06-01T09:52:56.075547Z",
     "iopub.status.idle": "2022-06-01T09:52:56.081197Z",
     "shell.execute_reply": "2022-06-01T09:52:56.082270Z"
    }
   },
   "outputs": [
    {
     "data": {
      "text/plain": [
       "{'ap_cwes': 332, 'ap_techniques_cwes': 73, 'ap_techniques': 18, 'ap': 123}"
      ]
     },
     "execution_count": 1,
     "metadata": {},
     "output_type": "execute_result"
    }
   ],
   "source": [
    "counts_dict = {}\n",
    "\n",
    "for ap in ap_dict:\n",
    "    links = ap_dict[ap]\n",
    "    str = [\"ap\"]\n",
    "    if links[\"techniques\"]:\n",
    "        str.append(\"techniques\")\n",
    "    if links[\"cwes\"]:\n",
    "        str.append(\"cwes\")\n",
    "\n",
    "    str = \"_\".join(str)\n",
    "\n",
    "    if str in counts_dict:\n",
    "        counts_dict[str] += 1\n",
    "    else:\n",
    "        counts_dict[str] = 1\n",
    "\n",
    "counts_dict"
   ]
  },
  {
   "cell_type": "code",
   "execution_count": 8,
   "metadata": {
    "execution": {
     "iopub.execute_input": "2022-06-01T09:52:56.091400Z",
     "iopub.status.busy": "2022-06-01T09:52:56.089985Z",
     "iopub.status.idle": "2022-06-01T09:52:56.094201Z",
     "shell.execute_reply": "2022-06-01T09:52:56.092737Z"
    }
   },
   "outputs": [],
   "source": [
    "for key in counts_dict:\n",
    "    G.add_node(key, label=counts_dict[key], color=\"green\", title=key)\n",
    "    true_key = key.split(\"_\")[1:]\n",
    "    if \"cwes\" in true_key:\n",
    "        for node in G.nodes:\n",
    "            if node.startswith(\"cwe\") and \"ap\" in node:\n",
    "                G.add_edge(key, node, color=\"black\")"
   ]
  },
  {
   "cell_type": "code",
   "execution_count": 9,
   "metadata": {
    "execution": {
     "iopub.execute_input": "2022-06-01T09:52:56.102779Z",
     "iopub.status.busy": "2022-06-01T09:52:56.101461Z",
     "iopub.status.idle": "2022-06-01T09:52:56.106016Z",
     "shell.execute_reply": "2022-06-01T09:52:56.104858Z"
    }
   },
   "outputs": [],
   "source": [
    "for technique in technique_dict:\n",
    "    technique_dict[technique][\"ap\"] = []\n",
    "\n",
    "for ap in ap_dict:\n",
    "    for technique in ap_dict[ap][\"techniques\"]:\n",
    "        technique_dict[technique][\"ap\"].append(ap)"
   ]
  },
  {
   "cell_type": "code",
   "execution_count": 10,
   "metadata": {
    "execution": {
     "iopub.execute_input": "2022-06-01T09:52:56.113456Z",
     "iopub.status.busy": "2022-06-01T09:52:56.112224Z",
     "iopub.status.idle": "2022-06-01T09:52:56.117674Z",
     "shell.execute_reply": "2022-06-01T09:52:56.118808Z"
    }
   },
   "outputs": [
    {
     "name": "stdout",
     "output_type": "stream",
     "text": [
      "14\n"
     ]
    }
   ],
   "source": [
    "tactics = set()\n",
    "\n",
    "for technique in technique_dict:\n",
    "    tactics.update(technique_dict[technique][\"tactics\"])\n",
    "\n",
    "print(len(tactics))"
   ]
  },
  {
   "cell_type": "code",
   "execution_count": 11,
   "metadata": {
    "execution": {
     "iopub.execute_input": "2022-06-01T09:52:56.125963Z",
     "iopub.status.busy": "2022-06-01T09:52:56.124614Z",
     "iopub.status.idle": "2022-06-01T09:52:56.128170Z",
     "shell.execute_reply": "2022-06-01T09:52:56.129044Z"
    }
   },
   "outputs": [],
   "source": [
    "G.add_node(\"tactics\", label=len(tactics), color=\"blue\", title=\"tactics\")"
   ]
  },
  {
   "cell_type": "code",
   "execution_count": 12,
   "metadata": {
    "execution": {
     "iopub.execute_input": "2022-06-01T09:52:56.138675Z",
     "iopub.status.busy": "2022-06-01T09:52:56.137411Z",
     "iopub.status.idle": "2022-06-01T09:52:56.142574Z",
     "shell.execute_reply": "2022-06-01T09:52:56.143618Z"
    }
   },
   "outputs": [
    {
     "data": {
      "text/plain": [
       "{'technique_tactics': 465, 'technique_ap_tactics': 101}"
      ]
     },
     "execution_count": 1,
     "metadata": {},
     "output_type": "execute_result"
    }
   ],
   "source": [
    "counts_dict = {}\n",
    "\n",
    "for technique in technique_dict:\n",
    "    links = technique_dict[technique]\n",
    "    str = [\"technique\"]\n",
    "    if links[\"ap\"]:\n",
    "        str.append(\"ap\")\n",
    "    if links[\"tactics\"]:\n",
    "        str.append(\"tactics\")\n",
    "\n",
    "    str = \"_\".join(str)\n",
    "\n",
    "    if str in counts_dict:\n",
    "        counts_dict[str] += 1\n",
    "    else:\n",
    "        counts_dict[str] = 1\n",
    "\n",
    "counts_dict"
   ]
  },
  {
   "cell_type": "code",
   "execution_count": 13,
   "metadata": {
    "execution": {
     "iopub.execute_input": "2022-06-01T09:52:56.152634Z",
     "iopub.status.busy": "2022-06-01T09:52:56.151413Z",
     "iopub.status.idle": "2022-06-01T09:52:56.155597Z",
     "shell.execute_reply": "2022-06-01T09:52:56.154649Z"
    }
   },
   "outputs": [],
   "source": [
    "for key in counts_dict:\n",
    "    G.add_node(key, label=counts_dict[key], color=\"orange\", title=key)\n",
    "    true_key = key.split(\"_\")[1:]\n",
    "    if \"tactics\" in true_key:\n",
    "        G.add_edge(key, \"tactics\", color=\"black\")\n",
    "    if \"ap\" in true_key:\n",
    "        for node in G.nodes:\n",
    "            if node.startswith(\"ap\") and \"techniques\" in node:\n",
    "                G.add_edge(key, node, color=\"black\")"
   ]
  },
  {
   "cell_type": "code",
   "execution_count": 14,
   "metadata": {
    "execution": {
     "iopub.execute_input": "2022-06-01T09:52:56.161641Z",
     "iopub.status.busy": "2022-06-01T09:52:56.160568Z",
     "iopub.status.idle": "2022-06-01T09:52:56.165759Z",
     "shell.execute_reply": "2022-06-01T09:52:56.164349Z"
    }
   },
   "outputs": [],
   "source": [
    "# Save graph\n",
    "file_path = \"demo/basics_graph_networkx.pkl\"\n",
    "nx.write_gpickle(G, file_path)"
   ]
  },
  {
   "cell_type": "code",
   "execution_count": 15,
   "metadata": {
    "execution": {
     "iopub.execute_input": "2022-06-01T09:52:56.171976Z",
     "iopub.status.busy": "2022-06-01T09:52:56.170992Z",
     "iopub.status.idle": "2022-06-01T09:52:56.271184Z",
     "shell.execute_reply": "2022-06-01T09:52:56.272479Z"
    }
   },
   "outputs": [
    {
     "data": {
      "text/html": [
       "\n",
       "        <iframe\n",
       "            width=\"600px\"\n",
       "            height=\"600px\"\n",
       "            src=\"incomplete_with_basics.html\"\n",
       "            frameborder=\"0\"\n",
       "            allowfullscreen\n",
       "        ></iframe>\n",
       "        "
      ],
      "text/plain": [
       "<IPython.lib.display.IFrame at 0x7f3ed7635c88>"
      ]
     },
     "execution_count": 1,
     "metadata": {},
     "output_type": "execute_result"
    }
   ],
   "source": [
    "from pyvis.network import Network\n",
    "\n",
    "nt = Network(\"600px\", \"600px\", notebook=True)\n",
    "nt.from_nx(G)\n",
    "nt.show(\"incomplete_with_basics.html\")"
   ]
  },
  {
   "cell_type": "code",
   "execution_count": null,
   "metadata": {},
   "outputs": [],
   "source": []
  }
 ],
 "metadata": {
  "interpreter": {
   "hash": "916dbcbb3f70747c44a77c7bcd40155683ae19c65e1c03b4aa3499c5328201f1"
  },
  "kernelspec": {
   "display_name": "Python 3",
   "language": "python",
   "name": "python3"
  },
  "language_info": {
   "codemirror_mode": {
    "name": "ipython",
    "version": 3
   },
   "file_extension": ".py",
   "mimetype": "text/x-python",
   "name": "python",
   "nbconvert_exporter": "python",
   "pygments_lexer": "ipython3",
   "version": "3.6.9"
  }
 },
 "nbformat": 4,
 "nbformat_minor": 2
}
