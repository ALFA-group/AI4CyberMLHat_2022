{
 "cells": [
  {
   "cell_type": "code",
   "execution_count": 1,
   "metadata": {
    "execution": {
     "iopub.execute_input": "2022-05-30T09:15:41.387481Z",
     "iopub.status.busy": "2022-05-30T09:15:41.384288Z",
     "iopub.status.idle": "2022-05-30T09:15:41.389097Z",
     "shell.execute_reply": "2022-05-30T09:15:41.390175Z"
    }
   },
   "outputs": [],
   "source": [
    "import json"
   ]
  },
  {
   "cell_type": "code",
   "execution_count": 2,
   "metadata": {
    "execution": {
     "iopub.execute_input": "2022-05-30T09:15:41.401000Z",
     "iopub.status.busy": "2022-05-30T09:15:41.399578Z",
     "iopub.status.idle": "2022-05-30T09:15:41.431712Z",
     "shell.execute_reply": "2022-05-30T09:15:41.430600Z"
    }
   },
   "outputs": [],
   "source": [
    "with open(\"w_dict.json\", \"r\") as f:\n",
    "    w_dict = json.load(f)\n",
    "with open(\"ap_dict.json\", \"r\") as f:\n",
    "    ap_dict = json.load(f)\n",
    "with open(\"technique_dict.json\", \"r\") as f:\n",
    "    technique_dict = json.load(f)"
   ]
  },
  {
   "cell_type": "code",
   "execution_count": 3,
   "metadata": {
    "execution": {
     "iopub.execute_input": "2022-05-30T09:15:41.440051Z",
     "iopub.status.busy": "2022-05-30T09:15:41.438965Z",
     "iopub.status.idle": "2022-05-30T09:15:41.448107Z",
     "shell.execute_reply": "2022-05-30T09:15:41.448976Z"
    }
   },
   "outputs": [
    {
     "name": "stdout",
     "output_type": "stream",
     "text": [
      "Weaknesses  924\n",
      "Attack Patterns  546\n",
      "Techniques  566\n"
     ]
    }
   ],
   "source": [
    "print(\"Weaknesses \", len(w_dict))\n",
    "print(\"Attack Patterns \", len(ap_dict))\n",
    "print(\"Techniques \", len(technique_dict))"
   ]
  },
  {
   "cell_type": "code",
   "execution_count": 4,
   "metadata": {
    "execution": {
     "iopub.execute_input": "2022-05-30T09:15:41.460448Z",
     "iopub.status.busy": "2022-05-30T09:15:41.458918Z",
     "iopub.status.idle": "2022-05-30T09:15:41.496659Z",
     "shell.execute_reply": "2022-05-30T09:15:41.497441Z"
    }
   },
   "outputs": [],
   "source": [
    "f = open(\"cwe_mitigation_ids_temp.json\")\n",
    "w_mitigation = json.load(f)\n",
    "\n",
    "f = open(\"capec_mitigation_temp.json\")\n",
    "ap_mitigation = json.load(f)\n",
    "\n",
    "f = open(\"technique_mitigation_temp.json\")\n",
    "technique_mitigation = json.load(f)\n",
    "\n",
    "f = open(\"technique_detection_temp.json\")\n",
    "technique_detection = json.load(f)\n",
    "\n",
    "f = open(\"capec_detection_temp.json\")\n",
    "ap_detection = json.load(f)\n",
    "\n",
    "f = open(\"cwe_detection_temp.json\")\n",
    "w_detection = json.load(f)\n",
    "\n",
    "f = open(\"d3fend_technique.json\")\n",
    "d3fend_technique = json.load(f)\n",
    "\n",
    "f = open(\"engage_technique.json\")\n",
    "engage_technique = json.load(f)\n",
    "\n",
    "f = open(\"d3fend.json\")\n",
    "d3 = json.load(f)\n",
    "\n",
    "f = open(\"engage_activity.json\")\n",
    "engage_activity = json.load(f)\n",
    "\n",
    "f = open(\"tactic_temp.json\")\n",
    "tactic = json.load(f)"
   ]
  },
  {
   "cell_type": "code",
   "execution_count": 5,
   "metadata": {
    "execution": {
     "iopub.execute_input": "2022-05-30T09:15:41.507769Z",
     "iopub.status.busy": "2022-05-30T09:15:41.506173Z",
     "iopub.status.idle": "2022-05-30T09:15:41.513712Z",
     "shell.execute_reply": "2022-05-30T09:15:41.512525Z"
    }
   },
   "outputs": [
    {
     "name": "stdout",
     "output_type": "stream",
     "text": [
      "CWE mitigations  1597\n",
      "CWE detections  481\n",
      "AP mitigations  1044\n",
      "AP detections  91\n",
      "Technique mitigations  43\n",
      "Technique detections  566\n",
      "Tactics  14\n",
      "d3fend  120\n",
      "engage activity  31\n"
     ]
    }
   ],
   "source": [
    "print(\"CWE mitigations \", len(w_mitigation))\n",
    "print(\"CWE detections \", len(w_detection))\n",
    "print(\"AP mitigations \", len(ap_mitigation))\n",
    "print(\"AP detections \", len(ap_detection))\n",
    "print(\"Technique mitigations \", len(technique_mitigation))\n",
    "print(\"Technique detections \", len(technique_detection))\n",
    "print(\"Tactics \", len(tactic))\n",
    "print(\"d3fend \", len(d3))\n",
    "print(\"engage activity \", len(engage_activity))"
   ]
  },
  {
   "cell_type": "code",
   "execution_count": 6,
   "metadata": {
    "execution": {
     "iopub.execute_input": "2022-05-30T09:15:41.526757Z",
     "iopub.status.busy": "2022-05-30T09:15:41.525594Z",
     "iopub.status.idle": "2022-05-30T09:15:41.535479Z",
     "shell.execute_reply": "2022-05-30T09:15:41.534705Z"
    }
   },
   "outputs": [
    {
     "name": "stdout",
     "output_type": "stream",
     "text": [
      "none count  217\n",
      "ap count  47\n",
      "m count  345\n",
      "d count  9\n",
      "ap m count  201\n",
      "ap d count  3\n",
      "m d count  29\n",
      "ap m d count  73\n"
     ]
    }
   ],
   "source": [
    "ap_count = 0\n",
    "m_count = 0\n",
    "d_count = 0\n",
    "ap_m_count = 0\n",
    "ap_d_count = 0\n",
    "m_d_count = 0\n",
    "ap_m_d_count = 0\n",
    "none_count = 0\n",
    "for w in w_dict:\n",
    "    links = w_dict[w]\n",
    "    if links[\"ap\"] and links[\"mitigations\"] and links[\"detections\"]:\n",
    "        ap_m_d_count += 1\n",
    "    elif links[\"ap\"] and links[\"mitigations\"]:\n",
    "        ap_m_count += 1\n",
    "    elif links[\"ap\"] and links[\"detections\"]:\n",
    "        ap_d_count += 1\n",
    "    elif links[\"mitigations\"] and links[\"detections\"]:\n",
    "        m_d_count += 1\n",
    "    elif links[\"ap\"]:\n",
    "        ap_count += 1\n",
    "    elif links[\"mitigations\"]:\n",
    "        m_count += 1\n",
    "    elif links[\"detections\"]:\n",
    "        d_count += 1\n",
    "    else:\n",
    "        none_count += 1\n",
    "\n",
    "print(\"none count \", none_count)\n",
    "print(\"ap count \", ap_count)\n",
    "print(\"m count \", m_count)\n",
    "print(\"d count \", d_count)\n",
    "print(\"ap m count \", ap_m_count)\n",
    "print(\"ap d count \", ap_d_count)\n",
    "print(\"m d count \", m_d_count)\n",
    "print(\"ap m d count \", ap_m_d_count)"
   ]
  },
  {
   "cell_type": "code",
   "execution_count": 7,
   "metadata": {
    "execution": {
     "iopub.execute_input": "2022-05-30T09:15:41.550422Z",
     "iopub.status.busy": "2022-05-30T09:15:41.544780Z",
     "iopub.status.idle": "2022-05-30T09:15:41.567640Z",
     "shell.execute_reply": "2022-05-30T09:15:41.566733Z"
    }
   },
   "outputs": [
    {
     "name": "stdout",
     "output_type": "stream",
     "text": [
      "w count  93\n",
      "m count  53\n",
      "d count  0\n",
      "tech count  7\n",
      "w m count  200\n",
      "w d count  0\n",
      "w tech count  11\n",
      "m d count  3\n",
      "m tech count  10\n",
      "d tech count  0\n",
      "w m d count  39\n",
      "w m tech count  52\n",
      "m d tech count  1\n",
      "w d tech count  0\n",
      "w m d tech count  10\n",
      "none count  67\n"
     ]
    }
   ],
   "source": [
    "w_count = 0\n",
    "m_count = 0\n",
    "d_count = 0\n",
    "tech_count = 0\n",
    "w_m_count = 0\n",
    "w_d_count = 0\n",
    "w_tech_count = 0\n",
    "m_d_count = 0\n",
    "m_tech_count = 0\n",
    "d_tech_count = 0\n",
    "w_m_d_count = 0\n",
    "w_m_tech_count = 0\n",
    "m_d_tech_count = 0\n",
    "w_d_tech_count = 0\n",
    "w_m_d_tech_count = 0\n",
    "none_count = 0\n",
    "\n",
    "for ap in ap_dict:\n",
    "    links = ap_dict[ap]\n",
    "    if (\n",
    "        links[\"cwes\"]\n",
    "        and links[\"mitigations\"]\n",
    "        and links[\"detections\"]\n",
    "        and links[\"techniques\"]\n",
    "    ):\n",
    "        w_m_d_tech_count += 1\n",
    "    elif links[\"cwes\"] and links[\"mitigations\"] and links[\"detections\"]:\n",
    "        w_m_d_count += 1\n",
    "    elif links[\"cwes\"] and links[\"mitigations\"] and links[\"techniques\"]:\n",
    "        w_m_tech_count += 1\n",
    "    elif links[\"cwes\"] and links[\"detections\"] and links[\"techniques\"]:\n",
    "        w_d_tech_count += 1\n",
    "    elif links[\"mitigations\"] and links[\"detections\"] and links[\"techniques\"]:\n",
    "        m_d_tech_count += 1\n",
    "    elif links[\"cwes\"] and links[\"mitigations\"]:\n",
    "        w_m_count += 1\n",
    "    elif links[\"cwes\"] and links[\"detections\"]:\n",
    "        w_d_count += 1\n",
    "    elif links[\"cwes\"] and links[\"techniques\"]:\n",
    "        w_tech_count += 1\n",
    "    elif links[\"detections\"] and links[\"techniques\"]:\n",
    "        d_tech_count += 1\n",
    "    elif links[\"mitigations\"] and links[\"techniques\"]:\n",
    "        m_tech_count += 1\n",
    "    elif links[\"mitigations\"] and links[\"detections\"]:\n",
    "        m_d_count += 1\n",
    "    elif links[\"cwes\"]:\n",
    "        w_count += 1\n",
    "    elif links[\"mitigations\"]:\n",
    "        m_count += 1\n",
    "    elif links[\"detections\"]:\n",
    "        d_count += 1\n",
    "    elif links[\"techniques\"]:\n",
    "        tech_count += 1\n",
    "    else:\n",
    "        none_count += 1\n",
    "\n",
    "print(\"w count \", w_count)\n",
    "print(\"m count \", m_count)\n",
    "print(\"d count \", d_count)\n",
    "print(\"tech count \", tech_count)\n",
    "print(\"w m count \", w_m_count)\n",
    "print(\"w d count \", w_d_count)\n",
    "print(\"w tech count \", w_tech_count)\n",
    "print(\"m d count \", m_d_count)\n",
    "print(\"m tech count \", m_tech_count)\n",
    "print(\"d tech count \", d_tech_count)\n",
    "print(\"w m d count \", w_m_d_count)\n",
    "print(\"w m tech count \", w_m_tech_count)\n",
    "print(\"m d tech count \", m_d_tech_count)\n",
    "print(\"w d tech count \", w_d_tech_count)\n",
    "print(\"w m d tech count \", w_m_d_tech_count)\n",
    "print(\"none count \", none_count)"
   ]
  },
  {
   "cell_type": "code",
   "execution_count": 8,
   "metadata": {
    "execution": {
     "iopub.execute_input": "2022-05-30T09:15:41.578509Z",
     "iopub.status.busy": "2022-05-30T09:15:41.577499Z",
     "iopub.status.idle": "2022-05-30T09:15:41.581829Z",
     "shell.execute_reply": "2022-05-30T09:15:41.580909Z"
    }
   },
   "outputs": [],
   "source": [
    "for technique in technique_dict:\n",
    "    technique_dict[technique][\"ap\"] = []\n",
    "    technique_dict[technique][\"d3fend\"] = []\n",
    "    technique_dict[technique][\"engage\"] = []\n",
    "\n",
    "for ap in ap_dict:\n",
    "    for technique in ap_dict[ap][\"techniques\"]:\n",
    "        technique_dict[technique][\"ap\"].append(ap)\n",
    "\n",
    "for d3fend_tech in d3fend_technique:\n",
    "    technique = d3fend_tech[\"_from\"]\n",
    "    d3fend = d3fend_tech[\"_to\"]\n",
    "    technique_dict[technique][\"d3fend\"].append(d3fend)\n",
    "\n",
    "for engage_tech in engage_technique:\n",
    "    technique = engage_tech[\"_from\"]\n",
    "    engage = engage_tech[\"_to\"]\n",
    "    technique_dict[technique][\"engage\"].append(engage)"
   ]
  },
  {
   "cell_type": "code",
   "execution_count": 9,
   "metadata": {
    "execution": {
     "iopub.execute_input": "2022-05-30T09:15:41.599748Z",
     "iopub.status.busy": "2022-05-30T09:15:41.596495Z",
     "iopub.status.idle": "2022-05-30T09:15:41.608352Z",
     "shell.execute_reply": "2022-05-30T09:15:41.609398Z"
    }
   },
   "outputs": [
    {
     "data": {
      "text/plain": [
       "{'mitigations_detections_tactics_engage': 104,\n",
       " 'mitigations_detections_tactics': 243,\n",
       " 'mitigations_detections_tactics_d3fend_engage': 10,\n",
       " 'mitigations_detections_tactics_d3fend': 46,\n",
       " 'detections_tactics_engage': 17,\n",
       " 'ap_detections_tactics_engage': 20,\n",
       " 'detections_tactics': 40,\n",
       " 'ap_mitigations_detections_tactics': 36,\n",
       " 'ap_mitigations_detections_tactics_engage': 18,\n",
       " 'ap_detections_tactics': 6,\n",
       " 'detections_tactics_d3fend': 4,\n",
       " 'ap_mitigations_detections_tactics_d3fend': 15,\n",
       " 'ap_detections_tactics_d3fend': 1,\n",
       " 'ap_mitigations_detections_tactics_d3fend_engage': 5,\n",
       " 'detections_tactics_d3fend_engage': 1}"
      ]
     },
     "execution_count": 1,
     "metadata": {},
     "output_type": "execute_result"
    }
   ],
   "source": [
    "counts_dict = {}\n",
    "\n",
    "for technique in technique_dict:\n",
    "    links = technique_dict[technique]\n",
    "    str = []\n",
    "    if links[\"ap\"]:\n",
    "        str.append(\"ap\")\n",
    "    if links[\"mitigations\"]:\n",
    "        str.append(\"mitigations\")\n",
    "    if links[\"detections\"]:\n",
    "        str.append(\"detections\")\n",
    "    if links[\"tactics\"]:\n",
    "        str.append(\"tactics\")\n",
    "    if links[\"d3fend\"]:\n",
    "        str.append(\"d3fend\")\n",
    "    if links[\"engage\"]:\n",
    "        str.append(\"engage\")\n",
    "\n",
    "    str = \"_\".join(str)\n",
    "\n",
    "    if str in counts_dict:\n",
    "        counts_dict[str] += 1\n",
    "    else:\n",
    "        counts_dict[str] = 1\n",
    "\n",
    "counts_dict"
   ]
  },
  {
   "cell_type": "code",
   "execution_count": 10,
   "metadata": {
    "execution": {
     "iopub.execute_input": "2022-05-30T09:15:41.617274Z",
     "iopub.status.busy": "2022-05-30T09:15:41.616103Z",
     "iopub.status.idle": "2022-05-30T09:15:41.629391Z",
     "shell.execute_reply": "2022-05-30T09:15:41.630783Z"
    }
   },
   "outputs": [],
   "source": [
    "f = open(\"cwe_temp.json\")\n",
    "cwe = json.load(f)"
   ]
  },
  {
   "cell_type": "code",
   "execution_count": 11,
   "metadata": {
    "execution": {
     "iopub.execute_input": "2022-05-30T09:15:41.643216Z",
     "iopub.status.busy": "2022-05-30T09:15:41.641638Z",
     "iopub.status.idle": "2022-05-30T09:15:41.647575Z",
     "shell.execute_reply": "2022-05-30T09:15:41.646406Z"
    }
   },
   "outputs": [],
   "source": [
    "top_25_cwes = [\n",
    "    \"79\",\n",
    "    \"787\",\n",
    "    \"20\",\n",
    "    \"125\",\n",
    "    \"119\",\n",
    "    \"89\",\n",
    "    \"200\",\n",
    "    \"416\",\n",
    "    \"352\",\n",
    "    \"78\",\n",
    "    \"190\",\n",
    "    \"22\",\n",
    "    \"476\",\n",
    "    \"287\",\n",
    "    \"434\",\n",
    "    \"732\",\n",
    "    \"94\",\n",
    "    \"522\",\n",
    "    \"611\",\n",
    "    \"798\",\n",
    "    \"502\",\n",
    "    \"269\",\n",
    "    \"400\",\n",
    "    \"306\",\n",
    "    \"862\",\n",
    "]\n",
    "\n",
    "bron_to_original_ids = {}\n",
    "\n",
    "for w in cwe:\n",
    "    if w[\"original_id\"] in top_25_cwes:\n",
    "        bron_to_original_ids[w[\"_id\"]] = w[\"original_id\"]"
   ]
  },
  {
   "cell_type": "code",
   "execution_count": 12,
   "metadata": {
    "execution": {
     "iopub.execute_input": "2022-05-30T09:15:41.668549Z",
     "iopub.status.busy": "2022-05-30T09:15:41.658604Z",
     "iopub.status.idle": "2022-05-30T09:15:41.673921Z",
     "shell.execute_reply": "2022-05-30T09:15:41.672332Z"
    }
   },
   "outputs": [],
   "source": [
    "original_to_counts = {}\n",
    "for cwe_id in bron_to_original_ids:\n",
    "    num_mitigations = len(w_dict[cwe_id][\"mitigations\"])\n",
    "    num_detections = len(w_dict[cwe_id][\"detections\"])\n",
    "    num_aps = len(w_dict[cwe_id][\"ap\"])\n",
    "    ap_mitigations = set()\n",
    "    ap_detections = set()\n",
    "    techniques = set()\n",
    "    tech_mitigations = set()\n",
    "    tech_detections = set()\n",
    "    tactics = set()\n",
    "    d3fends = set()\n",
    "    engages = set()\n",
    "\n",
    "    for ap in w_dict[cwe_id][\"ap\"]:\n",
    "        for mitigation in ap_dict[ap][\"mitigations\"]:\n",
    "            ap_mitigations.add(mitigation)\n",
    "        for detection in ap_dict[ap][\"detections\"]:\n",
    "            ap_detections.add(detection)\n",
    "        for technique in ap_dict[ap][\"techniques\"]:\n",
    "            techniques.add(technique)\n",
    "            for tactic in technique_dict[technique][\"tactics\"]:\n",
    "                tactics.add(tactic)\n",
    "            for mitigation in technique_dict[technique][\"mitigations\"]:\n",
    "                tech_mitigations.add(mitigation)\n",
    "            for detection in technique_dict[technique][\"detections\"]:\n",
    "                tech_detections.add(detection)\n",
    "            for d3fend in technique_dict[technique][\"d3fend\"]:\n",
    "                d3fends.add(d3fend)\n",
    "            for engage in technique_dict[technique][\"engage\"]:\n",
    "                engages.add(engage)\n",
    "\n",
    "    original_to_counts[bron_to_original_ids[cwe_id]] = {\n",
    "        \"name\": w_dict[cwe_id][\"name\"],\n",
    "        \"cwe mitigations\": num_mitigations,\n",
    "        \"cwe detections\": num_detections,\n",
    "        \"aps\": num_aps,\n",
    "        \"techniques\": len(techniques),\n",
    "        \"tactics\": len(tactics),\n",
    "        \"ap mitigations\": len(ap_mitigations),\n",
    "        \"ap detections\": len(ap_detections),\n",
    "        \"technique mitigations\": len(tech_mitigations),\n",
    "        \"technique detections\": len(tech_detections),\n",
    "        \"d3fend\": len(d3fends),\n",
    "        \"engage\": len(engages),\n",
    "    }"
   ]
  },
  {
   "cell_type": "code",
   "execution_count": 13,
   "metadata": {
    "execution": {
     "iopub.execute_input": "2022-05-30T09:15:41.688713Z",
     "iopub.status.busy": "2022-05-30T09:15:41.687366Z",
     "iopub.status.idle": "2022-05-30T09:15:41.691541Z",
     "shell.execute_reply": "2022-05-30T09:15:41.692568Z"
    }
   },
   "outputs": [],
   "source": [
    "mitigation_to_name = {}\n",
    "for mitigation in w_mitigation:\n",
    "    mitigation_to_name[mitigation[\"_id\"]] = mitigation[\"metadata\"][\"Description\"]\n",
    "for mitigation in ap_mitigation:\n",
    "    mitigation_to_name[mitigation[\"_id\"]] = mitigation[\"metadata\"]\n",
    "for mitigation in technique_mitigation:\n",
    "    mitigation_to_name[mitigation[\"_id\"]] = mitigation[\"name\"]\n",
    "for detection in w_detection:\n",
    "    mitigation_to_name[detection[\"_id\"]] = detection[\"metadata\"][\"Description\"]\n",
    "for detection in ap_detection:\n",
    "    mitigation_to_name[detection[\"_id\"]] = detection[\"metadata\"]\n",
    "for detection in technique_detection:\n",
    "    mitigation_to_name[detection[\"_id\"]] = detection[\"name\"]"
   ]
  },
  {
   "cell_type": "code",
   "execution_count": 14,
   "metadata": {
    "execution": {
     "iopub.execute_input": "2022-05-30T09:15:41.700105Z",
     "iopub.status.busy": "2022-05-30T09:15:41.698861Z",
     "iopub.status.idle": "2022-05-30T09:15:42.544006Z",
     "shell.execute_reply": "2022-05-30T09:15:42.543014Z"
    }
   },
   "outputs": [
    {
     "data": {
      "text/plain": [
       "CountVectorizer()"
      ]
     },
     "execution_count": 1,
     "metadata": {},
     "output_type": "execute_result"
    }
   ],
   "source": [
    "from sklearn.feature_extraction.text import CountVectorizer\n",
    "\n",
    "vectorizer = CountVectorizer()\n",
    "vectorizer.fit(mitigation_to_name.values())"
   ]
  },
  {
   "cell_type": "code",
   "execution_count": 15,
   "metadata": {
    "execution": {
     "iopub.execute_input": "2022-05-30T09:15:42.559268Z",
     "iopub.status.busy": "2022-05-30T09:15:42.557998Z",
     "iopub.status.idle": "2022-05-30T09:15:42.652065Z",
     "shell.execute_reply": "2022-05-30T09:15:42.650684Z"
    }
   },
   "outputs": [],
   "source": [
    "from sklearn.metrics.pairwise import cosine_similarity\n",
    "import numpy as np\n",
    "\n",
    "# heatmap where each entry is a cwe/capec/technique mitigation/detection\n",
    "heatmaps = {}  # dictionary where key is the cwe, value is the heatmap\n",
    "mean_similarities = {}\n",
    "for cwe_id in bron_to_original_ids:\n",
    "    entries = []\n",
    "\n",
    "    for mitigation in w_dict[cwe_id][\"mitigations\"]:\n",
    "        entries.append(mitigation_to_name[mitigation])\n",
    "\n",
    "    for detection in w_dict[cwe_id][\"detections\"]:\n",
    "        entries.append(mitigation_to_name[detection])\n",
    "\n",
    "    for ap in w_dict[cwe_id][\"ap\"]:\n",
    "        for mitigation in ap_dict[ap][\"mitigations\"]:\n",
    "            entries.append(mitigation_to_name[mitigation])\n",
    "        for detection in ap_dict[ap][\"detections\"]:\n",
    "            entries.append(mitigation_to_name[detection])\n",
    "        for technique in ap_dict[ap][\"techniques\"]:\n",
    "            for mitigation in technique_dict[technique][\"mitigations\"]:\n",
    "                entries.append(mitigation_to_name[mitigation])\n",
    "            for detection in technique_dict[technique][\"detections\"]:\n",
    "                entries.append(mitigation_to_name[detection])\n",
    "\n",
    "    entries_vectors = vectorizer.transform(entries)\n",
    "    similarities = cosine_similarity(entries_vectors)\n",
    "    heatmaps[bron_to_original_ids[cwe_id]] = similarities\n",
    "    mean_similarities[bron_to_original_ids[cwe_id]] = np.mean(similarities)"
   ]
  },
  {
   "cell_type": "code",
   "execution_count": 16,
   "metadata": {
    "execution": {
     "iopub.execute_input": "2022-05-30T09:15:42.660321Z",
     "iopub.status.busy": "2022-05-30T09:15:42.658991Z",
     "iopub.status.idle": "2022-05-30T09:15:42.666108Z",
     "shell.execute_reply": "2022-05-30T09:15:42.665069Z"
    }
   },
   "outputs": [
    {
     "data": {
      "text/plain": [
       "{'119': 0.15000819698111878,\n",
       " '125': 0.5572464283431939,\n",
       " '190': 0.23152754479156368,\n",
       " '20': 0.12965021209056113,\n",
       " '200': 0.075194728152497,\n",
       " '22': 0.17668629097708896,\n",
       " '269': 0.265129651875953,\n",
       " '287': 0.08054546441561836,\n",
       " '306': 0.3038850463558885,\n",
       " '352': 0.27530166894605135,\n",
       " '400': 0.2926472924003023,\n",
       " '416': 0.4999999999999999,\n",
       " '434': 0.2979105938632938,\n",
       " '476': 0.3064559261952648,\n",
       " '502': 0.2272226738107639,\n",
       " '522': 0.07652275369318233,\n",
       " '611': 0.6646069803786536,\n",
       " '732': 0.15927602226627402,\n",
       " '78': 0.23016457066627605,\n",
       " '787': 0.3431407306778413,\n",
       " '79': 0.1982833552813999,\n",
       " '798': 0.23463929577165868,\n",
       " '862': 0.19896501216288945,\n",
       " '89': 0.26012107283382385,\n",
       " '94': 0.19252763909155768}"
      ]
     },
     "execution_count": 1,
     "metadata": {},
     "output_type": "execute_result"
    }
   ],
   "source": [
    "mean_similarities"
   ]
  },
  {
   "cell_type": "code",
   "execution_count": 17,
   "metadata": {
    "execution": {
     "iopub.execute_input": "2022-05-30T09:15:42.673340Z",
     "iopub.status.busy": "2022-05-30T09:15:42.672139Z",
     "iopub.status.idle": "2022-05-30T09:15:42.680436Z",
     "shell.execute_reply": "2022-05-30T09:15:42.679060Z"
    }
   },
   "outputs": [
    {
     "data": {
      "text/plain": [
       "dict_keys(['119', '125', '190', '20', '200', '22', '269', '287', '306', '352', '400', '416', '434', '476', '502', '522', '611', '732', '78', '787', '79', '798', '862', '89', '94'])"
      ]
     },
     "execution_count": 1,
     "metadata": {},
     "output_type": "execute_result"
    }
   ],
   "source": [
    "heatmaps.keys()"
   ]
  },
  {
   "cell_type": "code",
   "execution_count": 18,
   "metadata": {
    "execution": {
     "iopub.execute_input": "2022-05-30T09:15:42.689326Z",
     "iopub.status.busy": "2022-05-30T09:15:42.687964Z",
     "iopub.status.idle": "2022-05-30T09:15:44.006729Z",
     "shell.execute_reply": "2022-05-30T09:15:44.007822Z"
    }
   },
   "outputs": [
    {
     "data": {
      "text/plain": [
       "<AxesSubplot:>"
      ]
     },
     "execution_count": 1,
     "metadata": {},
     "output_type": "execute_result"
    },
    {
     "data": {
      "image/png": "[encoded data removed]",
      "text/plain": [
       "<Figure size 432x288 with 2 Axes>"
      ]
     },
     "metadata": {
      "needs_background": "light"
     },
     "output_type": "display_data"
    }
   ],
   "source": [
    "import seaborn as sns\n",
    "\n",
    "sns.heatmap(heatmaps[\"119\"])"
   ]
  },
  {
   "cell_type": "code",
   "execution_count": 19,
   "metadata": {
    "execution": {
     "iopub.execute_input": "2022-05-30T09:15:44.020058Z",
     "iopub.status.busy": "2022-05-30T09:15:44.018635Z",
     "iopub.status.idle": "2022-05-30T09:15:46.759188Z",
     "shell.execute_reply": "2022-05-30T09:15:46.760337Z"
    }
   },
   "outputs": [],
   "source": [
    "import pandas as pd\n",
    "\n",
    "spaCy_probs = pd.read_csv(\"link_probs_spaCy_cwe_capec.csv\")\n",
    "BoW_probs = pd.read_csv(\"link_probs_BoW_spaCy_cwe_capec.csv\")\n",
    "BERT_probs = pd.read_csv(\"link_probs_BERT_cwe_capec.csv\")\n",
    "\n",
    "BoW_probs.drop(columns=\"spaCy link probability\", inplace=True)\n",
    "\n",
    "df = BoW_probs.merge(spaCy_probs, on=[\"CAPEC\", \"CWE\", \"CAPEC name\", \"CWE name\"])\n",
    "df = df.merge(BERT_probs, on=[\"CAPEC\", \"CWE\", \"CAPEC name\", \"CWE name\"])"
   ]
  },
  {
   "cell_type": "code",
   "execution_count": 20,
   "metadata": {
    "execution": {
     "iopub.execute_input": "2022-05-30T09:15:46.770772Z",
     "iopub.status.busy": "2022-05-30T09:15:46.769236Z",
     "iopub.status.idle": "2022-05-30T09:15:46.838399Z",
     "shell.execute_reply": "2022-05-30T09:15:46.837152Z"
    }
   },
   "outputs": [],
   "source": [
    "df[\"threshold\"] = df[\n",
    "    [\"BoW link probability\", \"spaCy link probability\", \"BERT link probability\"]\n",
    "].min(axis=1)"
   ]
  },
  {
   "cell_type": "code",
   "execution_count": 21,
   "metadata": {
    "execution": {
     "iopub.execute_input": "2022-05-30T09:15:46.926340Z",
     "iopub.status.busy": "2022-05-30T09:15:46.924966Z",
     "iopub.status.idle": "2022-05-30T09:15:46.946581Z",
     "shell.execute_reply": "2022-05-30T09:15:46.945197Z"
    }
   },
   "outputs": [
    {
     "data": {
      "text/plain": [
       "184"
      ]
     },
     "execution_count": 1,
     "metadata": {},
     "output_type": "execute_result"
    }
   ],
   "source": [
    "cwes = list(bron_to_original_ids.keys())\n",
    "for i in range(len(cwes)):\n",
    "    cwes[i] = cwes[i].split(\"/\")[1]\n",
    "\n",
    "top_25_df = df[df[\"CWE\"].isin(cwes)]\n",
    "top_25_df_over_90 = top_25_df[top_25_df[\"threshold\"] >= 0.9]\n",
    "len(top_25_df_over_90)"
   ]
  },
  {
   "cell_type": "code",
   "execution_count": 22,
   "metadata": {
    "execution": {
     "iopub.execute_input": "2022-05-30T09:15:46.955203Z",
     "iopub.status.busy": "2022-05-30T09:15:46.953810Z",
     "iopub.status.idle": "2022-05-30T09:15:47.188042Z",
     "shell.execute_reply": "2022-05-30T09:15:47.189218Z"
    }
   },
   "outputs": [
    {
     "data": {
      "text/plain": [
       "<AxesSubplot:>"
      ]
     },
     "execution_count": 1,
     "metadata": {},
     "output_type": "execute_result"
    },
    {
     "data": {
      "image/png": "[encoded data removed]",
      "text/plain": [
       "<Figure size 432x288 with 1 Axes>"
      ]
     },
     "metadata": {
      "needs_background": "light"
     },
     "output_type": "display_data"
    }
   ],
   "source": [
    "top_25_df[\"threshold\"].hist()"
   ]
  },
  {
   "cell_type": "code",
   "execution_count": 23,
   "metadata": {
    "execution": {
     "iopub.execute_input": "2022-05-30T09:15:47.204610Z",
     "iopub.status.busy": "2022-05-30T09:15:47.203319Z",
     "iopub.status.idle": "2022-05-30T09:15:47.207303Z",
     "shell.execute_reply": "2022-05-30T09:15:47.208239Z"
    }
   },
   "outputs": [],
   "source": [
    "import pandas as pd\n",
    "\n",
    "cwe_table = pd.DataFrame(original_to_counts).T\n",
    "cwe_table = cwe_table[\n",
    "    [\n",
    "        \"name\",\n",
    "        \"cwe mitigations\",\n",
    "        \"cwe detections\",\n",
    "        \"aps\",\n",
    "        \"ap mitigations\",\n",
    "        \"ap detections\",\n",
    "        \"techniques\",\n",
    "        \"technique mitigations\",\n",
    "        \"technique detections\",\n",
    "        \"tactics\",\n",
    "        \"d3fend\",\n",
    "        \"engage\",\n",
    "    ]\n",
    "]"
   ]
  },
  {
   "cell_type": "code",
   "execution_count": 24,
   "metadata": {
    "execution": {
     "iopub.execute_input": "2022-05-30T09:15:47.217956Z",
     "iopub.status.busy": "2022-05-30T09:15:47.217012Z",
     "iopub.status.idle": "2022-05-30T09:15:47.358539Z",
     "shell.execute_reply": "2022-05-30T09:15:47.359207Z"
    }
   },
   "outputs": [
    {
     "data": {
      "text/html": [
       "<style  type=\"text/css\" >\n",
       "</style><table id=\"T_175a2bf0_dff9_11ec_9669_fa163ee081a9\" ><thead>    <tr>        <th class=\"col_heading level0 col0\" >cwe id</th>        <th class=\"col_heading level0 col1\" >name</th>        <th class=\"col_heading level0 col2\" >cwe mitigations</th>        <th class=\"col_heading level0 col3\" >cwe detections</th>        <th class=\"col_heading level0 col4\" >aps</th>        <th class=\"col_heading level0 col5\" >ap mitigations</th>        <th class=\"col_heading level0 col6\" >ap detections</th>        <th class=\"col_heading level0 col7\" >techniques</th>        <th class=\"col_heading level0 col8\" >technique mitigations</th>        <th class=\"col_heading level0 col9\" >technique detections</th>        <th class=\"col_heading level0 col10\" >tactics</th>        <th class=\"col_heading level0 col11\" >d3fend</th>        <th class=\"col_heading level0 col12\" >engage</th>    </tr></thead><tbody>\n",
       "                <tr>\n",
       "                                <td id=\"T_175a2bf0_dff9_11ec_9669_fa163ee081a9row0_col0\" class=\"data row0 col0\" >119</td>\n",
       "                        <td id=\"T_175a2bf0_dff9_11ec_9669_fa163ee081a9row0_col1\" class=\"data row0 col1\" >Improper Restriction of Operations within the Bounds of a Memory Buffer</td>\n",
       "                        <td id=\"T_175a2bf0_dff9_11ec_9669_fa163ee081a9row0_col2\" class=\"data row0 col2\" >7</td>\n",
       "                        <td id=\"T_175a2bf0_dff9_11ec_9669_fa163ee081a9row0_col3\" class=\"data row0 col3\" >9</td>\n",
       "                        <td id=\"T_175a2bf0_dff9_11ec_9669_fa163ee081a9row0_col4\" class=\"data row0 col4\" >12</td>\n",
       "                        <td id=\"T_175a2bf0_dff9_11ec_9669_fa163ee081a9row0_col5\" class=\"data row0 col5\" >59</td>\n",
       "                        <td id=\"T_175a2bf0_dff9_11ec_9669_fa163ee081a9row0_col6\" class=\"data row0 col6\" >6</td>\n",
       "                        <td id=\"T_175a2bf0_dff9_11ec_9669_fa163ee081a9row0_col7\" class=\"data row0 col7\" >0</td>\n",
       "                        <td id=\"T_175a2bf0_dff9_11ec_9669_fa163ee081a9row0_col8\" class=\"data row0 col8\" >0</td>\n",
       "                        <td id=\"T_175a2bf0_dff9_11ec_9669_fa163ee081a9row0_col9\" class=\"data row0 col9\" >0</td>\n",
       "                        <td id=\"T_175a2bf0_dff9_11ec_9669_fa163ee081a9row0_col10\" class=\"data row0 col10\" >0</td>\n",
       "                        <td id=\"T_175a2bf0_dff9_11ec_9669_fa163ee081a9row0_col11\" class=\"data row0 col11\" >0</td>\n",
       "                        <td id=\"T_175a2bf0_dff9_11ec_9669_fa163ee081a9row0_col12\" class=\"data row0 col12\" >0</td>\n",
       "            </tr>\n",
       "            <tr>\n",
       "                                <td id=\"T_175a2bf0_dff9_11ec_9669_fa163ee081a9row1_col0\" class=\"data row1 col0\" >125</td>\n",
       "                        <td id=\"T_175a2bf0_dff9_11ec_9669_fa163ee081a9row1_col1\" class=\"data row1 col1\" >Out-of-bounds Read</td>\n",
       "                        <td id=\"T_175a2bf0_dff9_11ec_9669_fa163ee081a9row1_col2\" class=\"data row1 col2\" >2</td>\n",
       "                        <td id=\"T_175a2bf0_dff9_11ec_9669_fa163ee081a9row1_col3\" class=\"data row1 col3\" >0</td>\n",
       "                        <td id=\"T_175a2bf0_dff9_11ec_9669_fa163ee081a9row1_col4\" class=\"data row1 col4\" >1</td>\n",
       "                        <td id=\"T_175a2bf0_dff9_11ec_9669_fa163ee081a9row1_col5\" class=\"data row1 col5\" >0</td>\n",
       "                        <td id=\"T_175a2bf0_dff9_11ec_9669_fa163ee081a9row1_col6\" class=\"data row1 col6\" >0</td>\n",
       "                        <td id=\"T_175a2bf0_dff9_11ec_9669_fa163ee081a9row1_col7\" class=\"data row1 col7\" >0</td>\n",
       "                        <td id=\"T_175a2bf0_dff9_11ec_9669_fa163ee081a9row1_col8\" class=\"data row1 col8\" >0</td>\n",
       "                        <td id=\"T_175a2bf0_dff9_11ec_9669_fa163ee081a9row1_col9\" class=\"data row1 col9\" >0</td>\n",
       "                        <td id=\"T_175a2bf0_dff9_11ec_9669_fa163ee081a9row1_col10\" class=\"data row1 col10\" >0</td>\n",
       "                        <td id=\"T_175a2bf0_dff9_11ec_9669_fa163ee081a9row1_col11\" class=\"data row1 col11\" >0</td>\n",
       "                        <td id=\"T_175a2bf0_dff9_11ec_9669_fa163ee081a9row1_col12\" class=\"data row1 col12\" >0</td>\n",
       "            </tr>\n",
       "            <tr>\n",
       "                                <td id=\"T_175a2bf0_dff9_11ec_9669_fa163ee081a9row2_col0\" class=\"data row2 col0\" >190</td>\n",
       "                        <td id=\"T_175a2bf0_dff9_11ec_9669_fa163ee081a9row2_col1\" class=\"data row2 col1\" >Integer Overflow or Wraparound</td>\n",
       "                        <td id=\"T_175a2bf0_dff9_11ec_9669_fa163ee081a9row2_col2\" class=\"data row2 col2\" >7</td>\n",
       "                        <td id=\"T_175a2bf0_dff9_11ec_9669_fa163ee081a9row2_col3\" class=\"data row2 col3\" >8</td>\n",
       "                        <td id=\"T_175a2bf0_dff9_11ec_9669_fa163ee081a9row2_col4\" class=\"data row2 col4\" >1</td>\n",
       "                        <td id=\"T_175a2bf0_dff9_11ec_9669_fa163ee081a9row2_col5\" class=\"data row2 col5\" >4</td>\n",
       "                        <td id=\"T_175a2bf0_dff9_11ec_9669_fa163ee081a9row2_col6\" class=\"data row2 col6\" >0</td>\n",
       "                        <td id=\"T_175a2bf0_dff9_11ec_9669_fa163ee081a9row2_col7\" class=\"data row2 col7\" >0</td>\n",
       "                        <td id=\"T_175a2bf0_dff9_11ec_9669_fa163ee081a9row2_col8\" class=\"data row2 col8\" >0</td>\n",
       "                        <td id=\"T_175a2bf0_dff9_11ec_9669_fa163ee081a9row2_col9\" class=\"data row2 col9\" >0</td>\n",
       "                        <td id=\"T_175a2bf0_dff9_11ec_9669_fa163ee081a9row2_col10\" class=\"data row2 col10\" >0</td>\n",
       "                        <td id=\"T_175a2bf0_dff9_11ec_9669_fa163ee081a9row2_col11\" class=\"data row2 col11\" >0</td>\n",
       "                        <td id=\"T_175a2bf0_dff9_11ec_9669_fa163ee081a9row2_col12\" class=\"data row2 col12\" >0</td>\n",
       "            </tr>\n",
       "            <tr>\n",
       "                                <td id=\"T_175a2bf0_dff9_11ec_9669_fa163ee081a9row3_col0\" class=\"data row3 col0\" >20</td>\n",
       "                        <td id=\"T_175a2bf0_dff9_11ec_9669_fa163ee081a9row3_col1\" class=\"data row3 col1\" >Improper Input Validation</td>\n",
       "                        <td id=\"T_175a2bf0_dff9_11ec_9669_fa163ee081a9row3_col2\" class=\"data row3 col2\" >10</td>\n",
       "                        <td id=\"T_175a2bf0_dff9_11ec_9669_fa163ee081a9row3_col3\" class=\"data row3 col3\" >10</td>\n",
       "                        <td id=\"T_175a2bf0_dff9_11ec_9669_fa163ee081a9row3_col4\" class=\"data row3 col4\" >51</td>\n",
       "                        <td id=\"T_175a2bf0_dff9_11ec_9669_fa163ee081a9row3_col5\" class=\"data row3 col5\" >191</td>\n",
       "                        <td id=\"T_175a2bf0_dff9_11ec_9669_fa163ee081a9row3_col6\" class=\"data row3 col6\" >25</td>\n",
       "                        <td id=\"T_175a2bf0_dff9_11ec_9669_fa163ee081a9row3_col7\" class=\"data row3 col7\" >4</td>\n",
       "                        <td id=\"T_175a2bf0_dff9_11ec_9669_fa163ee081a9row3_col8\" class=\"data row3 col8\" >7</td>\n",
       "                        <td id=\"T_175a2bf0_dff9_11ec_9669_fa163ee081a9row3_col9\" class=\"data row3 col9\" >4</td>\n",
       "                        <td id=\"T_175a2bf0_dff9_11ec_9669_fa163ee081a9row3_col10\" class=\"data row3 col10\" >3</td>\n",
       "                        <td id=\"T_175a2bf0_dff9_11ec_9669_fa163ee081a9row3_col11\" class=\"data row3 col11\" >0</td>\n",
       "                        <td id=\"T_175a2bf0_dff9_11ec_9669_fa163ee081a9row3_col12\" class=\"data row3 col12\" >4</td>\n",
       "            </tr>\n",
       "            <tr>\n",
       "                                <td id=\"T_175a2bf0_dff9_11ec_9669_fa163ee081a9row4_col0\" class=\"data row4 col0\" >200</td>\n",
       "                        <td id=\"T_175a2bf0_dff9_11ec_9669_fa163ee081a9row4_col1\" class=\"data row4 col1\" >Exposure of Sensitive Information to an Unauthorized Actor</td>\n",
       "                        <td id=\"T_175a2bf0_dff9_11ec_9669_fa163ee081a9row4_col2\" class=\"data row4 col2\" >1</td>\n",
       "                        <td id=\"T_175a2bf0_dff9_11ec_9669_fa163ee081a9row4_col3\" class=\"data row4 col3\" >6</td>\n",
       "                        <td id=\"T_175a2bf0_dff9_11ec_9669_fa163ee081a9row4_col4\" class=\"data row4 col4\" >59</td>\n",
       "                        <td id=\"T_175a2bf0_dff9_11ec_9669_fa163ee081a9row4_col5\" class=\"data row4 col5\" >60</td>\n",
       "                        <td id=\"T_175a2bf0_dff9_11ec_9669_fa163ee081a9row4_col6\" class=\"data row4 col6\" >3</td>\n",
       "                        <td id=\"T_175a2bf0_dff9_11ec_9669_fa163ee081a9row4_col7\" class=\"data row4 col7\" >18</td>\n",
       "                        <td id=\"T_175a2bf0_dff9_11ec_9669_fa163ee081a9row4_col8\" class=\"data row4 col8\" >9</td>\n",
       "                        <td id=\"T_175a2bf0_dff9_11ec_9669_fa163ee081a9row4_col9\" class=\"data row4 col9\" >18</td>\n",
       "                        <td id=\"T_175a2bf0_dff9_11ec_9669_fa163ee081a9row4_col10\" class=\"data row4 col10\" >5</td>\n",
       "                        <td id=\"T_175a2bf0_dff9_11ec_9669_fa163ee081a9row4_col11\" class=\"data row4 col11\" >4</td>\n",
       "                        <td id=\"T_175a2bf0_dff9_11ec_9669_fa163ee081a9row4_col12\" class=\"data row4 col12\" >12</td>\n",
       "            </tr>\n",
       "            <tr>\n",
       "                                <td id=\"T_175a2bf0_dff9_11ec_9669_fa163ee081a9row5_col0\" class=\"data row5 col0\" >22</td>\n",
       "                        <td id=\"T_175a2bf0_dff9_11ec_9669_fa163ee081a9row5_col1\" class=\"data row5 col1\" >Improper Limitation of a Pathname to a Restricted Directory ('Path Traversal')</td>\n",
       "                        <td id=\"T_175a2bf0_dff9_11ec_9669_fa163ee081a9row5_col2\" class=\"data row5 col2\" >11</td>\n",
       "                        <td id=\"T_175a2bf0_dff9_11ec_9669_fa163ee081a9row5_col3\" class=\"data row5 col3\" >9</td>\n",
       "                        <td id=\"T_175a2bf0_dff9_11ec_9669_fa163ee081a9row5_col4\" class=\"data row5 col4\" >5</td>\n",
       "                        <td id=\"T_175a2bf0_dff9_11ec_9669_fa163ee081a9row5_col5\" class=\"data row5 col5\" >38</td>\n",
       "                        <td id=\"T_175a2bf0_dff9_11ec_9669_fa163ee081a9row5_col6\" class=\"data row5 col6\" >6</td>\n",
       "                        <td id=\"T_175a2bf0_dff9_11ec_9669_fa163ee081a9row5_col7\" class=\"data row5 col7\" >0</td>\n",
       "                        <td id=\"T_175a2bf0_dff9_11ec_9669_fa163ee081a9row5_col8\" class=\"data row5 col8\" >0</td>\n",
       "                        <td id=\"T_175a2bf0_dff9_11ec_9669_fa163ee081a9row5_col9\" class=\"data row5 col9\" >0</td>\n",
       "                        <td id=\"T_175a2bf0_dff9_11ec_9669_fa163ee081a9row5_col10\" class=\"data row5 col10\" >0</td>\n",
       "                        <td id=\"T_175a2bf0_dff9_11ec_9669_fa163ee081a9row5_col11\" class=\"data row5 col11\" >0</td>\n",
       "                        <td id=\"T_175a2bf0_dff9_11ec_9669_fa163ee081a9row5_col12\" class=\"data row5 col12\" >0</td>\n",
       "            </tr>\n",
       "            <tr>\n",
       "                                <td id=\"T_175a2bf0_dff9_11ec_9669_fa163ee081a9row6_col0\" class=\"data row6 col0\" >269</td>\n",
       "                        <td id=\"T_175a2bf0_dff9_11ec_9669_fa163ee081a9row6_col1\" class=\"data row6 col1\" >Improper Privilege Management</td>\n",
       "                        <td id=\"T_175a2bf0_dff9_11ec_9669_fa163ee081a9row6_col2\" class=\"data row6 col2\" >3</td>\n",
       "                        <td id=\"T_175a2bf0_dff9_11ec_9669_fa163ee081a9row6_col3\" class=\"data row6 col3\" >0</td>\n",
       "                        <td id=\"T_175a2bf0_dff9_11ec_9669_fa163ee081a9row6_col4\" class=\"data row6 col4\" >3</td>\n",
       "                        <td id=\"T_175a2bf0_dff9_11ec_9669_fa163ee081a9row6_col5\" class=\"data row6 col5\" >4</td>\n",
       "                        <td id=\"T_175a2bf0_dff9_11ec_9669_fa163ee081a9row6_col6\" class=\"data row6 col6\" >0</td>\n",
       "                        <td id=\"T_175a2bf0_dff9_11ec_9669_fa163ee081a9row6_col7\" class=\"data row6 col7\" >0</td>\n",
       "                        <td id=\"T_175a2bf0_dff9_11ec_9669_fa163ee081a9row6_col8\" class=\"data row6 col8\" >0</td>\n",
       "                        <td id=\"T_175a2bf0_dff9_11ec_9669_fa163ee081a9row6_col9\" class=\"data row6 col9\" >0</td>\n",
       "                        <td id=\"T_175a2bf0_dff9_11ec_9669_fa163ee081a9row6_col10\" class=\"data row6 col10\" >0</td>\n",
       "                        <td id=\"T_175a2bf0_dff9_11ec_9669_fa163ee081a9row6_col11\" class=\"data row6 col11\" >0</td>\n",
       "                        <td id=\"T_175a2bf0_dff9_11ec_9669_fa163ee081a9row6_col12\" class=\"data row6 col12\" >0</td>\n",
       "            </tr>\n",
       "            <tr>\n",
       "                                <td id=\"T_175a2bf0_dff9_11ec_9669_fa163ee081a9row7_col0\" class=\"data row7 col0\" >287</td>\n",
       "                        <td id=\"T_175a2bf0_dff9_11ec_9669_fa163ee081a9row7_col1\" class=\"data row7 col1\" >Improper Authentication</td>\n",
       "                        <td id=\"T_175a2bf0_dff9_11ec_9669_fa163ee081a9row7_col2\" class=\"data row7 col2\" >1</td>\n",
       "                        <td id=\"T_175a2bf0_dff9_11ec_9669_fa163ee081a9row7_col3\" class=\"data row7 col3\" >9</td>\n",
       "                        <td id=\"T_175a2bf0_dff9_11ec_9669_fa163ee081a9row7_col4\" class=\"data row7 col4\" >10</td>\n",
       "                        <td id=\"T_175a2bf0_dff9_11ec_9669_fa163ee081a9row7_col5\" class=\"data row7 col5\" >16</td>\n",
       "                        <td id=\"T_175a2bf0_dff9_11ec_9669_fa163ee081a9row7_col6\" class=\"data row7 col6\" >0</td>\n",
       "                        <td id=\"T_175a2bf0_dff9_11ec_9669_fa163ee081a9row7_col7\" class=\"data row7 col7\" >4</td>\n",
       "                        <td id=\"T_175a2bf0_dff9_11ec_9669_fa163ee081a9row7_col8\" class=\"data row7 col8\" >11</td>\n",
       "                        <td id=\"T_175a2bf0_dff9_11ec_9669_fa163ee081a9row7_col9\" class=\"data row7 col9\" >4</td>\n",
       "                        <td id=\"T_175a2bf0_dff9_11ec_9669_fa163ee081a9row7_col10\" class=\"data row7 col10\" >6</td>\n",
       "                        <td id=\"T_175a2bf0_dff9_11ec_9669_fa163ee081a9row7_col11\" class=\"data row7 col11\" >14</td>\n",
       "                        <td id=\"T_175a2bf0_dff9_11ec_9669_fa163ee081a9row7_col12\" class=\"data row7 col12\" >6</td>\n",
       "            </tr>\n",
       "            <tr>\n",
       "                                <td id=\"T_175a2bf0_dff9_11ec_9669_fa163ee081a9row8_col0\" class=\"data row8 col0\" >306</td>\n",
       "                        <td id=\"T_175a2bf0_dff9_11ec_9669_fa163ee081a9row8_col1\" class=\"data row8 col1\" >Missing Authentication for Critical Function</td>\n",
       "                        <td id=\"T_175a2bf0_dff9_11ec_9669_fa163ee081a9row8_col2\" class=\"data row8 col2\" >4</td>\n",
       "                        <td id=\"T_175a2bf0_dff9_11ec_9669_fa163ee081a9row8_col3\" class=\"data row8 col3\" >8</td>\n",
       "                        <td id=\"T_175a2bf0_dff9_11ec_9669_fa163ee081a9row8_col4\" class=\"data row8 col4\" >4</td>\n",
       "                        <td id=\"T_175a2bf0_dff9_11ec_9669_fa163ee081a9row8_col5\" class=\"data row8 col5\" >7</td>\n",
       "                        <td id=\"T_175a2bf0_dff9_11ec_9669_fa163ee081a9row8_col6\" class=\"data row8 col6\" >0</td>\n",
       "                        <td id=\"T_175a2bf0_dff9_11ec_9669_fa163ee081a9row8_col7\" class=\"data row8 col7\" >0</td>\n",
       "                        <td id=\"T_175a2bf0_dff9_11ec_9669_fa163ee081a9row8_col8\" class=\"data row8 col8\" >0</td>\n",
       "                        <td id=\"T_175a2bf0_dff9_11ec_9669_fa163ee081a9row8_col9\" class=\"data row8 col9\" >0</td>\n",
       "                        <td id=\"T_175a2bf0_dff9_11ec_9669_fa163ee081a9row8_col10\" class=\"data row8 col10\" >0</td>\n",
       "                        <td id=\"T_175a2bf0_dff9_11ec_9669_fa163ee081a9row8_col11\" class=\"data row8 col11\" >0</td>\n",
       "                        <td id=\"T_175a2bf0_dff9_11ec_9669_fa163ee081a9row8_col12\" class=\"data row8 col12\" >0</td>\n",
       "            </tr>\n",
       "            <tr>\n",
       "                                <td id=\"T_175a2bf0_dff9_11ec_9669_fa163ee081a9row9_col0\" class=\"data row9 col0\" >352</td>\n",
       "                        <td id=\"T_175a2bf0_dff9_11ec_9669_fa163ee081a9row9_col1\" class=\"data row9 col1\" >Cross-Site Request Forgery (CSRF)</td>\n",
       "                        <td id=\"T_175a2bf0_dff9_11ec_9669_fa163ee081a9row9_col2\" class=\"data row9 col2\" >7</td>\n",
       "                        <td id=\"T_175a2bf0_dff9_11ec_9669_fa163ee081a9row9_col3\" class=\"data row9 col3\" >9</td>\n",
       "                        <td id=\"T_175a2bf0_dff9_11ec_9669_fa163ee081a9row9_col4\" class=\"data row9 col4\" >4</td>\n",
       "                        <td id=\"T_175a2bf0_dff9_11ec_9669_fa163ee081a9row9_col5\" class=\"data row9 col5\" >12</td>\n",
       "                        <td id=\"T_175a2bf0_dff9_11ec_9669_fa163ee081a9row9_col6\" class=\"data row9 col6\" >0</td>\n",
       "                        <td id=\"T_175a2bf0_dff9_11ec_9669_fa163ee081a9row9_col7\" class=\"data row9 col7\" >0</td>\n",
       "                        <td id=\"T_175a2bf0_dff9_11ec_9669_fa163ee081a9row9_col8\" class=\"data row9 col8\" >0</td>\n",
       "                        <td id=\"T_175a2bf0_dff9_11ec_9669_fa163ee081a9row9_col9\" class=\"data row9 col9\" >0</td>\n",
       "                        <td id=\"T_175a2bf0_dff9_11ec_9669_fa163ee081a9row9_col10\" class=\"data row9 col10\" >0</td>\n",
       "                        <td id=\"T_175a2bf0_dff9_11ec_9669_fa163ee081a9row9_col11\" class=\"data row9 col11\" >0</td>\n",
       "                        <td id=\"T_175a2bf0_dff9_11ec_9669_fa163ee081a9row9_col12\" class=\"data row9 col12\" >0</td>\n",
       "            </tr>\n",
       "            <tr>\n",
       "                                <td id=\"T_175a2bf0_dff9_11ec_9669_fa163ee081a9row10_col0\" class=\"data row10 col0\" >400</td>\n",
       "                        <td id=\"T_175a2bf0_dff9_11ec_9669_fa163ee081a9row10_col1\" class=\"data row10 col1\" >Uncontrolled Resource Consumption</td>\n",
       "                        <td id=\"T_175a2bf0_dff9_11ec_9669_fa163ee081a9row10_col2\" class=\"data row10 col2\" >4</td>\n",
       "                        <td id=\"T_175a2bf0_dff9_11ec_9669_fa163ee081a9row10_col3\" class=\"data row10 col3\" >3</td>\n",
       "                        <td id=\"T_175a2bf0_dff9_11ec_9669_fa163ee081a9row10_col4\" class=\"data row10 col4\" >2</td>\n",
       "                        <td id=\"T_175a2bf0_dff9_11ec_9669_fa163ee081a9row10_col5\" class=\"data row10 col5\" >3</td>\n",
       "                        <td id=\"T_175a2bf0_dff9_11ec_9669_fa163ee081a9row10_col6\" class=\"data row10 col6\" >0</td>\n",
       "                        <td id=\"T_175a2bf0_dff9_11ec_9669_fa163ee081a9row10_col7\" class=\"data row10 col7\" >0</td>\n",
       "                        <td id=\"T_175a2bf0_dff9_11ec_9669_fa163ee081a9row10_col8\" class=\"data row10 col8\" >0</td>\n",
       "                        <td id=\"T_175a2bf0_dff9_11ec_9669_fa163ee081a9row10_col9\" class=\"data row10 col9\" >0</td>\n",
       "                        <td id=\"T_175a2bf0_dff9_11ec_9669_fa163ee081a9row10_col10\" class=\"data row10 col10\" >0</td>\n",
       "                        <td id=\"T_175a2bf0_dff9_11ec_9669_fa163ee081a9row10_col11\" class=\"data row10 col11\" >0</td>\n",
       "                        <td id=\"T_175a2bf0_dff9_11ec_9669_fa163ee081a9row10_col12\" class=\"data row10 col12\" >0</td>\n",
       "            </tr>\n",
       "            <tr>\n",
       "                                <td id=\"T_175a2bf0_dff9_11ec_9669_fa163ee081a9row11_col0\" class=\"data row11 col0\" >416</td>\n",
       "                        <td id=\"T_175a2bf0_dff9_11ec_9669_fa163ee081a9row11_col1\" class=\"data row11 col1\" >Use After Free</td>\n",
       "                        <td id=\"T_175a2bf0_dff9_11ec_9669_fa163ee081a9row11_col2\" class=\"data row11 col2\" >2</td>\n",
       "                        <td id=\"T_175a2bf0_dff9_11ec_9669_fa163ee081a9row11_col3\" class=\"data row11 col3\" >0</td>\n",
       "                        <td id=\"T_175a2bf0_dff9_11ec_9669_fa163ee081a9row11_col4\" class=\"data row11 col4\" >0</td>\n",
       "                        <td id=\"T_175a2bf0_dff9_11ec_9669_fa163ee081a9row11_col5\" class=\"data row11 col5\" >0</td>\n",
       "                        <td id=\"T_175a2bf0_dff9_11ec_9669_fa163ee081a9row11_col6\" class=\"data row11 col6\" >0</td>\n",
       "                        <td id=\"T_175a2bf0_dff9_11ec_9669_fa163ee081a9row11_col7\" class=\"data row11 col7\" >0</td>\n",
       "                        <td id=\"T_175a2bf0_dff9_11ec_9669_fa163ee081a9row11_col8\" class=\"data row11 col8\" >0</td>\n",
       "                        <td id=\"T_175a2bf0_dff9_11ec_9669_fa163ee081a9row11_col9\" class=\"data row11 col9\" >0</td>\n",
       "                        <td id=\"T_175a2bf0_dff9_11ec_9669_fa163ee081a9row11_col10\" class=\"data row11 col10\" >0</td>\n",
       "                        <td id=\"T_175a2bf0_dff9_11ec_9669_fa163ee081a9row11_col11\" class=\"data row11 col11\" >0</td>\n",
       "                        <td id=\"T_175a2bf0_dff9_11ec_9669_fa163ee081a9row11_col12\" class=\"data row11 col12\" >0</td>\n",
       "            </tr>\n",
       "            <tr>\n",
       "                                <td id=\"T_175a2bf0_dff9_11ec_9669_fa163ee081a9row12_col0\" class=\"data row12 col0\" >434</td>\n",
       "                        <td id=\"T_175a2bf0_dff9_11ec_9669_fa163ee081a9row12_col1\" class=\"data row12 col1\" >Unrestricted Upload of File with Dangerous Type</td>\n",
       "                        <td id=\"T_175a2bf0_dff9_11ec_9669_fa163ee081a9row12_col2\" class=\"data row12 col2\" >12</td>\n",
       "                        <td id=\"T_175a2bf0_dff9_11ec_9669_fa163ee081a9row12_col3\" class=\"data row12 col3\" >5</td>\n",
       "                        <td id=\"T_175a2bf0_dff9_11ec_9669_fa163ee081a9row12_col4\" class=\"data row12 col4\" >1</td>\n",
       "                        <td id=\"T_175a2bf0_dff9_11ec_9669_fa163ee081a9row12_col5\" class=\"data row12 col5\" >1</td>\n",
       "                        <td id=\"T_175a2bf0_dff9_11ec_9669_fa163ee081a9row12_col6\" class=\"data row12 col6\" >0</td>\n",
       "                        <td id=\"T_175a2bf0_dff9_11ec_9669_fa163ee081a9row12_col7\" class=\"data row12 col7\" >0</td>\n",
       "                        <td id=\"T_175a2bf0_dff9_11ec_9669_fa163ee081a9row12_col8\" class=\"data row12 col8\" >0</td>\n",
       "                        <td id=\"T_175a2bf0_dff9_11ec_9669_fa163ee081a9row12_col9\" class=\"data row12 col9\" >0</td>\n",
       "                        <td id=\"T_175a2bf0_dff9_11ec_9669_fa163ee081a9row12_col10\" class=\"data row12 col10\" >0</td>\n",
       "                        <td id=\"T_175a2bf0_dff9_11ec_9669_fa163ee081a9row12_col11\" class=\"data row12 col11\" >0</td>\n",
       "                        <td id=\"T_175a2bf0_dff9_11ec_9669_fa163ee081a9row12_col12\" class=\"data row12 col12\" >0</td>\n",
       "            </tr>\n",
       "            <tr>\n",
       "                                <td id=\"T_175a2bf0_dff9_11ec_9669_fa163ee081a9row13_col0\" class=\"data row13 col0\" >476</td>\n",
       "                        <td id=\"T_175a2bf0_dff9_11ec_9669_fa163ee081a9row13_col1\" class=\"data row13 col1\" >NULL Pointer Dereference</td>\n",
       "                        <td id=\"T_175a2bf0_dff9_11ec_9669_fa163ee081a9row13_col2\" class=\"data row13 col2\" >6</td>\n",
       "                        <td id=\"T_175a2bf0_dff9_11ec_9669_fa163ee081a9row13_col3\" class=\"data row13 col3\" >2</td>\n",
       "                        <td id=\"T_175a2bf0_dff9_11ec_9669_fa163ee081a9row13_col4\" class=\"data row13 col4\" >0</td>\n",
       "                        <td id=\"T_175a2bf0_dff9_11ec_9669_fa163ee081a9row13_col5\" class=\"data row13 col5\" >0</td>\n",
       "                        <td id=\"T_175a2bf0_dff9_11ec_9669_fa163ee081a9row13_col6\" class=\"data row13 col6\" >0</td>\n",
       "                        <td id=\"T_175a2bf0_dff9_11ec_9669_fa163ee081a9row13_col7\" class=\"data row13 col7\" >0</td>\n",
       "                        <td id=\"T_175a2bf0_dff9_11ec_9669_fa163ee081a9row13_col8\" class=\"data row13 col8\" >0</td>\n",
       "                        <td id=\"T_175a2bf0_dff9_11ec_9669_fa163ee081a9row13_col9\" class=\"data row13 col9\" >0</td>\n",
       "                        <td id=\"T_175a2bf0_dff9_11ec_9669_fa163ee081a9row13_col10\" class=\"data row13 col10\" >0</td>\n",
       "                        <td id=\"T_175a2bf0_dff9_11ec_9669_fa163ee081a9row13_col11\" class=\"data row13 col11\" >0</td>\n",
       "                        <td id=\"T_175a2bf0_dff9_11ec_9669_fa163ee081a9row13_col12\" class=\"data row13 col12\" >0</td>\n",
       "            </tr>\n",
       "            <tr>\n",
       "                                <td id=\"T_175a2bf0_dff9_11ec_9669_fa163ee081a9row14_col0\" class=\"data row14 col0\" >502</td>\n",
       "                        <td id=\"T_175a2bf0_dff9_11ec_9669_fa163ee081a9row14_col1\" class=\"data row14 col1\" >Deserialization of Untrusted Data</td>\n",
       "                        <td id=\"T_175a2bf0_dff9_11ec_9669_fa163ee081a9row14_col2\" class=\"data row14 col2\" >5</td>\n",
       "                        <td id=\"T_175a2bf0_dff9_11ec_9669_fa163ee081a9row14_col3\" class=\"data row14 col3\" >0</td>\n",
       "                        <td id=\"T_175a2bf0_dff9_11ec_9669_fa163ee081a9row14_col4\" class=\"data row14 col4\" >1</td>\n",
       "                        <td id=\"T_175a2bf0_dff9_11ec_9669_fa163ee081a9row14_col5\" class=\"data row14 col5\" >4</td>\n",
       "                        <td id=\"T_175a2bf0_dff9_11ec_9669_fa163ee081a9row14_col6\" class=\"data row14 col6\" >0</td>\n",
       "                        <td id=\"T_175a2bf0_dff9_11ec_9669_fa163ee081a9row14_col7\" class=\"data row14 col7\" >0</td>\n",
       "                        <td id=\"T_175a2bf0_dff9_11ec_9669_fa163ee081a9row14_col8\" class=\"data row14 col8\" >0</td>\n",
       "                        <td id=\"T_175a2bf0_dff9_11ec_9669_fa163ee081a9row14_col9\" class=\"data row14 col9\" >0</td>\n",
       "                        <td id=\"T_175a2bf0_dff9_11ec_9669_fa163ee081a9row14_col10\" class=\"data row14 col10\" >0</td>\n",
       "                        <td id=\"T_175a2bf0_dff9_11ec_9669_fa163ee081a9row14_col11\" class=\"data row14 col11\" >0</td>\n",
       "                        <td id=\"T_175a2bf0_dff9_11ec_9669_fa163ee081a9row14_col12\" class=\"data row14 col12\" >0</td>\n",
       "            </tr>\n",
       "            <tr>\n",
       "                                <td id=\"T_175a2bf0_dff9_11ec_9669_fa163ee081a9row15_col0\" class=\"data row15 col0\" >522</td>\n",
       "                        <td id=\"T_175a2bf0_dff9_11ec_9669_fa163ee081a9row15_col1\" class=\"data row15 col1\" >Insufficiently Protected Credentials</td>\n",
       "                        <td id=\"T_175a2bf0_dff9_11ec_9669_fa163ee081a9row15_col2\" class=\"data row15 col2\" >3</td>\n",
       "                        <td id=\"T_175a2bf0_dff9_11ec_9669_fa163ee081a9row15_col3\" class=\"data row15 col3\" >0</td>\n",
       "                        <td id=\"T_175a2bf0_dff9_11ec_9669_fa163ee081a9row15_col4\" class=\"data row15 col4\" >13</td>\n",
       "                        <td id=\"T_175a2bf0_dff9_11ec_9669_fa163ee081a9row15_col5\" class=\"data row15 col5\" >56</td>\n",
       "                        <td id=\"T_175a2bf0_dff9_11ec_9669_fa163ee081a9row15_col6\" class=\"data row15 col6\" >27</td>\n",
       "                        <td id=\"T_175a2bf0_dff9_11ec_9669_fa163ee081a9row15_col7\" class=\"data row15 col7\" >16</td>\n",
       "                        <td id=\"T_175a2bf0_dff9_11ec_9669_fa163ee081a9row15_col8\" class=\"data row15 col8\" >19</td>\n",
       "                        <td id=\"T_175a2bf0_dff9_11ec_9669_fa163ee081a9row15_col9\" class=\"data row15 col9\" >16</td>\n",
       "                        <td id=\"T_175a2bf0_dff9_11ec_9669_fa163ee081a9row15_col10\" class=\"data row15 col10\" >6</td>\n",
       "                        <td id=\"T_175a2bf0_dff9_11ec_9669_fa163ee081a9row15_col11\" class=\"data row15 col11\" >9</td>\n",
       "                        <td id=\"T_175a2bf0_dff9_11ec_9669_fa163ee081a9row15_col12\" class=\"data row15 col12\" >11</td>\n",
       "            </tr>\n",
       "            <tr>\n",
       "                                <td id=\"T_175a2bf0_dff9_11ec_9669_fa163ee081a9row16_col0\" class=\"data row16 col0\" >611</td>\n",
       "                        <td id=\"T_175a2bf0_dff9_11ec_9669_fa163ee081a9row16_col1\" class=\"data row16 col1\" >Improper Restriction of XML External Entity Reference</td>\n",
       "                        <td id=\"T_175a2bf0_dff9_11ec_9669_fa163ee081a9row16_col2\" class=\"data row16 col2\" >1</td>\n",
       "                        <td id=\"T_175a2bf0_dff9_11ec_9669_fa163ee081a9row16_col3\" class=\"data row16 col3\" >0</td>\n",
       "                        <td id=\"T_175a2bf0_dff9_11ec_9669_fa163ee081a9row16_col4\" class=\"data row16 col4\" >1</td>\n",
       "                        <td id=\"T_175a2bf0_dff9_11ec_9669_fa163ee081a9row16_col5\" class=\"data row16 col5\" >2</td>\n",
       "                        <td id=\"T_175a2bf0_dff9_11ec_9669_fa163ee081a9row16_col6\" class=\"data row16 col6\" >0</td>\n",
       "                        <td id=\"T_175a2bf0_dff9_11ec_9669_fa163ee081a9row16_col7\" class=\"data row16 col7\" >0</td>\n",
       "                        <td id=\"T_175a2bf0_dff9_11ec_9669_fa163ee081a9row16_col8\" class=\"data row16 col8\" >0</td>\n",
       "                        <td id=\"T_175a2bf0_dff9_11ec_9669_fa163ee081a9row16_col9\" class=\"data row16 col9\" >0</td>\n",
       "                        <td id=\"T_175a2bf0_dff9_11ec_9669_fa163ee081a9row16_col10\" class=\"data row16 col10\" >0</td>\n",
       "                        <td id=\"T_175a2bf0_dff9_11ec_9669_fa163ee081a9row16_col11\" class=\"data row16 col11\" >0</td>\n",
       "                        <td id=\"T_175a2bf0_dff9_11ec_9669_fa163ee081a9row16_col12\" class=\"data row16 col12\" >0</td>\n",
       "            </tr>\n",
       "            <tr>\n",
       "                                <td id=\"T_175a2bf0_dff9_11ec_9669_fa163ee081a9row17_col0\" class=\"data row17 col0\" >732</td>\n",
       "                        <td id=\"T_175a2bf0_dff9_11ec_9669_fa163ee081a9row17_col1\" class=\"data row17 col1\" >Incorrect Permission Assignment for Critical Resource</td>\n",
       "                        <td id=\"T_175a2bf0_dff9_11ec_9669_fa163ee081a9row17_col2\" class=\"data row17 col2\" >8</td>\n",
       "                        <td id=\"T_175a2bf0_dff9_11ec_9669_fa163ee081a9row17_col3\" class=\"data row17 col3\" >15</td>\n",
       "                        <td id=\"T_175a2bf0_dff9_11ec_9669_fa163ee081a9row17_col4\" class=\"data row17 col4\" >11</td>\n",
       "                        <td id=\"T_175a2bf0_dff9_11ec_9669_fa163ee081a9row17_col5\" class=\"data row17 col5\" >23</td>\n",
       "                        <td id=\"T_175a2bf0_dff9_11ec_9669_fa163ee081a9row17_col6\" class=\"data row17 col6\" >2</td>\n",
       "                        <td id=\"T_175a2bf0_dff9_11ec_9669_fa163ee081a9row17_col7\" class=\"data row17 col7\" >3</td>\n",
       "                        <td id=\"T_175a2bf0_dff9_11ec_9669_fa163ee081a9row17_col8\" class=\"data row17 col8\" >4</td>\n",
       "                        <td id=\"T_175a2bf0_dff9_11ec_9669_fa163ee081a9row17_col9\" class=\"data row17 col9\" >3</td>\n",
       "                        <td id=\"T_175a2bf0_dff9_11ec_9669_fa163ee081a9row17_col10\" class=\"data row17 col10\" >5</td>\n",
       "                        <td id=\"T_175a2bf0_dff9_11ec_9669_fa163ee081a9row17_col11\" class=\"data row17 col11\" >0</td>\n",
       "                        <td id=\"T_175a2bf0_dff9_11ec_9669_fa163ee081a9row17_col12\" class=\"data row17 col12\" >7</td>\n",
       "            </tr>\n",
       "            <tr>\n",
       "                                <td id=\"T_175a2bf0_dff9_11ec_9669_fa163ee081a9row18_col0\" class=\"data row18 col0\" >78</td>\n",
       "                        <td id=\"T_175a2bf0_dff9_11ec_9669_fa163ee081a9row18_col1\" class=\"data row18 col1\" >Improper Neutralization of Special Elements used in an OS Command ('OS Command Injection')</td>\n",
       "                        <td id=\"T_175a2bf0_dff9_11ec_9669_fa163ee081a9row18_col2\" class=\"data row18 col2\" >17</td>\n",
       "                        <td id=\"T_175a2bf0_dff9_11ec_9669_fa163ee081a9row18_col3\" class=\"data row18 col3\" >9</td>\n",
       "                        <td id=\"T_175a2bf0_dff9_11ec_9669_fa163ee081a9row18_col4\" class=\"data row18 col4\" >5</td>\n",
       "                        <td id=\"T_175a2bf0_dff9_11ec_9669_fa163ee081a9row18_col5\" class=\"data row18 col5\" >16</td>\n",
       "                        <td id=\"T_175a2bf0_dff9_11ec_9669_fa163ee081a9row18_col6\" class=\"data row18 col6\" >1</td>\n",
       "                        <td id=\"T_175a2bf0_dff9_11ec_9669_fa163ee081a9row18_col7\" class=\"data row18 col7\" >0</td>\n",
       "                        <td id=\"T_175a2bf0_dff9_11ec_9669_fa163ee081a9row18_col8\" class=\"data row18 col8\" >0</td>\n",
       "                        <td id=\"T_175a2bf0_dff9_11ec_9669_fa163ee081a9row18_col9\" class=\"data row18 col9\" >0</td>\n",
       "                        <td id=\"T_175a2bf0_dff9_11ec_9669_fa163ee081a9row18_col10\" class=\"data row18 col10\" >0</td>\n",
       "                        <td id=\"T_175a2bf0_dff9_11ec_9669_fa163ee081a9row18_col11\" class=\"data row18 col11\" >0</td>\n",
       "                        <td id=\"T_175a2bf0_dff9_11ec_9669_fa163ee081a9row18_col12\" class=\"data row18 col12\" >0</td>\n",
       "            </tr>\n",
       "            <tr>\n",
       "                                <td id=\"T_175a2bf0_dff9_11ec_9669_fa163ee081a9row19_col0\" class=\"data row19 col0\" >787</td>\n",
       "                        <td id=\"T_175a2bf0_dff9_11ec_9669_fa163ee081a9row19_col1\" class=\"data row19 col1\" >Out-of-bounds Write</td>\n",
       "                        <td id=\"T_175a2bf0_dff9_11ec_9669_fa163ee081a9row19_col2\" class=\"data row19 col2\" >7</td>\n",
       "                        <td id=\"T_175a2bf0_dff9_11ec_9669_fa163ee081a9row19_col3\" class=\"data row19 col3\" >2</td>\n",
       "                        <td id=\"T_175a2bf0_dff9_11ec_9669_fa163ee081a9row19_col4\" class=\"data row19 col4\" >0</td>\n",
       "                        <td id=\"T_175a2bf0_dff9_11ec_9669_fa163ee081a9row19_col5\" class=\"data row19 col5\" >0</td>\n",
       "                        <td id=\"T_175a2bf0_dff9_11ec_9669_fa163ee081a9row19_col6\" class=\"data row19 col6\" >0</td>\n",
       "                        <td id=\"T_175a2bf0_dff9_11ec_9669_fa163ee081a9row19_col7\" class=\"data row19 col7\" >0</td>\n",
       "                        <td id=\"T_175a2bf0_dff9_11ec_9669_fa163ee081a9row19_col8\" class=\"data row19 col8\" >0</td>\n",
       "                        <td id=\"T_175a2bf0_dff9_11ec_9669_fa163ee081a9row19_col9\" class=\"data row19 col9\" >0</td>\n",
       "                        <td id=\"T_175a2bf0_dff9_11ec_9669_fa163ee081a9row19_col10\" class=\"data row19 col10\" >0</td>\n",
       "                        <td id=\"T_175a2bf0_dff9_11ec_9669_fa163ee081a9row19_col11\" class=\"data row19 col11\" >0</td>\n",
       "                        <td id=\"T_175a2bf0_dff9_11ec_9669_fa163ee081a9row19_col12\" class=\"data row19 col12\" >0</td>\n",
       "            </tr>\n",
       "            <tr>\n",
       "                                <td id=\"T_175a2bf0_dff9_11ec_9669_fa163ee081a9row20_col0\" class=\"data row20 col0\" >79</td>\n",
       "                        <td id=\"T_175a2bf0_dff9_11ec_9669_fa163ee081a9row20_col1\" class=\"data row20 col1\" >Improper Neutralization of Input During Web Page Generation ('Cross-site Scripting')</td>\n",
       "                        <td id=\"T_175a2bf0_dff9_11ec_9669_fa163ee081a9row20_col2\" class=\"data row20 col2\" >12</td>\n",
       "                        <td id=\"T_175a2bf0_dff9_11ec_9669_fa163ee081a9row20_col3\" class=\"data row20 col3\" >2</td>\n",
       "                        <td id=\"T_175a2bf0_dff9_11ec_9669_fa163ee081a9row20_col4\" class=\"data row20 col4\" >6</td>\n",
       "                        <td id=\"T_175a2bf0_dff9_11ec_9669_fa163ee081a9row20_col5\" class=\"data row20 col5\" >19</td>\n",
       "                        <td id=\"T_175a2bf0_dff9_11ec_9669_fa163ee081a9row20_col6\" class=\"data row20 col6\" >0</td>\n",
       "                        <td id=\"T_175a2bf0_dff9_11ec_9669_fa163ee081a9row20_col7\" class=\"data row20 col7\" >0</td>\n",
       "                        <td id=\"T_175a2bf0_dff9_11ec_9669_fa163ee081a9row20_col8\" class=\"data row20 col8\" >0</td>\n",
       "                        <td id=\"T_175a2bf0_dff9_11ec_9669_fa163ee081a9row20_col9\" class=\"data row20 col9\" >0</td>\n",
       "                        <td id=\"T_175a2bf0_dff9_11ec_9669_fa163ee081a9row20_col10\" class=\"data row20 col10\" >0</td>\n",
       "                        <td id=\"T_175a2bf0_dff9_11ec_9669_fa163ee081a9row20_col11\" class=\"data row20 col11\" >0</td>\n",
       "                        <td id=\"T_175a2bf0_dff9_11ec_9669_fa163ee081a9row20_col12\" class=\"data row20 col12\" >0</td>\n",
       "            </tr>\n",
       "            <tr>\n",
       "                                <td id=\"T_175a2bf0_dff9_11ec_9669_fa163ee081a9row21_col0\" class=\"data row21 col0\" >798</td>\n",
       "                        <td id=\"T_175a2bf0_dff9_11ec_9669_fa163ee081a9row21_col1\" class=\"data row21 col1\" >Use of Hard-coded Credentials</td>\n",
       "                        <td id=\"T_175a2bf0_dff9_11ec_9669_fa163ee081a9row21_col2\" class=\"data row21 col2\" >5</td>\n",
       "                        <td id=\"T_175a2bf0_dff9_11ec_9669_fa163ee081a9row21_col3\" class=\"data row21 col3\" >11</td>\n",
       "                        <td id=\"T_175a2bf0_dff9_11ec_9669_fa163ee081a9row21_col4\" class=\"data row21 col4\" >2</td>\n",
       "                        <td id=\"T_175a2bf0_dff9_11ec_9669_fa163ee081a9row21_col5\" class=\"data row21 col5\" >4</td>\n",
       "                        <td id=\"T_175a2bf0_dff9_11ec_9669_fa163ee081a9row21_col6\" class=\"data row21 col6\" >1</td>\n",
       "                        <td id=\"T_175a2bf0_dff9_11ec_9669_fa163ee081a9row21_col7\" class=\"data row21 col7\" >1</td>\n",
       "                        <td id=\"T_175a2bf0_dff9_11ec_9669_fa163ee081a9row21_col8\" class=\"data row21 col8\" >1</td>\n",
       "                        <td id=\"T_175a2bf0_dff9_11ec_9669_fa163ee081a9row21_col9\" class=\"data row21 col9\" >1</td>\n",
       "                        <td id=\"T_175a2bf0_dff9_11ec_9669_fa163ee081a9row21_col10\" class=\"data row21 col10\" >4</td>\n",
       "                        <td id=\"T_175a2bf0_dff9_11ec_9669_fa163ee081a9row21_col11\" class=\"data row21 col11\" >9</td>\n",
       "                        <td id=\"T_175a2bf0_dff9_11ec_9669_fa163ee081a9row21_col12\" class=\"data row21 col12\" >0</td>\n",
       "            </tr>\n",
       "            <tr>\n",
       "                                <td id=\"T_175a2bf0_dff9_11ec_9669_fa163ee081a9row22_col0\" class=\"data row22 col0\" >862</td>\n",
       "                        <td id=\"T_175a2bf0_dff9_11ec_9669_fa163ee081a9row22_col1\" class=\"data row22 col1\" >Missing Authorization</td>\n",
       "                        <td id=\"T_175a2bf0_dff9_11ec_9669_fa163ee081a9row22_col2\" class=\"data row22 col2\" >5</td>\n",
       "                        <td id=\"T_175a2bf0_dff9_11ec_9669_fa163ee081a9row22_col3\" class=\"data row22 col3\" >9</td>\n",
       "                        <td id=\"T_175a2bf0_dff9_11ec_9669_fa163ee081a9row22_col4\" class=\"data row22 col4\" >1</td>\n",
       "                        <td id=\"T_175a2bf0_dff9_11ec_9669_fa163ee081a9row22_col5\" class=\"data row22 col5\" >7</td>\n",
       "                        <td id=\"T_175a2bf0_dff9_11ec_9669_fa163ee081a9row22_col6\" class=\"data row22 col6\" >1</td>\n",
       "                        <td id=\"T_175a2bf0_dff9_11ec_9669_fa163ee081a9row22_col7\" class=\"data row22 col7\" >0</td>\n",
       "                        <td id=\"T_175a2bf0_dff9_11ec_9669_fa163ee081a9row22_col8\" class=\"data row22 col8\" >0</td>\n",
       "                        <td id=\"T_175a2bf0_dff9_11ec_9669_fa163ee081a9row22_col9\" class=\"data row22 col9\" >0</td>\n",
       "                        <td id=\"T_175a2bf0_dff9_11ec_9669_fa163ee081a9row22_col10\" class=\"data row22 col10\" >0</td>\n",
       "                        <td id=\"T_175a2bf0_dff9_11ec_9669_fa163ee081a9row22_col11\" class=\"data row22 col11\" >0</td>\n",
       "                        <td id=\"T_175a2bf0_dff9_11ec_9669_fa163ee081a9row22_col12\" class=\"data row22 col12\" >0</td>\n",
       "            </tr>\n",
       "            <tr>\n",
       "                                <td id=\"T_175a2bf0_dff9_11ec_9669_fa163ee081a9row23_col0\" class=\"data row23 col0\" >89</td>\n",
       "                        <td id=\"T_175a2bf0_dff9_11ec_9669_fa163ee081a9row23_col1\" class=\"data row23 col1\" >Improper Neutralization of Special Elements used in an SQL Command ('SQL Injection')</td>\n",
       "                        <td id=\"T_175a2bf0_dff9_11ec_9669_fa163ee081a9row23_col2\" class=\"data row23 col2\" >10</td>\n",
       "                        <td id=\"T_175a2bf0_dff9_11ec_9669_fa163ee081a9row23_col3\" class=\"data row23 col3\" >9</td>\n",
       "                        <td id=\"T_175a2bf0_dff9_11ec_9669_fa163ee081a9row23_col4\" class=\"data row23 col4\" >6</td>\n",
       "                        <td id=\"T_175a2bf0_dff9_11ec_9669_fa163ee081a9row23_col5\" class=\"data row23 col5\" >21</td>\n",
       "                        <td id=\"T_175a2bf0_dff9_11ec_9669_fa163ee081a9row23_col6\" class=\"data row23 col6\" >2</td>\n",
       "                        <td id=\"T_175a2bf0_dff9_11ec_9669_fa163ee081a9row23_col7\" class=\"data row23 col7\" >0</td>\n",
       "                        <td id=\"T_175a2bf0_dff9_11ec_9669_fa163ee081a9row23_col8\" class=\"data row23 col8\" >0</td>\n",
       "                        <td id=\"T_175a2bf0_dff9_11ec_9669_fa163ee081a9row23_col9\" class=\"data row23 col9\" >0</td>\n",
       "                        <td id=\"T_175a2bf0_dff9_11ec_9669_fa163ee081a9row23_col10\" class=\"data row23 col10\" >0</td>\n",
       "                        <td id=\"T_175a2bf0_dff9_11ec_9669_fa163ee081a9row23_col11\" class=\"data row23 col11\" >0</td>\n",
       "                        <td id=\"T_175a2bf0_dff9_11ec_9669_fa163ee081a9row23_col12\" class=\"data row23 col12\" >0</td>\n",
       "            </tr>\n",
       "            <tr>\n",
       "                                <td id=\"T_175a2bf0_dff9_11ec_9669_fa163ee081a9row24_col0\" class=\"data row24 col0\" >94</td>\n",
       "                        <td id=\"T_175a2bf0_dff9_11ec_9669_fa163ee081a9row24_col1\" class=\"data row24 col1\" >Improper Control of Generation of Code ('Code Injection')</td>\n",
       "                        <td id=\"T_175a2bf0_dff9_11ec_9669_fa163ee081a9row24_col2\" class=\"data row24 col2\" >7</td>\n",
       "                        <td id=\"T_175a2bf0_dff9_11ec_9669_fa163ee081a9row24_col3\" class=\"data row24 col3\" >0</td>\n",
       "                        <td id=\"T_175a2bf0_dff9_11ec_9669_fa163ee081a9row24_col4\" class=\"data row24 col4\" >3</td>\n",
       "                        <td id=\"T_175a2bf0_dff9_11ec_9669_fa163ee081a9row24_col5\" class=\"data row24 col5\" >14</td>\n",
       "                        <td id=\"T_175a2bf0_dff9_11ec_9669_fa163ee081a9row24_col6\" class=\"data row24 col6\" >1</td>\n",
       "                        <td id=\"T_175a2bf0_dff9_11ec_9669_fa163ee081a9row24_col7\" class=\"data row24 col7\" >0</td>\n",
       "                        <td id=\"T_175a2bf0_dff9_11ec_9669_fa163ee081a9row24_col8\" class=\"data row24 col8\" >0</td>\n",
       "                        <td id=\"T_175a2bf0_dff9_11ec_9669_fa163ee081a9row24_col9\" class=\"data row24 col9\" >0</td>\n",
       "                        <td id=\"T_175a2bf0_dff9_11ec_9669_fa163ee081a9row24_col10\" class=\"data row24 col10\" >0</td>\n",
       "                        <td id=\"T_175a2bf0_dff9_11ec_9669_fa163ee081a9row24_col11\" class=\"data row24 col11\" >0</td>\n",
       "                        <td id=\"T_175a2bf0_dff9_11ec_9669_fa163ee081a9row24_col12\" class=\"data row24 col12\" >0</td>\n",
       "            </tr>\n",
       "    </tbody></table>"
      ],
      "text/plain": [
       "<pandas.io.formats.style.Styler at 0x7fc8d31699e8>"
      ]
     },
     "execution_count": 1,
     "metadata": {},
     "output_type": "execute_result"
    }
   ],
   "source": [
    "cwe_table[\"cwe id\"] = cwe_table.index\n",
    "cwe_table = cwe_table[\n",
    "    [\n",
    "        \"cwe id\",\n",
    "        \"name\",\n",
    "        \"cwe mitigations\",\n",
    "        \"cwe detections\",\n",
    "        \"aps\",\n",
    "        \"ap mitigations\",\n",
    "        \"ap detections\",\n",
    "        \"techniques\",\n",
    "        \"technique mitigations\",\n",
    "        \"technique detections\",\n",
    "        \"tactics\",\n",
    "        \"d3fend\",\n",
    "        \"engage\",\n",
    "    ]\n",
    "]\n",
    "cwe_table\n",
    "cwe_table.style.hide_index()"
   ]
  },
  {
   "cell_type": "code",
   "execution_count": 25,
   "metadata": {
    "execution": {
     "iopub.execute_input": "2022-05-30T09:15:47.365302Z",
     "iopub.status.busy": "2022-05-30T09:15:47.364467Z",
     "iopub.status.idle": "2022-05-30T09:15:47.372808Z",
     "shell.execute_reply": "2022-05-30T09:15:47.371961Z"
    }
   },
   "outputs": [],
   "source": [
    "cwe_table.to_csv(\"top_25_cwes.csv\")"
   ]
  },
  {
   "cell_type": "code",
   "execution_count": null,
   "metadata": {},
   "outputs": [],
   "source": []
  }
 ],
 "metadata": {
  "interpreter": {
   "hash": "98b0a9b7b4eaaa670588a142fd0a9b87eaafe866f1db4228be72b4211d12040f"
  },
  "kernelspec": {
   "display_name": "Python 3.7.10 64-bit ('base': conda)",
   "name": "python3"
  },
  "language_info": {
   "codemirror_mode": {
    "name": "ipython",
    "version": 3
   },
   "file_extension": ".py",
   "mimetype": "text/x-python",
   "name": "python",
   "nbconvert_exporter": "python",
   "pygments_lexer": "ipython3",
   "version": "3.6.9"
  }
 },
 "nbformat": 4,
 "nbformat_minor": 2
}
