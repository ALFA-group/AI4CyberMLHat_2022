{
 "cells": [
  {
   "cell_type": "code",
   "execution_count": 1,
   "metadata": {
    "execution": {
     "iopub.execute_input": "2022-06-01T09:52:51.286751Z",
     "iopub.status.busy": "2022-06-01T09:52:51.284301Z",
     "iopub.status.idle": "2022-06-01T09:52:51.757500Z",
     "shell.execute_reply": "2022-06-01T09:52:51.758685Z"
    }
   },
   "outputs": [],
   "source": [
    "import networkx as nx\n",
    "import json"
   ]
  },
  {
   "cell_type": "code",
   "execution_count": 2,
   "metadata": {
    "execution": {
     "iopub.execute_input": "2022-06-01T09:52:51.774154Z",
     "iopub.status.busy": "2022-06-01T09:52:51.772739Z",
     "iopub.status.idle": "2022-06-01T09:52:51.788818Z",
     "shell.execute_reply": "2022-06-01T09:52:51.789847Z"
    }
   },
   "outputs": [
    {
     "data": {
      "text/plain": [
       "'\\nGraph with CWEs, APs, techniques, tactics, mitigations, detections, d3fend, engage activity\\n\\nEdges between CWE/APs and APs/techniques are such that every CWE/AP or AP/technique is represented in at least one of the edges, but some edges\\ncan have no true links. For example, in the current graph, the AP node with count 53 is connected to CWE nodes with counts 47, 3, 20, and 73.\\nThe number of links in these four edges will add to at least 53 (for each AP), but it could be that some of the edges have zero links.\\n\\nEdges linked to mitigations/detections/tactics/d3fend/engage are such that every element in the AP/CWE/technique node connects to at least one\\nof the mitigations/detections/tactics/d3fend/engage. For example, for an edge between an AP node and AP mitigation node, each AP is linked to at \\nleast one AP mitigation.\\n'"
      ]
     },
     "execution_count": 1,
     "metadata": {},
     "output_type": "execute_result"
    }
   ],
   "source": [
    "\"\"\"\n",
    "Graph with CWEs, APs, techniques, tactics, mitigations, detections, d3fend, engage activity\n",
    "\n",
    "Edges between CWE/APs and APs/techniques are such that every CWE/AP or AP/technique is represented in at least one of the edges, but some edges\n",
    "can have no true links. For example, in the current graph, the AP node with count 53 is connected to CWE nodes with counts 47, 3, 20, and 73.\n",
    "The number of links in these four edges will add to at least 53 (for each AP), but it could be that some of the edges have zero links.\n",
    "\n",
    "Edges linked to mitigations/detections/tactics/d3fend/engage are such that every element in the AP/CWE/technique node connects to at least one\n",
    "of the mitigations/detections/tactics/d3fend/engage. For example, for an edge between an AP node and AP mitigation node, each AP is linked to at \n",
    "least one AP mitigation.\n",
    "\"\"\""
   ]
  },
  {
   "cell_type": "code",
   "execution_count": 3,
   "metadata": {
    "execution": {
     "iopub.execute_input": "2022-06-01T09:52:51.801078Z",
     "iopub.status.busy": "2022-06-01T09:52:51.799763Z",
     "iopub.status.idle": "2022-06-01T09:52:51.847315Z",
     "shell.execute_reply": "2022-06-01T09:52:51.846448Z"
    }
   },
   "outputs": [],
   "source": [
    "with open(\"w_dict.json\", \"r\") as f:\n",
    "    w_dict = json.load(f)\n",
    "with open(\"ap_dict.json\", \"r\") as f:\n",
    "    ap_dict = json.load(f)\n",
    "with open(\"technique_dict.json\", \"r\") as f:\n",
    "    technique_dict = json.load(f)\n",
    "\n",
    "f = open(\"cwe_mitigation_ids_temp.json\")\n",
    "w_mitigation = json.load(f)\n",
    "\n",
    "f = open(\"capec_mitigation_temp.json\")\n",
    "ap_mitigation = json.load(f)\n",
    "\n",
    "f = open(\"technique_mitigation_temp.json\")\n",
    "technique_mitigation = json.load(f)\n",
    "\n",
    "f = open(\"technique_detection_temp.json\")\n",
    "technique_detection = json.load(f)\n",
    "\n",
    "f = open(\"capec_detection_temp.json\")\n",
    "ap_detection = json.load(f)\n",
    "\n",
    "f = open(\"cwe_detection_temp.json\")\n",
    "w_detection = json.load(f)\n",
    "\n",
    "f = open(\"d3fend_technique.json\")\n",
    "d3fend_technique = json.load(f)\n",
    "\n",
    "f = open(\"engage_technique.json\")\n",
    "engage_technique = json.load(f)\n",
    "\n",
    "f = open(\"d3fend.json\")\n",
    "d3 = json.load(f)\n",
    "\n",
    "f = open(\"engage_activity.json\")\n",
    "engage_activity = json.load(f)\n",
    "\n",
    "f = open(\"tactic_temp.json\")\n",
    "tactic = json.load(f)"
   ]
  },
  {
   "cell_type": "code",
   "execution_count": 4,
   "metadata": {
    "execution": {
     "iopub.execute_input": "2022-06-01T09:52:51.853408Z",
     "iopub.status.busy": "2022-06-01T09:52:51.852483Z",
     "iopub.status.idle": "2022-06-01T09:52:51.856516Z",
     "shell.execute_reply": "2022-06-01T09:52:51.855807Z"
    }
   },
   "outputs": [],
   "source": [
    "G = nx.Graph()"
   ]
  },
  {
   "cell_type": "code",
   "execution_count": 5,
   "metadata": {
    "execution": {
     "iopub.execute_input": "2022-06-01T09:52:51.866331Z",
     "iopub.status.busy": "2022-06-01T09:52:51.865435Z",
     "iopub.status.idle": "2022-06-01T09:52:51.870220Z",
     "shell.execute_reply": "2022-06-01T09:52:51.870821Z"
    }
   },
   "outputs": [
    {
     "name": "stdout",
     "output_type": "stream",
     "text": [
      "1597\n",
      "481\n"
     ]
    }
   ],
   "source": [
    "# number of cwe mitigations/detections\n",
    "\n",
    "mitigations = set()\n",
    "detections = set()\n",
    "for w in w_dict:\n",
    "    mitigations.update(w_dict[w][\"mitigations\"])\n",
    "    detections.update(w_dict[w][\"detections\"])\n",
    "\n",
    "print(len(mitigations))\n",
    "print(len(detections))"
   ]
  },
  {
   "cell_type": "code",
   "execution_count": 6,
   "metadata": {
    "execution": {
     "iopub.execute_input": "2022-06-01T09:52:51.878706Z",
     "iopub.status.busy": "2022-06-01T09:52:51.877845Z",
     "iopub.status.idle": "2022-06-01T09:52:51.882164Z",
     "shell.execute_reply": "2022-06-01T09:52:51.881292Z"
    }
   },
   "outputs": [],
   "source": [
    "G.add_node(\n",
    "    \"CWE mitigations\",\n",
    "    label=len(mitigations),\n",
    "    shape=\"diamond\",\n",
    "    color=\"red\",\n",
    "    title=\"CWE mitigations\",\n",
    ")\n",
    "G.add_node(\n",
    "    \"CWE detections\",\n",
    "    label=len(detections),\n",
    "    shape=\"square\",\n",
    "    color=\"red\",\n",
    "    title=\"CWE detections\",\n",
    ")"
   ]
  },
  {
   "cell_type": "code",
   "execution_count": 7,
   "metadata": {
    "execution": {
     "iopub.execute_input": "2022-06-01T09:52:51.891948Z",
     "iopub.status.busy": "2022-06-01T09:52:51.891150Z",
     "iopub.status.idle": "2022-06-01T09:52:51.898095Z",
     "shell.execute_reply": "2022-06-01T09:52:51.897168Z"
    }
   },
   "outputs": [
    {
     "data": {
      "text/plain": [
       "{'cwe_mitigations': 345,\n",
       " 'cwe_mitigations_detections': 29,\n",
       " 'cwe_ap_mitigations': 201,\n",
       " 'cwe_ap_detections': 3,\n",
       " 'cwe': 217,\n",
       " 'cwe_detections': 9,\n",
       " 'cwe_ap_mitigations_detections': 73,\n",
       " 'cwe_ap': 47}"
      ]
     },
     "execution_count": 1,
     "metadata": {},
     "output_type": "execute_result"
    }
   ],
   "source": [
    "counts_dict = {}\n",
    "\n",
    "for w in w_dict:\n",
    "    links = w_dict[w]\n",
    "    str = [\"cwe\"]\n",
    "    if links[\"ap\"]:\n",
    "        str.append(\"ap\")\n",
    "    if links[\"mitigations\"]:\n",
    "        str.append(\"mitigations\")\n",
    "    if links[\"detections\"]:\n",
    "        str.append(\"detections\")\n",
    "\n",
    "    str = \"_\".join(str)\n",
    "\n",
    "    if str in counts_dict:\n",
    "        counts_dict[str] += 1\n",
    "    else:\n",
    "        counts_dict[str] = 1\n",
    "\n",
    "counts_dict"
   ]
  },
  {
   "cell_type": "code",
   "execution_count": 8,
   "metadata": {
    "execution": {
     "iopub.execute_input": "2022-06-01T09:52:51.906924Z",
     "iopub.status.busy": "2022-06-01T09:52:51.905666Z",
     "iopub.status.idle": "2022-06-01T09:52:51.909892Z",
     "shell.execute_reply": "2022-06-01T09:52:51.911029Z"
    }
   },
   "outputs": [],
   "source": [
    "for key in counts_dict:\n",
    "    G.add_node(key, label=counts_dict[key], color=\"red\", title=key)\n",
    "    true_key = key.split(\"_\")[1:]\n",
    "    if \"detections\" in true_key:\n",
    "        G.add_edge(key, \"CWE detections\", color=\"black\")\n",
    "    if \"mitigations\" in true_key:\n",
    "        G.add_edge(key, \"CWE mitigations\", color=\"black\")"
   ]
  },
  {
   "cell_type": "code",
   "execution_count": 9,
   "metadata": {
    "execution": {
     "iopub.execute_input": "2022-06-01T09:52:51.920135Z",
     "iopub.status.busy": "2022-06-01T09:52:51.919284Z",
     "iopub.status.idle": "2022-06-01T09:52:51.927771Z",
     "shell.execute_reply": "2022-06-01T09:52:51.925511Z"
    }
   },
   "outputs": [
    {
     "name": "stdout",
     "output_type": "stream",
     "text": [
      "1044\n",
      "91\n"
     ]
    }
   ],
   "source": [
    "# number of ap mitigations/detections\n",
    "mitigations = set()\n",
    "detections = set()\n",
    "for ap in ap_dict:\n",
    "    mitigations.update(ap_dict[ap][\"mitigations\"])\n",
    "    detections.update(ap_dict[ap][\"detections\"])\n",
    "\n",
    "print(len(mitigations))\n",
    "print(len(detections))"
   ]
  },
  {
   "cell_type": "code",
   "execution_count": 10,
   "metadata": {
    "execution": {
     "iopub.execute_input": "2022-06-01T09:52:51.936360Z",
     "iopub.status.busy": "2022-06-01T09:52:51.935164Z",
     "iopub.status.idle": "2022-06-01T09:52:51.939704Z",
     "shell.execute_reply": "2022-06-01T09:52:51.938609Z"
    }
   },
   "outputs": [],
   "source": [
    "G.add_node(\n",
    "    \"AP mitigations\",\n",
    "    label=len(mitigations),\n",
    "    shape=\"diamond\",\n",
    "    color=\"green\",\n",
    "    title=\"AP mitigations\",\n",
    ")\n",
    "G.add_node(\n",
    "    \"AP detections\",\n",
    "    label=len(detections),\n",
    "    shape=\"square\",\n",
    "    color=\"green\",\n",
    "    title=\"AP detections\",\n",
    ")"
   ]
  },
  {
   "cell_type": "code",
   "execution_count": 11,
   "metadata": {
    "execution": {
     "iopub.execute_input": "2022-06-01T09:52:51.949918Z",
     "iopub.status.busy": "2022-06-01T09:52:51.948894Z",
     "iopub.status.idle": "2022-06-01T09:52:51.956774Z",
     "shell.execute_reply": "2022-06-01T09:52:51.955820Z"
    }
   },
   "outputs": [
    {
     "data": {
      "text/plain": [
       "{'ap_mitigations_cwes': 200,\n",
       " 'ap_mitigations_detections_cwes': 39,\n",
       " 'ap_techniques_mitigations_cwes': 52,\n",
       " 'ap_cwes': 93,\n",
       " 'ap_techniques_mitigations_detections_cwes': 10,\n",
       " 'ap_techniques_mitigations_detections': 1,\n",
       " 'ap': 67,\n",
       " 'ap_mitigations': 53,\n",
       " 'ap_techniques_mitigations': 10,\n",
       " 'ap_mitigations_detections': 3,\n",
       " 'ap_techniques_cwes': 11,\n",
       " 'ap_techniques': 7}"
      ]
     },
     "execution_count": 1,
     "metadata": {},
     "output_type": "execute_result"
    }
   ],
   "source": [
    "counts_dict = {}\n",
    "\n",
    "for ap in ap_dict:\n",
    "    links = ap_dict[ap]\n",
    "    str = [\"ap\"]\n",
    "    if links[\"techniques\"]:\n",
    "        str.append(\"techniques\")\n",
    "    if links[\"mitigations\"]:\n",
    "        str.append(\"mitigations\")\n",
    "    if links[\"detections\"]:\n",
    "        str.append(\"detections\")\n",
    "    if links[\"cwes\"]:\n",
    "        str.append(\"cwes\")\n",
    "\n",
    "    str = \"_\".join(str)\n",
    "\n",
    "    if str in counts_dict:\n",
    "        counts_dict[str] += 1\n",
    "    else:\n",
    "        counts_dict[str] = 1\n",
    "\n",
    "counts_dict"
   ]
  },
  {
   "cell_type": "code",
   "execution_count": 12,
   "metadata": {
    "execution": {
     "iopub.execute_input": "2022-06-01T09:52:51.969685Z",
     "iopub.status.busy": "2022-06-01T09:52:51.968752Z",
     "iopub.status.idle": "2022-06-01T09:52:51.973393Z",
     "shell.execute_reply": "2022-06-01T09:52:51.972494Z"
    }
   },
   "outputs": [],
   "source": [
    "for key in counts_dict:\n",
    "    G.add_node(key, label=counts_dict[key], color=\"green\", title=key)\n",
    "    true_key = key.split(\"_\")[1:]\n",
    "    if \"detections\" in true_key:\n",
    "        G.add_edge(key, \"AP detections\", color=\"black\")\n",
    "    if \"mitigations\" in true_key:\n",
    "        G.add_edge(key, \"AP mitigations\", color=\"black\")\n",
    "    if \"cwes\" in true_key:\n",
    "        for node in G.nodes:\n",
    "            if node.startswith(\"cwe\") and \"ap\" in node:\n",
    "                G.add_edge(key, node, color=\"black\")"
   ]
  },
  {
   "cell_type": "code",
   "execution_count": 13,
   "metadata": {
    "execution": {
     "iopub.execute_input": "2022-06-01T09:52:51.984454Z",
     "iopub.status.busy": "2022-06-01T09:52:51.983396Z",
     "iopub.status.idle": "2022-06-01T09:52:51.987636Z",
     "shell.execute_reply": "2022-06-01T09:52:51.988326Z"
    }
   },
   "outputs": [
    {
     "name": "stdout",
     "output_type": "stream",
     "text": [
      "43\n",
      "566\n"
     ]
    }
   ],
   "source": [
    "# number of technique mitigations/detections\n",
    "mitigations = set()\n",
    "detections = set()\n",
    "for technique in technique_dict:\n",
    "    mitigations.update(technique_dict[technique][\"mitigations\"])\n",
    "    detections.update(technique_dict[technique][\"detections\"])\n",
    "\n",
    "print(len(mitigations))\n",
    "print(len(detections))"
   ]
  },
  {
   "cell_type": "code",
   "execution_count": 14,
   "metadata": {
    "execution": {
     "iopub.execute_input": "2022-06-01T09:52:52.001098Z",
     "iopub.status.busy": "2022-06-01T09:52:52.000272Z",
     "iopub.status.idle": "2022-06-01T09:52:52.004294Z",
     "shell.execute_reply": "2022-06-01T09:52:52.003279Z"
    }
   },
   "outputs": [],
   "source": [
    "for technique in technique_dict:\n",
    "    technique_dict[technique][\"ap\"] = []\n",
    "    technique_dict[technique][\"d3fend\"] = []\n",
    "    technique_dict[technique][\"engage\"] = []\n",
    "\n",
    "for ap in ap_dict:\n",
    "    for technique in ap_dict[ap][\"techniques\"]:\n",
    "        technique_dict[technique][\"ap\"].append(ap)\n",
    "\n",
    "for d3fend_tech in d3fend_technique:\n",
    "    technique = d3fend_tech[\"_from\"]\n",
    "    d3fend = d3fend_tech[\"_to\"]\n",
    "    technique_dict[technique][\"d3fend\"].append(d3fend)\n",
    "\n",
    "for engage_tech in engage_technique:\n",
    "    technique = engage_tech[\"_from\"]\n",
    "    engage = engage_tech[\"_to\"]\n",
    "    technique_dict[technique][\"engage\"].append(engage)"
   ]
  },
  {
   "cell_type": "code",
   "execution_count": 15,
   "metadata": {
    "execution": {
     "iopub.execute_input": "2022-06-01T09:52:52.014511Z",
     "iopub.status.busy": "2022-06-01T09:52:52.012972Z",
     "iopub.status.idle": "2022-06-01T09:52:52.017732Z",
     "shell.execute_reply": "2022-06-01T09:52:52.016897Z"
    }
   },
   "outputs": [
    {
     "name": "stdout",
     "output_type": "stream",
     "text": [
      "36\n",
      "22\n",
      "14\n"
     ]
    }
   ],
   "source": [
    "d3fend = set()\n",
    "engage = set()\n",
    "tactics = set()\n",
    "\n",
    "for technique in technique_dict:\n",
    "    d3fend.update(technique_dict[technique][\"d3fend\"])\n",
    "    engage.update(technique_dict[technique][\"engage\"])\n",
    "    tactics.update(technique_dict[technique][\"tactics\"])\n",
    "\n",
    "print(len(d3fend))\n",
    "print(len(engage))\n",
    "print(len(tactics))"
   ]
  },
  {
   "cell_type": "code",
   "execution_count": 16,
   "metadata": {
    "execution": {
     "iopub.execute_input": "2022-06-01T09:52:52.028474Z",
     "iopub.status.busy": "2022-06-01T09:52:52.026981Z",
     "iopub.status.idle": "2022-06-01T09:52:52.031448Z",
     "shell.execute_reply": "2022-06-01T09:52:52.030278Z"
    }
   },
   "outputs": [],
   "source": [
    "G.add_node(\n",
    "    \"Technique mitigations\",\n",
    "    label=len(mitigations),\n",
    "    shape=\"diamond\",\n",
    "    color=\"orange\",\n",
    "    title=\"Technique mitigations\",\n",
    ")\n",
    "G.add_node(\n",
    "    \"Technique detections\",\n",
    "    label=len(detections),\n",
    "    shape=\"square\",\n",
    "    color=\"orange\",\n",
    "    title=\"Technique detections\",\n",
    ")\n",
    "G.add_node(\"d3fend\", label=len(d3fend), color=\"yellow\", title=\"d3fend\")\n",
    "G.add_node(\"engage\", label=len(engage), color=\"black\", title=\"engage activity\")\n",
    "G.add_node(\"tactics\", label=len(tactics), color=\"blue\", title=\"tactics\")"
   ]
  },
  {
   "cell_type": "code",
   "execution_count": 17,
   "metadata": {
    "execution": {
     "iopub.execute_input": "2022-06-01T09:52:52.048072Z",
     "iopub.status.busy": "2022-06-01T09:52:52.041471Z",
     "iopub.status.idle": "2022-06-01T09:52:52.054405Z",
     "shell.execute_reply": "2022-06-01T09:52:52.053250Z"
    }
   },
   "outputs": [
    {
     "data": {
      "text/plain": [
       "{'technique_mitigations_detections_tactics_engage': 104,\n",
       " 'technique_mitigations_detections_tactics': 243,\n",
       " 'technique_mitigations_detections_tactics_d3fend_engage': 10,\n",
       " 'technique_mitigations_detections_tactics_d3fend': 46,\n",
       " 'technique_detections_tactics_engage': 17,\n",
       " 'technique_ap_detections_tactics_engage': 20,\n",
       " 'technique_detections_tactics': 40,\n",
       " 'technique_ap_mitigations_detections_tactics': 36,\n",
       " 'technique_ap_mitigations_detections_tactics_engage': 18,\n",
       " 'technique_ap_detections_tactics': 6,\n",
       " 'technique_detections_tactics_d3fend': 4,\n",
       " 'technique_ap_mitigations_detections_tactics_d3fend': 15,\n",
       " 'technique_ap_detections_tactics_d3fend': 1,\n",
       " 'technique_ap_mitigations_detections_tactics_d3fend_engage': 5,\n",
       " 'technique_detections_tactics_d3fend_engage': 1}"
      ]
     },
     "execution_count": 1,
     "metadata": {},
     "output_type": "execute_result"
    }
   ],
   "source": [
    "counts_dict = {}\n",
    "\n",
    "for technique in technique_dict:\n",
    "    links = technique_dict[technique]\n",
    "    str = [\"technique\"]\n",
    "    if links[\"ap\"]:\n",
    "        str.append(\"ap\")\n",
    "    if links[\"mitigations\"]:\n",
    "        str.append(\"mitigations\")\n",
    "    if links[\"detections\"]:\n",
    "        str.append(\"detections\")\n",
    "    if links[\"tactics\"]:\n",
    "        str.append(\"tactics\")\n",
    "    if links[\"d3fend\"]:\n",
    "        str.append(\"d3fend\")\n",
    "    if links[\"engage\"]:\n",
    "        str.append(\"engage\")\n",
    "\n",
    "    str = \"_\".join(str)\n",
    "\n",
    "    if str in counts_dict:\n",
    "        counts_dict[str] += 1\n",
    "    else:\n",
    "        counts_dict[str] = 1\n",
    "\n",
    "counts_dict"
   ]
  },
  {
   "cell_type": "code",
   "execution_count": 18,
   "metadata": {
    "execution": {
     "iopub.execute_input": "2022-06-01T09:52:52.068421Z",
     "iopub.status.busy": "2022-06-01T09:52:52.067330Z",
     "iopub.status.idle": "2022-06-01T09:52:52.071862Z",
     "shell.execute_reply": "2022-06-01T09:52:52.070845Z"
    }
   },
   "outputs": [],
   "source": [
    "for key in counts_dict:\n",
    "    G.add_node(key, label=counts_dict[key], color=\"orange\", title=key)\n",
    "    true_key = key.split(\"_\")[1:]\n",
    "    if \"detections\" in true_key:\n",
    "        G.add_edge(key, \"Technique detections\", color=\"black\")\n",
    "    if \"mitigations\" in true_key:\n",
    "        G.add_edge(key, \"Technique mitigations\", color=\"black\")\n",
    "    if \"tactics\" in true_key:\n",
    "        G.add_edge(key, \"tactics\", color=\"black\")\n",
    "    if \"d3fend\" in true_key:\n",
    "        G.add_edge(key, \"d3fend\", color=\"black\")\n",
    "    if \"engage\" in true_key:\n",
    "        G.add_edge(key, \"engage\", color=\"black\")\n",
    "    if \"ap\" in true_key:\n",
    "        for node in G.nodes:\n",
    "            if node.startswith(\"ap\") and \"techniques\" in node:\n",
    "                G.add_edge(key, node, color=\"black\")"
   ]
  },
  {
   "cell_type": "code",
   "execution_count": 19,
   "metadata": {
    "execution": {
     "iopub.execute_input": "2022-06-01T09:52:52.079392Z",
     "iopub.status.busy": "2022-06-01T09:52:52.078347Z",
     "iopub.status.idle": "2022-06-01T09:52:52.083263Z",
     "shell.execute_reply": "2022-06-01T09:52:52.082095Z"
    }
   },
   "outputs": [],
   "source": [
    "# Save graph\n",
    "file_path = \"demo/all_graph_networkx.pkl\"\n",
    "nx.write_gpickle(G, file_path)"
   ]
  },
  {
   "cell_type": "code",
   "execution_count": 20,
   "metadata": {
    "execution": {
     "iopub.execute_input": "2022-06-01T09:52:52.090955Z",
     "iopub.status.busy": "2022-06-01T09:52:52.090133Z",
     "iopub.status.idle": "2022-06-01T09:52:52.202419Z",
     "shell.execute_reply": "2022-06-01T09:52:52.201149Z"
    }
   },
   "outputs": [
    {
     "data": {
      "text/html": [
       "\n",
       "        <iframe\n",
       "            width=\"600px\"\n",
       "            height=\"600px\"\n",
       "            src=\"incomplete_with_all.html\"\n",
       "            frameborder=\"0\"\n",
       "            allowfullscreen\n",
       "        ></iframe>\n",
       "        "
      ],
      "text/plain": [
       "<IPython.lib.display.IFrame at 0x7f8dd38d7898>"
      ]
     },
     "execution_count": 1,
     "metadata": {},
     "output_type": "execute_result"
    }
   ],
   "source": [
    "from pyvis.network import Network\n",
    "\n",
    "nt = Network(\"600px\", \"600px\", notebook=True)\n",
    "nt.from_nx(G)\n",
    "nt.show(\"incomplete_with_all.html\")"
   ]
  },
  {
   "cell_type": "code",
   "execution_count": null,
   "metadata": {},
   "outputs": [],
   "source": []
  }
 ],
 "metadata": {
  "interpreter": {
   "hash": "916dbcbb3f70747c44a77c7bcd40155683ae19c65e1c03b4aa3499c5328201f1"
  },
  "kernelspec": {
   "display_name": "Python 3",
   "language": "python",
   "name": "python3"
  },
  "language_info": {
   "codemirror_mode": {
    "name": "ipython",
    "version": 3
   },
   "file_extension": ".py",
   "mimetype": "text/x-python",
   "name": "python",
   "nbconvert_exporter": "python",
   "pygments_lexer": "ipython3",
   "version": "3.6.9"
  }
 },
 "nbformat": 4,
 "nbformat_minor": 2
}
