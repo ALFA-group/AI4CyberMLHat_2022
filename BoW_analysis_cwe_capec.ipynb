{
 "cells": [
  {
   "cell_type": "code",
   "execution_count": 1,
   "metadata": {
    "execution": {
     "iopub.execute_input": "2022-05-29T23:43:13.876891Z",
     "iopub.status.busy": "2022-05-29T23:43:13.873913Z",
     "iopub.status.idle": "2022-05-29T23:43:15.099607Z",
     "shell.execute_reply": "2022-05-29T23:43:15.098424Z"
    }
   },
   "outputs": [],
   "source": [
    "import json\n",
    "import numpy as np\n",
    "import seaborn as sns\n",
    "import pandas as pd\n",
    "from scikit_posthocs import posthoc_wilcoxon"
   ]
  },
  {
   "cell_type": "code",
   "execution_count": 2,
   "metadata": {
    "execution": {
     "iopub.execute_input": "2022-05-29T23:43:15.107482Z",
     "iopub.status.busy": "2022-05-29T23:43:15.106140Z",
     "iopub.status.idle": "2022-05-29T23:43:15.124672Z",
     "shell.execute_reply": "2022-05-29T23:43:15.123589Z"
    }
   },
   "outputs": [],
   "source": [
    "f = open(\"results_100_with_BoW_cwe_capec_class_weight_5.json\")\n",
    "class_weight_5_results = json.load(f)\n",
    "\n",
    "f = open(\"results_100_with_BoW_cwe_capec.json\")\n",
    "results = json.load(f)\n",
    "\n",
    "f = open(\"results_100_with_BoW_cwe_capec_with_cve_2021.json\")\n",
    "results_with_cve = json.load(f)"
   ]
  },
  {
   "cell_type": "code",
   "execution_count": 3,
   "metadata": {
    "execution": {
     "iopub.execute_input": "2022-05-29T23:43:15.132764Z",
     "iopub.status.busy": "2022-05-29T23:43:15.131640Z",
     "iopub.status.idle": "2022-05-29T23:43:15.141072Z",
     "shell.execute_reply": "2022-05-29T23:43:15.142027Z"
    }
   },
   "outputs": [
    {
     "name": "stdout",
     "output_type": "stream",
     "text": [
      "0.22922887261973057\n",
      "0.22437061577268605\n",
      "0.8020524017467249\n",
      "0.7934206695778748\n"
     ]
    }
   ],
   "source": [
    "BoW_fp = results[\"1\"][\"A0\"][\"fp\"]\n",
    "BoW_class_weight_5_fp = class_weight_5_results[\"1\"][\"A0\"][\"fp\"]\n",
    "\n",
    "BoW_acc = results[\"1\"][\"A0\"][\"acc\"]\n",
    "BoW_class_weight_5_acc = class_weight_5_results[\"1\"][\"A0\"][\"acc\"]\n",
    "\n",
    "print(np.mean(BoW_fp))\n",
    "print(np.mean(BoW_class_weight_5_fp))\n",
    "\n",
    "print(np.mean(BoW_acc))\n",
    "print(np.mean(BoW_class_weight_5_acc))"
   ]
  },
  {
   "cell_type": "code",
   "execution_count": 4,
   "metadata": {
    "execution": {
     "iopub.execute_input": "2022-05-29T23:43:15.148196Z",
     "iopub.status.busy": "2022-05-29T23:43:15.147114Z",
     "iopub.status.idle": "2022-05-29T23:43:15.151657Z",
     "shell.execute_reply": "2022-05-29T23:43:15.150504Z"
    }
   },
   "outputs": [],
   "source": [
    "results = {\"1\": results[\"1\"], \"2\": results[\"2\"], \"3\": results[\"3\"]}"
   ]
  },
  {
   "cell_type": "code",
   "execution_count": 5,
   "metadata": {
    "execution": {
     "iopub.execute_input": "2022-05-29T23:43:15.159947Z",
     "iopub.status.busy": "2022-05-29T23:43:15.158860Z",
     "iopub.status.idle": "2022-05-29T23:43:15.165344Z",
     "shell.execute_reply": "2022-05-29T23:43:15.164492Z"
    }
   },
   "outputs": [
    {
     "name": "stdout",
     "output_type": "stream",
     "text": [
      "('1', 'A0')\n",
      "0.8020524017467249\n"
     ]
    }
   ],
   "source": [
    "highest_val = 0\n",
    "highest_encoding = None\n",
    "metric = \"acc\"\n",
    "for encoding in results:\n",
    "    for data_combo in results[encoding]:\n",
    "        mean_metric = np.mean(results[encoding][data_combo][metric])\n",
    "        if mean_metric > highest_val:\n",
    "            highest_val = mean_metric\n",
    "            highest_encoding = (encoding, data_combo)\n",
    "\n",
    "print(highest_encoding)\n",
    "print(highest_val)"
   ]
  },
  {
   "cell_type": "code",
   "execution_count": 6,
   "metadata": {
    "execution": {
     "iopub.execute_input": "2022-05-29T23:43:15.176001Z",
     "iopub.status.busy": "2022-05-29T23:43:15.174901Z",
     "iopub.status.idle": "2022-05-29T23:43:15.451728Z",
     "shell.execute_reply": "2022-05-29T23:43:15.452505Z"
    }
   },
   "outputs": [
    {
     "name": "stdout",
     "output_type": "stream",
     "text": [
      "Encoding method:  2 , Data combo:  A1\n",
      "0.798617176128093\n",
      "Encoding method:  2 , Data combo:  A0\n",
      "0.8010189228529839\n",
      "Encoding method:  2 , Data combo:  A1 + MI\n",
      "0.782911208151383\n",
      "Encoding method:  2 , Data combo:  A1 + D\n",
      "0.776768558951965\n",
      "Encoding method:  2 , Data combo:  A1 + MI + D\n",
      "0.7763609898107715\n"
     ]
    },
    {
     "data": {
      "text/plain": [
       "[Text(0, 0.5, 'Data combo'), Text(0.5, 0, 'Accuracy')]"
      ]
     },
     "execution_count": 1,
     "metadata": {},
     "output_type": "execute_result"
    },
    {
     "data": {
      "image/png": "[encoded data removed]",
      "text/plain": [
       "<Figure size 432x288 with 1 Axes>"
      ]
     },
     "metadata": {
      "needs_background": "light"
     },
     "output_type": "display_data"
    }
   ],
   "source": [
    "encoding = \"2\"\n",
    "\n",
    "data = {}\n",
    "for data_combo in results[encoding]:\n",
    "    print(\"Encoding method: \", encoding, \", Data combo: \", data_combo)\n",
    "    data[data_combo] = results[encoding][data_combo][\"acc\"]\n",
    "    print(np.mean(results[encoding][data_combo][\"acc\"]))\n",
    "\n",
    "data = pd.DataFrame(data)\n",
    "\n",
    "sns.boxplot(data=data, orient=\"h\").set(ylabel=\"Data combo\", xlabel=\"Accuracy\")"
   ]
  },
  {
   "cell_type": "code",
   "execution_count": 7,
   "metadata": {
    "execution": {
     "iopub.execute_input": "2022-05-29T23:43:15.461077Z",
     "iopub.status.busy": "2022-05-29T23:43:15.460157Z",
     "iopub.status.idle": "2022-05-29T23:43:15.674009Z",
     "shell.execute_reply": "2022-05-29T23:43:15.675677Z"
    }
   },
   "outputs": [
    {
     "name": "stdout",
     "output_type": "stream",
     "text": [
      "Encoding method:  1 , Data combo:  A0\n",
      "0.8020378457059679\n",
      "Encoding method:  2 , Data combo:  A0\n",
      "0.7998544395924309\n",
      "Encoding method:  3 , Data combo:  A0\n",
      "0.7998544395924309\n"
     ]
    },
    {
     "data": {
      "text/plain": [
       "[Text(0, 0.5, 'Encoding'), Text(0.5, 0, 'Accuracy')]"
      ]
     },
     "execution_count": 1,
     "metadata": {},
     "output_type": "execute_result"
    },
    {
     "data": {
      "image/png": "[encoded data removed]",
      "text/plain": [
       "<Figure size 432x288 with 1 Axes>"
      ]
     },
     "metadata": {
      "needs_background": "light"
     },
     "output_type": "display_data"
    }
   ],
   "source": [
    "import seaborn as sns\n",
    "import pandas as pd\n",
    "\n",
    "data_combo = \"A0\"\n",
    "data = {}\n",
    "for encoding in results:\n",
    "    print(\"Encoding method: \", encoding, \", Data combo: \", data_combo)\n",
    "    data[encoding] = results[encoding][data_combo][\"acc\"]\n",
    "    print(np.median(results[encoding][data_combo][\"acc\"]))\n",
    "\n",
    "data = pd.DataFrame(data)\n",
    "\n",
    "sns.boxplot(data=data, orient=\"h\").set(ylabel=\"Encoding\", xlabel=\"Accuracy\")"
   ]
  },
  {
   "cell_type": "code",
   "execution_count": 8,
   "metadata": {
    "execution": {
     "iopub.execute_input": "2022-05-29T23:43:15.707769Z",
     "iopub.status.busy": "2022-05-29T23:43:15.693449Z",
     "iopub.status.idle": "2022-05-29T23:43:15.723472Z",
     "shell.execute_reply": "2022-05-29T23:43:15.724326Z"
    }
   },
   "outputs": [
    {
     "name": "stdout",
     "output_type": "stream",
     "text": [
      "A1 + MI + D\n",
      "1\n",
      "A1 + MI + D\n",
      "2\n",
      "A1 + MI + D\n",
      "3\n"
     ]
    },
    {
     "data": {
      "text/html": [
       "<div>\n",
       "<style scoped>\n",
       "    .dataframe tbody tr th:only-of-type {\n",
       "        vertical-align: middle;\n",
       "    }\n",
       "\n",
       "    .dataframe tbody tr th {\n",
       "        vertical-align: top;\n",
       "    }\n",
       "\n",
       "    .dataframe thead th {\n",
       "        text-align: right;\n",
       "    }\n",
       "</style>\n",
       "<table border=\"1\" class=\"dataframe\">\n",
       "  <thead>\n",
       "    <tr style=\"text-align: right;\">\n",
       "      <th></th>\n",
       "      <th>1</th>\n",
       "      <th>2</th>\n",
       "      <th>3</th>\n",
       "    </tr>\n",
       "  </thead>\n",
       "  <tbody>\n",
       "    <tr>\n",
       "      <th>1</th>\n",
       "      <td>1.000000e+00</td>\n",
       "      <td>4.734087e-13</td>\n",
       "      <td>6.394813e-17</td>\n",
       "    </tr>\n",
       "    <tr>\n",
       "      <th>2</th>\n",
       "      <td>4.734087e-13</td>\n",
       "      <td>1.000000e+00</td>\n",
       "      <td>1.692324e-17</td>\n",
       "    </tr>\n",
       "    <tr>\n",
       "      <th>3</th>\n",
       "      <td>6.394813e-17</td>\n",
       "      <td>1.692324e-17</td>\n",
       "      <td>1.000000e+00</td>\n",
       "    </tr>\n",
       "  </tbody>\n",
       "</table>\n",
       "</div>"
      ],
      "text/plain": [
       "              1             2             3\n",
       "1  1.000000e+00  4.734087e-13  6.394813e-17\n",
       "2  4.734087e-13  1.000000e+00  1.692324e-17\n",
       "3  6.394813e-17  1.692324e-17  1.000000e+00"
      ]
     },
     "execution_count": 1,
     "metadata": {},
     "output_type": "execute_result"
    }
   ],
   "source": [
    "data_combo = \"A1 + MI + D\"\n",
    "accs = []\n",
    "encodings = []\n",
    "for encoding in results:\n",
    "    if data_combo != \"A0\" or encoding not in [\"2\", \"5\"]:\n",
    "        print(data_combo)\n",
    "        print(encoding)\n",
    "        encodings.append(encoding)\n",
    "        accs.append(results[encoding][data_combo][\"acc\"])\n",
    "\n",
    "rank_sums = posthoc_wilcoxon(accs, p_adjust=\"bonferroni\")\n",
    "rank_sums.columns = encodings\n",
    "rank_sums.index = encodings\n",
    "rank_sums"
   ]
  },
  {
   "cell_type": "code",
   "execution_count": 9,
   "metadata": {
    "execution": {
     "iopub.execute_input": "2022-05-29T23:43:15.734719Z",
     "iopub.status.busy": "2022-05-29T23:43:15.733616Z",
     "iopub.status.idle": "2022-05-29T23:43:15.777291Z",
     "shell.execute_reply": "2022-05-29T23:43:15.776204Z"
    }
   },
   "outputs": [
    {
     "name": "stdout",
     "output_type": "stream",
     "text": [
      "A0\n",
      "3\n",
      "A1\n",
      "3\n",
      "A1 + MI\n",
      "3\n",
      "A1 + D\n",
      "3\n",
      "A1 + MI + D\n",
      "3\n"
     ]
    },
    {
     "data": {
      "text/html": [
       "<div>\n",
       "<style scoped>\n",
       "    .dataframe tbody tr th:only-of-type {\n",
       "        vertical-align: middle;\n",
       "    }\n",
       "\n",
       "    .dataframe tbody tr th {\n",
       "        vertical-align: top;\n",
       "    }\n",
       "\n",
       "    .dataframe thead th {\n",
       "        text-align: right;\n",
       "    }\n",
       "</style>\n",
       "<table border=\"1\" class=\"dataframe\">\n",
       "  <thead>\n",
       "    <tr style=\"text-align: right;\">\n",
       "      <th></th>\n",
       "      <th>A0</th>\n",
       "      <th>A1</th>\n",
       "      <th>A1 + MI</th>\n",
       "      <th>A1 + D</th>\n",
       "      <th>A1 + MI + D</th>\n",
       "    </tr>\n",
       "  </thead>\n",
       "  <tbody>\n",
       "    <tr>\n",
       "      <th>A0</th>\n",
       "      <td>1.000000e+00</td>\n",
       "      <td>4.319367e-01</td>\n",
       "      <td>3.876605e-17</td>\n",
       "      <td>3.863284e-17</td>\n",
       "      <td>3.856313e-17</td>\n",
       "    </tr>\n",
       "    <tr>\n",
       "      <th>A1</th>\n",
       "      <td>4.319367e-01</td>\n",
       "      <td>1.000000e+00</td>\n",
       "      <td>3.868956e-17</td>\n",
       "      <td>3.858925e-17</td>\n",
       "      <td>3.874856e-17</td>\n",
       "    </tr>\n",
       "    <tr>\n",
       "      <th>A1 + MI</th>\n",
       "      <td>3.876605e-17</td>\n",
       "      <td>3.868956e-17</td>\n",
       "      <td>1.000000e+00</td>\n",
       "      <td>2.203408e-16</td>\n",
       "      <td>1.000000e+00</td>\n",
       "    </tr>\n",
       "    <tr>\n",
       "      <th>A1 + D</th>\n",
       "      <td>3.863284e-17</td>\n",
       "      <td>3.858925e-17</td>\n",
       "      <td>2.203408e-16</td>\n",
       "      <td>1.000000e+00</td>\n",
       "      <td>6.067520e-16</td>\n",
       "    </tr>\n",
       "    <tr>\n",
       "      <th>A1 + MI + D</th>\n",
       "      <td>3.856313e-17</td>\n",
       "      <td>3.874856e-17</td>\n",
       "      <td>1.000000e+00</td>\n",
       "      <td>6.067520e-16</td>\n",
       "      <td>1.000000e+00</td>\n",
       "    </tr>\n",
       "  </tbody>\n",
       "</table>\n",
       "</div>"
      ],
      "text/plain": [
       "                       A0            A1       A1 + MI        A1 + D  \\\n",
       "A0           1.000000e+00  4.319367e-01  3.876605e-17  3.863284e-17   \n",
       "A1           4.319367e-01  1.000000e+00  3.868956e-17  3.858925e-17   \n",
       "A1 + MI      3.876605e-17  3.868956e-17  1.000000e+00  2.203408e-16   \n",
       "A1 + D       3.863284e-17  3.858925e-17  2.203408e-16  1.000000e+00   \n",
       "A1 + MI + D  3.856313e-17  3.874856e-17  1.000000e+00  6.067520e-16   \n",
       "\n",
       "              A1 + MI + D  \n",
       "A0           3.856313e-17  \n",
       "A1           3.874856e-17  \n",
       "A1 + MI      1.000000e+00  \n",
       "A1 + D       6.067520e-16  \n",
       "A1 + MI + D  1.000000e+00  "
      ]
     },
     "execution_count": 1,
     "metadata": {},
     "output_type": "execute_result"
    }
   ],
   "source": [
    "encoding = \"3\"\n",
    "accs = []\n",
    "data_combo_list = []\n",
    "for data_combo in results[encoding]:\n",
    "    print(data_combo)\n",
    "    print(encoding)\n",
    "    data_combo_list.append(data_combo)\n",
    "    accs.append(results[encoding][data_combo][\"acc\"])\n",
    "rank_sums = posthoc_wilcoxon(accs, p_adjust=\"bonferroni\")\n",
    "rank_sums.columns = data_combo_list\n",
    "rank_sums.index = data_combo_list\n",
    "rank_sums"
   ]
  },
  {
   "cell_type": "code",
   "execution_count": 10,
   "metadata": {
    "execution": {
     "iopub.execute_input": "2022-05-29T23:43:15.787300Z",
     "iopub.status.busy": "2022-05-29T23:43:15.786490Z",
     "iopub.status.idle": "2022-05-29T23:43:16.422020Z",
     "shell.execute_reply": "2022-05-29T23:43:16.420587Z"
    }
   },
   "outputs": [
    {
     "name": "stdout",
     "output_type": "stream",
     "text": [
      "Encoding method:  1 , Data combo:  A0\n",
      "Encoding method:  1 , Data combo:  A1\n",
      "Encoding method:  1 , Data combo:  A1 + MI\n",
      "Encoding method:  1 , Data combo:  A1 + D\n",
      "Encoding method:  1 , Data combo:  A1 + MI + D\n",
      "Encoding method:  2 , Data combo:  A1\n",
      "Encoding method:  2 , Data combo:  A0\n",
      "Encoding method:  2 , Data combo:  A1 + MI\n",
      "Encoding method:  2 , Data combo:  A1 + D\n",
      "Encoding method:  2 , Data combo:  A1 + MI + D\n",
      "Encoding method:  3 , Data combo:  A0\n",
      "Encoding method:  3 , Data combo:  A1\n",
      "Encoding method:  3 , Data combo:  A1 + MI\n",
      "Encoding method:  3 , Data combo:  A1 + D\n",
      "Encoding method:  3 , Data combo:  A1 + MI + D\n"
     ]
    },
    {
     "data": {
      "text/plain": [
       "[Text(0, 0.5, '(Encoding, data combination)'),\n",
       " Text(0.5, 0, 'Accuracy'),\n",
       " Text(0.5, 1.0, 'BoW Experiments')]"
      ]
     },
     "execution_count": 1,
     "metadata": {},
     "output_type": "execute_result"
    },
    {
     "data": {
      "image/png": "[encoded data removed]",
      "text/plain": [
       "<Figure size 432x288 with 1 Axes>"
      ]
     },
     "metadata": {
      "needs_background": "light"
     },
     "output_type": "display_data"
    }
   ],
   "source": [
    "data = {}\n",
    "for encoding in results:\n",
    "    for data_combo in results[encoding]:\n",
    "        print(\"Encoding method: \", encoding, \", Data combo: \", data_combo)\n",
    "        data[(encoding, data_combo)] = results[encoding][data_combo][\"acc\"]\n",
    "\n",
    "data = pd.DataFrame(data)\n",
    "\n",
    "sns.boxplot(data=data, orient=\"h\").set(\n",
    "    ylabel=\"(Encoding, data combination)\", xlabel=\"Accuracy\", title=\"BoW Experiments\"\n",
    ")"
   ]
  },
  {
   "cell_type": "code",
   "execution_count": null,
   "metadata": {},
   "outputs": [],
   "source": []
  }
 ],
 "metadata": {
  "interpreter": {
   "hash": "98b0a9b7b4eaaa670588a142fd0a9b87eaafe866f1db4228be72b4211d12040f"
  },
  "kernelspec": {
   "display_name": "Python 3.7.10 64-bit ('base': conda)",
   "name": "python3"
  },
  "language_info": {
   "codemirror_mode": {
    "name": "ipython",
    "version": 3
   },
   "file_extension": ".py",
   "mimetype": "text/x-python",
   "name": "python",
   "nbconvert_exporter": "python",
   "pygments_lexer": "ipython3",
   "version": "3.6.9"
  }
 },
 "nbformat": 4,
 "nbformat_minor": 2
}
