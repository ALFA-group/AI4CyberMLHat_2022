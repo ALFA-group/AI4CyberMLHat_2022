{
 "cells": [
  {
   "cell_type": "code",
   "execution_count": 1,
   "metadata": {
    "execution": {
     "iopub.execute_input": "2022-05-30T09:17:01.692659Z",
     "iopub.status.busy": "2022-05-30T09:17:01.689270Z",
     "iopub.status.idle": "2022-05-30T09:17:02.743144Z",
     "shell.execute_reply": "2022-05-30T09:17:02.742563Z"
    }
   },
   "outputs": [],
   "source": [
    "import json\n",
    "import numpy as np\n",
    "import seaborn as sns\n",
    "import pandas as pd\n",
    "from scikit_posthocs import posthoc_wilcoxon"
   ]
  },
  {
   "cell_type": "code",
   "execution_count": 2,
   "metadata": {
    "execution": {
     "iopub.execute_input": "2022-05-30T09:17:02.751923Z",
     "iopub.status.busy": "2022-05-30T09:17:02.751240Z",
     "iopub.status.idle": "2022-05-30T09:17:02.769410Z",
     "shell.execute_reply": "2022-05-30T09:17:02.769975Z"
    }
   },
   "outputs": [],
   "source": [
    "f = open(\"results_100_with_spaCy_cwe_capec.json\")\n",
    "results = json.load(f)\n",
    "\n",
    "f = open(\"results_100_with_spaCy_cwe_capec_with_cve_2021.json\")\n",
    "results_with_cve = json.load(f)"
   ]
  },
  {
   "cell_type": "code",
   "execution_count": 3,
   "metadata": {
    "execution": {
     "iopub.execute_input": "2022-05-30T09:17:02.778867Z",
     "iopub.status.busy": "2022-05-30T09:17:02.777726Z",
     "iopub.status.idle": "2022-05-30T09:17:02.786566Z",
     "shell.execute_reply": "2022-05-30T09:17:02.787400Z"
    }
   },
   "outputs": [
    {
     "name": "stdout",
     "output_type": "stream",
     "text": [
      "0.1600983683097673\n",
      "0.16505538182493149\n",
      "0.8332605531295488\n",
      "0.8241193595342068\n"
     ]
    }
   ],
   "source": [
    "results_fp = results[\"5\"][\"A1 + MI\"][\"fp\"]\n",
    "results_with_cve_fp = results_with_cve[\"5\"][\"A1 + MI\"][\"fp\"]\n",
    "\n",
    "results_acc = results[\"5\"][\"A1 + MI\"][\"acc\"]\n",
    "results_with_cve_acc = results_with_cve[\"5\"][\"A1 + MI\"][\"acc\"]\n",
    "\n",
    "print(np.mean(results_fp))\n",
    "print(np.mean(results_with_cve_fp))\n",
    "\n",
    "print(np.mean(results_acc))\n",
    "print(np.mean(results_with_cve_acc))"
   ]
  },
  {
   "cell_type": "code",
   "execution_count": 4,
   "metadata": {
    "execution": {
     "iopub.execute_input": "2022-05-30T09:17:02.793485Z",
     "iopub.status.busy": "2022-05-30T09:17:02.792450Z",
     "iopub.status.idle": "2022-05-30T09:17:02.797495Z",
     "shell.execute_reply": "2022-05-30T09:17:02.796398Z"
    }
   },
   "outputs": [],
   "source": [
    "results = {\"4\": results[\"4\"], \"5\": results[\"5\"], \"6\": results[\"6\"]}"
   ]
  },
  {
   "cell_type": "code",
   "execution_count": 5,
   "metadata": {
    "execution": {
     "iopub.execute_input": "2022-05-30T09:17:02.809104Z",
     "iopub.status.busy": "2022-05-30T09:17:02.808161Z",
     "iopub.status.idle": "2022-05-30T09:17:02.813560Z",
     "shell.execute_reply": "2022-05-30T09:17:02.814358Z"
    }
   },
   "outputs": [
    {
     "name": "stdout",
     "output_type": "stream",
     "text": [
      "('5', 'A1 + MI')\n",
      "0.8332605531295488\n"
     ]
    }
   ],
   "source": [
    "highest_val = 0\n",
    "highest_encoding = None\n",
    "metric = \"acc\"\n",
    "for encoding in results:\n",
    "    for data_combo in results[encoding]:\n",
    "        mean_metric = np.mean(results[encoding][data_combo][metric])\n",
    "        if mean_metric > highest_val:\n",
    "            highest_val = mean_metric\n",
    "            highest_encoding = (encoding, data_combo)\n",
    "\n",
    "print(highest_encoding)\n",
    "print(highest_val)"
   ]
  },
  {
   "cell_type": "code",
   "execution_count": 6,
   "metadata": {
    "execution": {
     "iopub.execute_input": "2022-05-30T09:17:02.825456Z",
     "iopub.status.busy": "2022-05-30T09:17:02.824510Z",
     "iopub.status.idle": "2022-05-30T09:17:03.128074Z",
     "shell.execute_reply": "2022-05-30T09:17:03.129182Z"
    }
   },
   "outputs": [
    {
     "name": "stdout",
     "output_type": "stream",
     "text": [
      "Encoding method:  5 , Data combo:  A0\n",
      "0.816943231441048\n",
      "Encoding method:  5 , Data combo:  A1\n",
      "0.8171906841339155\n",
      "Encoding method:  5 , Data combo:  A1 + MI\n",
      "0.8332605531295488\n",
      "Encoding method:  5 , Data combo:  A1 + D\n",
      "0.8042794759825328\n",
      "Encoding method:  5 , Data combo:  A1 + MI + D\n",
      "0.8192285298398836\n"
     ]
    },
    {
     "data": {
      "text/plain": [
       "[Text(0, 0.5, 'Data combo'), Text(0.5, 0, 'Metric')]"
      ]
     },
     "execution_count": 1,
     "metadata": {},
     "output_type": "execute_result"
    },
    {
     "data": {
      "image/png": "[encoded data removed]",
      "text/plain": [
       "<Figure size 432x288 with 1 Axes>"
      ]
     },
     "metadata": {
      "needs_background": "light"
     },
     "output_type": "display_data"
    }
   ],
   "source": [
    "encoding = \"5\"\n",
    "\n",
    "data = {}\n",
    "for data_combo in results[encoding]:\n",
    "    print(\"Encoding method: \", encoding, \", Data combo: \", data_combo)\n",
    "    data[data_combo] = results[encoding][data_combo][\"acc\"]\n",
    "    print(np.mean(results[encoding][data_combo][\"acc\"]))\n",
    "\n",
    "data = pd.DataFrame(data)\n",
    "\n",
    "sns.boxplot(data=data, orient=\"h\").set(ylabel=\"Data combo\", xlabel=\"Metric\")"
   ]
  },
  {
   "cell_type": "code",
   "execution_count": 7,
   "metadata": {
    "execution": {
     "iopub.execute_input": "2022-05-30T09:17:03.178016Z",
     "iopub.status.busy": "2022-05-30T09:17:03.176597Z",
     "iopub.status.idle": "2022-05-30T09:17:03.349740Z",
     "shell.execute_reply": "2022-05-30T09:17:03.348552Z"
    }
   },
   "outputs": [
    {
     "name": "stdout",
     "output_type": "stream",
     "text": [
      "Encoding method:  4 , Data combo:  A1\n",
      "Encoding method:  5 , Data combo:  A1\n",
      "Encoding method:  6 , Data combo:  A1\n"
     ]
    },
    {
     "data": {
      "text/plain": [
       "[Text(0, 0.5, 'Encoding'), Text(0.5, 0, 'Metric')]"
      ]
     },
     "execution_count": 1,
     "metadata": {},
     "output_type": "execute_result"
    },
    {
     "data": {
      "image/png": "[encoded data removed]",
      "text/plain": [
       "<Figure size 432x288 with 1 Axes>"
      ]
     },
     "metadata": {
      "needs_background": "light"
     },
     "output_type": "display_data"
    }
   ],
   "source": [
    "data_combo = \"A1\"\n",
    "data = {}\n",
    "for encoding in results:\n",
    "    print(\"Encoding method: \", encoding, \", Data combo: \", data_combo)\n",
    "    data[encoding] = results[encoding][data_combo][\"acc\"]\n",
    "\n",
    "data = pd.DataFrame(data)\n",
    "\n",
    "sns.boxplot(data=data, orient=\"h\").set(ylabel=\"Encoding\", xlabel=\"Metric\")"
   ]
  },
  {
   "cell_type": "code",
   "execution_count": 8,
   "metadata": {
    "execution": {
     "iopub.execute_input": "2022-05-30T09:17:03.361654Z",
     "iopub.status.busy": "2022-05-30T09:17:03.360220Z",
     "iopub.status.idle": "2022-05-30T09:17:03.398985Z",
     "shell.execute_reply": "2022-05-30T09:17:03.400094Z"
    }
   },
   "outputs": [
    {
     "name": "stdout",
     "output_type": "stream",
     "text": [
      "A1\n",
      "4\n",
      "A1\n",
      "5\n",
      "A1\n",
      "6\n"
     ]
    },
    {
     "data": {
      "text/html": [
       "<div>\n",
       "<style scoped>\n",
       "    .dataframe tbody tr th:only-of-type {\n",
       "        vertical-align: middle;\n",
       "    }\n",
       "\n",
       "    .dataframe tbody tr th {\n",
       "        vertical-align: top;\n",
       "    }\n",
       "\n",
       "    .dataframe thead th {\n",
       "        text-align: right;\n",
       "    }\n",
       "</style>\n",
       "<table border=\"1\" class=\"dataframe\">\n",
       "  <thead>\n",
       "    <tr style=\"text-align: right;\">\n",
       "      <th></th>\n",
       "      <th>4</th>\n",
       "      <th>5</th>\n",
       "      <th>6</th>\n",
       "    </tr>\n",
       "  </thead>\n",
       "  <tbody>\n",
       "    <tr>\n",
       "      <th>4</th>\n",
       "      <td>1.000000e+00</td>\n",
       "      <td>1.156698e-17</td>\n",
       "      <td>1.158331e-17</td>\n",
       "    </tr>\n",
       "    <tr>\n",
       "      <th>5</th>\n",
       "      <td>1.156698e-17</td>\n",
       "      <td>1.000000e+00</td>\n",
       "      <td>2.509844e-01</td>\n",
       "    </tr>\n",
       "    <tr>\n",
       "      <th>6</th>\n",
       "      <td>1.158331e-17</td>\n",
       "      <td>2.509844e-01</td>\n",
       "      <td>1.000000e+00</td>\n",
       "    </tr>\n",
       "  </tbody>\n",
       "</table>\n",
       "</div>"
      ],
      "text/plain": [
       "              4             5             6\n",
       "4  1.000000e+00  1.156698e-17  1.158331e-17\n",
       "5  1.156698e-17  1.000000e+00  2.509844e-01\n",
       "6  1.158331e-17  2.509844e-01  1.000000e+00"
      ]
     },
     "execution_count": 1,
     "metadata": {},
     "output_type": "execute_result"
    }
   ],
   "source": [
    "data_combo = \"A1\"\n",
    "accs = []\n",
    "encodings = []\n",
    "for encoding in results:\n",
    "    if data_combo != \"A0\" or encoding not in [\"2\", \"5\"]:\n",
    "        print(data_combo)\n",
    "        print(encoding)\n",
    "        encodings.append(encoding)\n",
    "        accs.append(results[encoding][data_combo][\"acc\"])\n",
    "\n",
    "rank_sums = posthoc_wilcoxon(accs, p_adjust=\"bonferroni\")\n",
    "rank_sums.columns = encodings\n",
    "rank_sums.index = encodings\n",
    "rank_sums"
   ]
  },
  {
   "cell_type": "code",
   "execution_count": 9,
   "metadata": {
    "execution": {
     "iopub.execute_input": "2022-05-30T09:17:03.411788Z",
     "iopub.status.busy": "2022-05-30T09:17:03.410624Z",
     "iopub.status.idle": "2022-05-30T09:17:03.453180Z",
     "shell.execute_reply": "2022-05-30T09:17:03.454409Z"
    }
   },
   "outputs": [
    {
     "name": "stdout",
     "output_type": "stream",
     "text": [
      "A0\n",
      "4\n",
      "A1\n",
      "4\n",
      "A1 + MI\n",
      "4\n",
      "A1 + D\n",
      "4\n",
      "A1 + MI + D\n",
      "4\n"
     ]
    },
    {
     "data": {
      "text/html": [
       "<div>\n",
       "<style scoped>\n",
       "    .dataframe tbody tr th:only-of-type {\n",
       "        vertical-align: middle;\n",
       "    }\n",
       "\n",
       "    .dataframe tbody tr th {\n",
       "        vertical-align: top;\n",
       "    }\n",
       "\n",
       "    .dataframe thead th {\n",
       "        text-align: right;\n",
       "    }\n",
       "</style>\n",
       "<table border=\"1\" class=\"dataframe\">\n",
       "  <thead>\n",
       "    <tr style=\"text-align: right;\">\n",
       "      <th></th>\n",
       "      <th>A0</th>\n",
       "      <th>A1</th>\n",
       "      <th>A1 + MI</th>\n",
       "      <th>A1 + D</th>\n",
       "      <th>A1 + MI + D</th>\n",
       "    </tr>\n",
       "  </thead>\n",
       "  <tbody>\n",
       "    <tr>\n",
       "      <th>A0</th>\n",
       "      <td>1.000000e+00</td>\n",
       "      <td>3.879888e-17</td>\n",
       "      <td>3.995154e-17</td>\n",
       "      <td>3.870922e-17</td>\n",
       "      <td>3.997182e-17</td>\n",
       "    </tr>\n",
       "    <tr>\n",
       "      <th>A1</th>\n",
       "      <td>3.879888e-17</td>\n",
       "      <td>1.000000e+00</td>\n",
       "      <td>9.891843e-12</td>\n",
       "      <td>1.702811e-16</td>\n",
       "      <td>1.109589e-13</td>\n",
       "    </tr>\n",
       "    <tr>\n",
       "      <th>A1 + MI</th>\n",
       "      <td>3.995154e-17</td>\n",
       "      <td>9.891843e-12</td>\n",
       "      <td>1.000000e+00</td>\n",
       "      <td>9.856040e-03</td>\n",
       "      <td>4.024811e-01</td>\n",
       "    </tr>\n",
       "    <tr>\n",
       "      <th>A1 + D</th>\n",
       "      <td>3.870922e-17</td>\n",
       "      <td>1.702811e-16</td>\n",
       "      <td>9.856040e-03</td>\n",
       "      <td>1.000000e+00</td>\n",
       "      <td>1.161590e-01</td>\n",
       "    </tr>\n",
       "    <tr>\n",
       "      <th>A1 + MI + D</th>\n",
       "      <td>3.997182e-17</td>\n",
       "      <td>1.109589e-13</td>\n",
       "      <td>4.024811e-01</td>\n",
       "      <td>1.161590e-01</td>\n",
       "      <td>1.000000e+00</td>\n",
       "    </tr>\n",
       "  </tbody>\n",
       "</table>\n",
       "</div>"
      ],
      "text/plain": [
       "                       A0            A1       A1 + MI        A1 + D  \\\n",
       "A0           1.000000e+00  3.879888e-17  3.995154e-17  3.870922e-17   \n",
       "A1           3.879888e-17  1.000000e+00  9.891843e-12  1.702811e-16   \n",
       "A1 + MI      3.995154e-17  9.891843e-12  1.000000e+00  9.856040e-03   \n",
       "A1 + D       3.870922e-17  1.702811e-16  9.856040e-03  1.000000e+00   \n",
       "A1 + MI + D  3.997182e-17  1.109589e-13  4.024811e-01  1.161590e-01   \n",
       "\n",
       "              A1 + MI + D  \n",
       "A0           3.997182e-17  \n",
       "A1           1.109589e-13  \n",
       "A1 + MI      4.024811e-01  \n",
       "A1 + D       1.161590e-01  \n",
       "A1 + MI + D  1.000000e+00  "
      ]
     },
     "execution_count": 1,
     "metadata": {},
     "output_type": "execute_result"
    }
   ],
   "source": [
    "encoding = \"4\"\n",
    "accs = []\n",
    "data_combo_list = []\n",
    "for data_combo in results[encoding]:\n",
    "    print(data_combo)\n",
    "    print(encoding)\n",
    "    data_combo_list.append(data_combo)\n",
    "    accs.append(results[encoding][data_combo][\"acc\"])\n",
    "rank_sums = posthoc_wilcoxon(accs, p_adjust=\"bonferroni\")\n",
    "rank_sums.columns = data_combo_list\n",
    "rank_sums.index = data_combo_list\n",
    "rank_sums"
   ]
  },
  {
   "cell_type": "code",
   "execution_count": 10,
   "metadata": {
    "execution": {
     "iopub.execute_input": "2022-05-30T09:17:03.464768Z",
     "iopub.status.busy": "2022-05-30T09:17:03.463744Z",
     "iopub.status.idle": "2022-05-30T09:17:04.017039Z",
     "shell.execute_reply": "2022-05-30T09:17:04.018077Z"
    }
   },
   "outputs": [
    {
     "name": "stdout",
     "output_type": "stream",
     "text": [
      "Encoding method:  4 , Data combo:  A0\n",
      "Encoding method:  4 , Data combo:  A1\n",
      "Encoding method:  4 , Data combo:  A1 + MI\n",
      "Encoding method:  4 , Data combo:  A1 + D\n",
      "Encoding method:  4 , Data combo:  A1 + MI + D\n",
      "Encoding method:  5 , Data combo:  A0\n",
      "Encoding method:  5 , Data combo:  A1\n",
      "Encoding method:  5 , Data combo:  A1 + MI\n",
      "Encoding method:  5 , Data combo:  A1 + D\n",
      "Encoding method:  5 , Data combo:  A1 + MI + D\n",
      "Encoding method:  6 , Data combo:  A0\n",
      "Encoding method:  6 , Data combo:  A1\n",
      "Encoding method:  6 , Data combo:  A1 + MI\n",
      "Encoding method:  6 , Data combo:  A1 + D\n",
      "Encoding method:  6 , Data combo:  A1 + MI + D\n"
     ]
    },
    {
     "data": {
      "text/plain": [
       "[Text(0, 0.5, '(Encoding, data combination)'),\n",
       " Text(0.5, 0, 'Accuracy'),\n",
       " Text(0.5, 1.0, 'spaCy Experiments')]"
      ]
     },
     "execution_count": 1,
     "metadata": {},
     "output_type": "execute_result"
    },
    {
     "data": {
      "image/png": "[encoded data removed]",
      "text/plain": [
       "<Figure size 432x288 with 1 Axes>"
      ]
     },
     "metadata": {
      "needs_background": "light"
     },
     "output_type": "display_data"
    }
   ],
   "source": [
    "data = {}\n",
    "for encoding in results:\n",
    "    for data_combo in results[encoding]:\n",
    "        print(\"Encoding method: \", encoding, \", Data combo: \", data_combo)\n",
    "        data[(encoding, data_combo)] = results[encoding][data_combo][\"acc\"]\n",
    "\n",
    "data = pd.DataFrame(data)\n",
    "\n",
    "sns.boxplot(data=data, orient=\"h\").set(\n",
    "    ylabel=\"(Encoding, data combination)\", xlabel=\"Accuracy\", title=\"spaCy Experiments\"\n",
    ")"
   ]
  },
  {
   "cell_type": "code",
   "execution_count": 11,
   "metadata": {
    "execution": {
     "iopub.execute_input": "2022-05-30T09:17:04.028796Z",
     "iopub.status.busy": "2022-05-30T09:17:04.027599Z",
     "iopub.status.idle": "2022-05-30T09:17:04.126382Z",
     "shell.execute_reply": "2022-05-30T09:17:04.127268Z"
    }
   },
   "outputs": [
    {
     "data": {
      "text/html": [
       "<div>\n",
       "<style scoped>\n",
       "    .dataframe tbody tr th:only-of-type {\n",
       "        vertical-align: middle;\n",
       "    }\n",
       "\n",
       "    .dataframe tbody tr th {\n",
       "        vertical-align: top;\n",
       "    }\n",
       "\n",
       "    .dataframe thead th {\n",
       "        text-align: right;\n",
       "    }\n",
       "</style>\n",
       "<table border=\"1\" class=\"dataframe\">\n",
       "  <thead>\n",
       "    <tr style=\"text-align: right;\">\n",
       "      <th></th>\n",
       "      <th>(4, A0)</th>\n",
       "      <th>(4, A1)</th>\n",
       "      <th>(4, A1 + MI)</th>\n",
       "      <th>(4, A1 + D)</th>\n",
       "      <th>(4, A1 + MI + D)</th>\n",
       "      <th>(5, A1)</th>\n",
       "      <th>(5, A1 + MI)</th>\n",
       "      <th>(5, A1 + D)</th>\n",
       "      <th>(5, A1 + MI + D)</th>\n",
       "      <th>(6, A0)</th>\n",
       "      <th>(6, A1)</th>\n",
       "      <th>(6, A1 + MI)</th>\n",
       "      <th>(6, A1 + D)</th>\n",
       "      <th>(6, A1 + MI + D)</th>\n",
       "    </tr>\n",
       "  </thead>\n",
       "  <tbody>\n",
       "    <tr>\n",
       "      <th>(4, A0)</th>\n",
       "      <td>1.000000e+00</td>\n",
       "      <td>3.530698e-16</td>\n",
       "      <td>3.635590e-16</td>\n",
       "      <td>3.522539e-16</td>\n",
       "      <td>3.637436e-16</td>\n",
       "      <td>3.518367e-16</td>\n",
       "      <td>3.521148e-16</td>\n",
       "      <td>3.527512e-16</td>\n",
       "      <td>3.529105e-16</td>\n",
       "      <td>3.518168e-16</td>\n",
       "      <td>3.532491e-16</td>\n",
       "      <td>3.530499e-16</td>\n",
       "      <td>3.525920e-16</td>\n",
       "      <td>3.534086e-16</td>\n",
       "    </tr>\n",
       "    <tr>\n",
       "      <th>(4, A1)</th>\n",
       "      <td>3.530698e-16</td>\n",
       "      <td>1.000000e+00</td>\n",
       "      <td>9.001577e-11</td>\n",
       "      <td>1.549558e-15</td>\n",
       "      <td>1.009726e-12</td>\n",
       "      <td>3.508650e-16</td>\n",
       "      <td>3.513010e-16</td>\n",
       "      <td>1.020430e-15</td>\n",
       "      <td>3.721896e-16</td>\n",
       "      <td>5.307248e-16</td>\n",
       "      <td>3.513605e-16</td>\n",
       "      <td>1.000000e+00</td>\n",
       "      <td>6.439012e-12</td>\n",
       "      <td>3.209500e-06</td>\n",
       "    </tr>\n",
       "    <tr>\n",
       "      <th>(4, A1 + MI)</th>\n",
       "      <td>3.635590e-16</td>\n",
       "      <td>9.001577e-11</td>\n",
       "      <td>1.000000e+00</td>\n",
       "      <td>8.968997e-02</td>\n",
       "      <td>1.000000e+00</td>\n",
       "      <td>3.521148e-16</td>\n",
       "      <td>3.521347e-16</td>\n",
       "      <td>3.504494e-16</td>\n",
       "      <td>3.517573e-16</td>\n",
       "      <td>3.522340e-16</td>\n",
       "      <td>3.519956e-16</td>\n",
       "      <td>1.189461e-10</td>\n",
       "      <td>6.268484e-16</td>\n",
       "      <td>3.902477e-03</td>\n",
       "    </tr>\n",
       "    <tr>\n",
       "      <th>(4, A1 + D)</th>\n",
       "      <td>3.522539e-16</td>\n",
       "      <td>1.549558e-15</td>\n",
       "      <td>8.968997e-02</td>\n",
       "      <td>1.000000e+00</td>\n",
       "      <td>1.000000e+00</td>\n",
       "      <td>3.498564e-16</td>\n",
       "      <td>3.516779e-16</td>\n",
       "      <td>3.503307e-16</td>\n",
       "      <td>3.502516e-16</td>\n",
       "      <td>3.520552e-16</td>\n",
       "      <td>3.526119e-16</td>\n",
       "      <td>3.459473e-14</td>\n",
       "      <td>5.146407e-16</td>\n",
       "      <td>1.385379e-10</td>\n",
       "    </tr>\n",
       "    <tr>\n",
       "      <th>(4, A1 + MI + D)</th>\n",
       "      <td>3.637436e-16</td>\n",
       "      <td>1.009726e-12</td>\n",
       "      <td>1.000000e+00</td>\n",
       "      <td>1.000000e+00</td>\n",
       "      <td>1.000000e+00</td>\n",
       "      <td>3.512018e-16</td>\n",
       "      <td>3.512613e-16</td>\n",
       "      <td>3.519558e-16</td>\n",
       "      <td>3.521545e-16</td>\n",
       "      <td>3.525124e-16</td>\n",
       "      <td>3.521347e-16</td>\n",
       "      <td>6.557884e-14</td>\n",
       "      <td>3.628423e-16</td>\n",
       "      <td>3.258894e-06</td>\n",
       "    </tr>\n",
       "    <tr>\n",
       "      <th>(5, A1)</th>\n",
       "      <td>3.518367e-16</td>\n",
       "      <td>3.508650e-16</td>\n",
       "      <td>3.521148e-16</td>\n",
       "      <td>3.498564e-16</td>\n",
       "      <td>3.512018e-16</td>\n",
       "      <td>1.000000e+00</td>\n",
       "      <td>5.524894e-15</td>\n",
       "      <td>1.770904e-12</td>\n",
       "      <td>1.000000e+00</td>\n",
       "      <td>1.000000e+00</td>\n",
       "      <td>1.000000e+00</td>\n",
       "      <td>3.514596e-16</td>\n",
       "      <td>7.339210e-16</td>\n",
       "      <td>3.623924e-16</td>\n",
       "    </tr>\n",
       "    <tr>\n",
       "      <th>(5, A1 + MI)</th>\n",
       "      <td>3.521148e-16</td>\n",
       "      <td>3.513010e-16</td>\n",
       "      <td>3.521347e-16</td>\n",
       "      <td>3.516779e-16</td>\n",
       "      <td>3.512613e-16</td>\n",
       "      <td>5.524894e-15</td>\n",
       "      <td>1.000000e+00</td>\n",
       "      <td>5.365085e-16</td>\n",
       "      <td>1.292615e-13</td>\n",
       "      <td>7.104562e-14</td>\n",
       "      <td>1.191713e-12</td>\n",
       "      <td>3.521347e-16</td>\n",
       "      <td>3.513010e-16</td>\n",
       "      <td>3.519360e-16</td>\n",
       "    </tr>\n",
       "    <tr>\n",
       "      <th>(5, A1 + D)</th>\n",
       "      <td>3.527512e-16</td>\n",
       "      <td>1.020430e-15</td>\n",
       "      <td>3.504494e-16</td>\n",
       "      <td>3.503307e-16</td>\n",
       "      <td>3.519558e-16</td>\n",
       "      <td>1.770904e-12</td>\n",
       "      <td>5.365085e-16</td>\n",
       "      <td>1.000000e+00</td>\n",
       "      <td>5.728259e-14</td>\n",
       "      <td>8.553210e-11</td>\n",
       "      <td>8.040968e-14</td>\n",
       "      <td>5.297486e-16</td>\n",
       "      <td>3.250035e-14</td>\n",
       "      <td>3.592176e-16</td>\n",
       "    </tr>\n",
       "    <tr>\n",
       "      <th>(5, A1 + MI + D)</th>\n",
       "      <td>3.529105e-16</td>\n",
       "      <td>3.721896e-16</td>\n",
       "      <td>3.517573e-16</td>\n",
       "      <td>3.502516e-16</td>\n",
       "      <td>3.521545e-16</td>\n",
       "      <td>1.000000e+00</td>\n",
       "      <td>1.292615e-13</td>\n",
       "      <td>5.728259e-14</td>\n",
       "      <td>1.000000e+00</td>\n",
       "      <td>1.000000e+00</td>\n",
       "      <td>1.000000e+00</td>\n",
       "      <td>3.520949e-16</td>\n",
       "      <td>3.494419e-16</td>\n",
       "      <td>3.505681e-16</td>\n",
       "    </tr>\n",
       "    <tr>\n",
       "      <th>(6, A0)</th>\n",
       "      <td>3.518168e-16</td>\n",
       "      <td>5.307248e-16</td>\n",
       "      <td>3.522340e-16</td>\n",
       "      <td>3.520552e-16</td>\n",
       "      <td>3.525124e-16</td>\n",
       "      <td>1.000000e+00</td>\n",
       "      <td>7.104562e-14</td>\n",
       "      <td>8.553210e-11</td>\n",
       "      <td>1.000000e+00</td>\n",
       "      <td>1.000000e+00</td>\n",
       "      <td>1.000000e+00</td>\n",
       "      <td>3.519161e-16</td>\n",
       "      <td>9.594113e-16</td>\n",
       "      <td>3.616166e-16</td>\n",
       "    </tr>\n",
       "    <tr>\n",
       "      <th>(6, A1)</th>\n",
       "      <td>3.532491e-16</td>\n",
       "      <td>3.513605e-16</td>\n",
       "      <td>3.519956e-16</td>\n",
       "      <td>3.526119e-16</td>\n",
       "      <td>3.521347e-16</td>\n",
       "      <td>1.000000e+00</td>\n",
       "      <td>1.191713e-12</td>\n",
       "      <td>8.040968e-14</td>\n",
       "      <td>1.000000e+00</td>\n",
       "      <td>1.000000e+00</td>\n",
       "      <td>1.000000e+00</td>\n",
       "      <td>3.524130e-16</td>\n",
       "      <td>7.941056e-16</td>\n",
       "      <td>3.627195e-16</td>\n",
       "    </tr>\n",
       "    <tr>\n",
       "      <th>(6, A1 + MI)</th>\n",
       "      <td>3.530499e-16</td>\n",
       "      <td>1.000000e+00</td>\n",
       "      <td>1.189461e-10</td>\n",
       "      <td>3.459473e-14</td>\n",
       "      <td>6.557884e-14</td>\n",
       "      <td>3.514596e-16</td>\n",
       "      <td>3.521347e-16</td>\n",
       "      <td>5.297486e-16</td>\n",
       "      <td>3.520949e-16</td>\n",
       "      <td>3.519161e-16</td>\n",
       "      <td>3.524130e-16</td>\n",
       "      <td>1.000000e+00</td>\n",
       "      <td>4.761858e-15</td>\n",
       "      <td>1.170985e-05</td>\n",
       "    </tr>\n",
       "    <tr>\n",
       "      <th>(6, A1 + D)</th>\n",
       "      <td>3.525920e-16</td>\n",
       "      <td>6.439012e-12</td>\n",
       "      <td>6.268484e-16</td>\n",
       "      <td>5.146407e-16</td>\n",
       "      <td>3.628423e-16</td>\n",
       "      <td>7.339210e-16</td>\n",
       "      <td>3.513010e-16</td>\n",
       "      <td>3.250035e-14</td>\n",
       "      <td>3.494419e-16</td>\n",
       "      <td>9.594113e-16</td>\n",
       "      <td>7.941056e-16</td>\n",
       "      <td>4.761858e-15</td>\n",
       "      <td>1.000000e+00</td>\n",
       "      <td>4.024940e-16</td>\n",
       "    </tr>\n",
       "    <tr>\n",
       "      <th>(6, A1 + MI + D)</th>\n",
       "      <td>3.534086e-16</td>\n",
       "      <td>3.209500e-06</td>\n",
       "      <td>3.902477e-03</td>\n",
       "      <td>1.385379e-10</td>\n",
       "      <td>3.258894e-06</td>\n",
       "      <td>3.623924e-16</td>\n",
       "      <td>3.519360e-16</td>\n",
       "      <td>3.592176e-16</td>\n",
       "      <td>3.505681e-16</td>\n",
       "      <td>3.616166e-16</td>\n",
       "      <td>3.627195e-16</td>\n",
       "      <td>1.170985e-05</td>\n",
       "      <td>4.024940e-16</td>\n",
       "      <td>1.000000e+00</td>\n",
       "    </tr>\n",
       "  </tbody>\n",
       "</table>\n",
       "</div>"
      ],
      "text/plain": [
       "                       (4, A0)       (4, A1)  (4, A1 + MI)   (4, A1 + D)  \\\n",
       "(4, A0)           1.000000e+00  3.530698e-16  3.635590e-16  3.522539e-16   \n",
       "(4, A1)           3.530698e-16  1.000000e+00  9.001577e-11  1.549558e-15   \n",
       "(4, A1 + MI)      3.635590e-16  9.001577e-11  1.000000e+00  8.968997e-02   \n",
       "(4, A1 + D)       3.522539e-16  1.549558e-15  8.968997e-02  1.000000e+00   \n",
       "(4, A1 + MI + D)  3.637436e-16  1.009726e-12  1.000000e+00  1.000000e+00   \n",
       "(5, A1)           3.518367e-16  3.508650e-16  3.521148e-16  3.498564e-16   \n",
       "(5, A1 + MI)      3.521148e-16  3.513010e-16  3.521347e-16  3.516779e-16   \n",
       "(5, A1 + D)       3.527512e-16  1.020430e-15  3.504494e-16  3.503307e-16   \n",
       "(5, A1 + MI + D)  3.529105e-16  3.721896e-16  3.517573e-16  3.502516e-16   \n",
       "(6, A0)           3.518168e-16  5.307248e-16  3.522340e-16  3.520552e-16   \n",
       "(6, A1)           3.532491e-16  3.513605e-16  3.519956e-16  3.526119e-16   \n",
       "(6, A1 + MI)      3.530499e-16  1.000000e+00  1.189461e-10  3.459473e-14   \n",
       "(6, A1 + D)       3.525920e-16  6.439012e-12  6.268484e-16  5.146407e-16   \n",
       "(6, A1 + MI + D)  3.534086e-16  3.209500e-06  3.902477e-03  1.385379e-10   \n",
       "\n",
       "                  (4, A1 + MI + D)       (5, A1)  (5, A1 + MI)   (5, A1 + D)  \\\n",
       "(4, A0)               3.637436e-16  3.518367e-16  3.521148e-16  3.527512e-16   \n",
       "(4, A1)               1.009726e-12  3.508650e-16  3.513010e-16  1.020430e-15   \n",
       "(4, A1 + MI)          1.000000e+00  3.521148e-16  3.521347e-16  3.504494e-16   \n",
       "(4, A1 + D)           1.000000e+00  3.498564e-16  3.516779e-16  3.503307e-16   \n",
       "(4, A1 + MI + D)      1.000000e+00  3.512018e-16  3.512613e-16  3.519558e-16   \n",
       "(5, A1)               3.512018e-16  1.000000e+00  5.524894e-15  1.770904e-12   \n",
       "(5, A1 + MI)          3.512613e-16  5.524894e-15  1.000000e+00  5.365085e-16   \n",
       "(5, A1 + D)           3.519558e-16  1.770904e-12  5.365085e-16  1.000000e+00   \n",
       "(5, A1 + MI + D)      3.521545e-16  1.000000e+00  1.292615e-13  5.728259e-14   \n",
       "(6, A0)               3.525124e-16  1.000000e+00  7.104562e-14  8.553210e-11   \n",
       "(6, A1)               3.521347e-16  1.000000e+00  1.191713e-12  8.040968e-14   \n",
       "(6, A1 + MI)          6.557884e-14  3.514596e-16  3.521347e-16  5.297486e-16   \n",
       "(6, A1 + D)           3.628423e-16  7.339210e-16  3.513010e-16  3.250035e-14   \n",
       "(6, A1 + MI + D)      3.258894e-06  3.623924e-16  3.519360e-16  3.592176e-16   \n",
       "\n",
       "                  (5, A1 + MI + D)       (6, A0)       (6, A1)  (6, A1 + MI)  \\\n",
       "(4, A0)               3.529105e-16  3.518168e-16  3.532491e-16  3.530499e-16   \n",
       "(4, A1)               3.721896e-16  5.307248e-16  3.513605e-16  1.000000e+00   \n",
       "(4, A1 + MI)          3.517573e-16  3.522340e-16  3.519956e-16  1.189461e-10   \n",
       "(4, A1 + D)           3.502516e-16  3.520552e-16  3.526119e-16  3.459473e-14   \n",
       "(4, A1 + MI + D)      3.521545e-16  3.525124e-16  3.521347e-16  6.557884e-14   \n",
       "(5, A1)               1.000000e+00  1.000000e+00  1.000000e+00  3.514596e-16   \n",
       "(5, A1 + MI)          1.292615e-13  7.104562e-14  1.191713e-12  3.521347e-16   \n",
       "(5, A1 + D)           5.728259e-14  8.553210e-11  8.040968e-14  5.297486e-16   \n",
       "(5, A1 + MI + D)      1.000000e+00  1.000000e+00  1.000000e+00  3.520949e-16   \n",
       "(6, A0)               1.000000e+00  1.000000e+00  1.000000e+00  3.519161e-16   \n",
       "(6, A1)               1.000000e+00  1.000000e+00  1.000000e+00  3.524130e-16   \n",
       "(6, A1 + MI)          3.520949e-16  3.519161e-16  3.524130e-16  1.000000e+00   \n",
       "(6, A1 + D)           3.494419e-16  9.594113e-16  7.941056e-16  4.761858e-15   \n",
       "(6, A1 + MI + D)      3.505681e-16  3.616166e-16  3.627195e-16  1.170985e-05   \n",
       "\n",
       "                   (6, A1 + D)  (6, A1 + MI + D)  \n",
       "(4, A0)           3.525920e-16      3.534086e-16  \n",
       "(4, A1)           6.439012e-12      3.209500e-06  \n",
       "(4, A1 + MI)      6.268484e-16      3.902477e-03  \n",
       "(4, A1 + D)       5.146407e-16      1.385379e-10  \n",
       "(4, A1 + MI + D)  3.628423e-16      3.258894e-06  \n",
       "(5, A1)           7.339210e-16      3.623924e-16  \n",
       "(5, A1 + MI)      3.513010e-16      3.519360e-16  \n",
       "(5, A1 + D)       3.250035e-14      3.592176e-16  \n",
       "(5, A1 + MI + D)  3.494419e-16      3.505681e-16  \n",
       "(6, A0)           9.594113e-16      3.616166e-16  \n",
       "(6, A1)           7.941056e-16      3.627195e-16  \n",
       "(6, A1 + MI)      4.761858e-15      1.170985e-05  \n",
       "(6, A1 + D)       1.000000e+00      4.024940e-16  \n",
       "(6, A1 + MI + D)  4.024940e-16      1.000000e+00  "
      ]
     },
     "execution_count": 1,
     "metadata": {},
     "output_type": "execute_result"
    }
   ],
   "source": [
    "accs = []\n",
    "data_combo_list = []\n",
    "for encoding in results:\n",
    "    for data_combo in results[encoding]:\n",
    "        if data_combo != \"A0\" or encoding not in [\"5\"]:\n",
    "            data_combo_list.append((encoding, data_combo))\n",
    "            accs.append(results[encoding][data_combo][\"acc\"])\n",
    "rank_sums = posthoc_wilcoxon(accs, p_adjust=\"bonferroni\")\n",
    "rank_sums.columns = data_combo_list\n",
    "rank_sums.index = data_combo_list\n",
    "rank_sums"
   ]
  },
  {
   "cell_type": "code",
   "execution_count": null,
   "metadata": {},
   "outputs": [],
   "source": []
  }
 ],
 "metadata": {
  "interpreter": {
   "hash": "98b0a9b7b4eaaa670588a142fd0a9b87eaafe866f1db4228be72b4211d12040f"
  },
  "kernelspec": {
   "display_name": "Python 3.7.10 64-bit ('base': conda)",
   "name": "python3"
  },
  "language_info": {
   "codemirror_mode": {
    "name": "ipython",
    "version": 3
   },
   "file_extension": ".py",
   "mimetype": "text/x-python",
   "name": "python",
   "nbconvert_exporter": "python",
   "pygments_lexer": "ipython3",
   "version": "3.6.9"
  }
 },
 "nbformat": 4,
 "nbformat_minor": 2
}
