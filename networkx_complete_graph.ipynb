{
 "cells": [
  {
   "cell_type": "code",
   "execution_count": 1,
   "metadata": {
    "execution": {
     "iopub.execute_input": "2022-06-01T09:52:46.985267Z",
     "iopub.status.busy": "2022-06-01T09:52:46.982390Z",
     "iopub.status.idle": "2022-06-01T09:52:47.511620Z",
     "shell.execute_reply": "2022-06-01T09:52:47.510791Z"
    }
   },
   "outputs": [],
   "source": [
    "import networkx as nx\n",
    "import json"
   ]
  },
  {
   "cell_type": "code",
   "execution_count": 2,
   "metadata": {
    "execution": {
     "iopub.execute_input": "2022-06-01T09:52:47.524702Z",
     "iopub.status.busy": "2022-06-01T09:52:47.523891Z",
     "iopub.status.idle": "2022-06-01T09:52:47.532937Z",
     "shell.execute_reply": "2022-06-01T09:52:47.533646Z"
    }
   },
   "outputs": [
    {
     "data": {
      "text/plain": [
       "'\\nGraph with CWEs, APs, techniques, tactics\\n\\nEdges between CWE/APs and APs/techniques are such that every CWE/AP or AP/technique is represented in at least one of the edges, and all edges\\nhave at least one link in the true graph. For example, in the current graph, for the AP node with count 22 is connected to technique nodes with \\ncounts 3, 83, and 24. The number of links in these four edges will add to at least 22 (for each AP), and each edge has at least one link.\\n\\nEdges linked to tactics are such that every element in the technique node connects to at least one of the tactics.\\n'"
      ]
     },
     "execution_count": 2,
     "metadata": {},
     "output_type": "execute_result"
    }
   ],
   "source": [
    "\"\"\"\n",
    "Graph with CWEs, APs, techniques, tactics\n",
    "\n",
    "Edges between CWE/APs and APs/techniques are such that every CWE/AP or AP/technique is represented in at least one of the edges, and all edges\n",
    "have at least one link in the true graph. For example, in the current graph, for the AP node with count 22 is connected to technique nodes with \n",
    "counts 3, 83, and 24. The number of links in these four edges will add to at least 22 (for each AP), and each edge has at least one link.\n",
    "\n",
    "Edges linked to tactics are such that every element in the technique node connects to at least one of the tactics.\n",
    "\"\"\""
   ]
  },
  {
   "cell_type": "code",
   "execution_count": 3,
   "metadata": {
    "execution": {
     "iopub.execute_input": "2022-06-01T09:52:47.544728Z",
     "iopub.status.busy": "2022-06-01T09:52:47.543813Z",
     "iopub.status.idle": "2022-06-01T09:52:47.593039Z",
     "shell.execute_reply": "2022-06-01T09:52:47.591152Z"
    }
   },
   "outputs": [],
   "source": [
    "with open(\"w_dict.json\", \"r\") as f:\n",
    "    w_dict = json.load(f)\n",
    "with open(\"ap_dict.json\", \"r\") as f:\n",
    "    ap_dict = json.load(f)\n",
    "with open(\"technique_dict.json\", \"r\") as f:\n",
    "    technique_dict = json.load(f)\n",
    "\n",
    "f = open(\"cwe_mitigation_ids_temp.json\")\n",
    "w_mitigation = json.load(f)\n",
    "\n",
    "f = open(\"capec_mitigation_temp.json\")\n",
    "ap_mitigation = json.load(f)\n",
    "\n",
    "f = open(\"technique_mitigation_temp.json\")\n",
    "technique_mitigation = json.load(f)\n",
    "\n",
    "f = open(\"technique_detection_temp.json\")\n",
    "technique_detection = json.load(f)\n",
    "\n",
    "f = open(\"capec_detection_temp.json\")\n",
    "ap_detection = json.load(f)\n",
    "\n",
    "f = open(\"cwe_detection_temp.json\")\n",
    "w_detection = json.load(f)\n",
    "\n",
    "f = open(\"d3fend_technique.json\")\n",
    "d3fend_technique = json.load(f)\n",
    "\n",
    "f = open(\"engage_technique.json\")\n",
    "engage_technique = json.load(f)\n",
    "\n",
    "f = open(\"d3fend.json\")\n",
    "d3 = json.load(f)\n",
    "\n",
    "f = open(\"engage_activity.json\")\n",
    "engage_activity = json.load(f)\n",
    "\n",
    "f = open(\"tactic_temp.json\")\n",
    "tactic = json.load(f)"
   ]
  },
  {
   "cell_type": "code",
   "execution_count": 4,
   "metadata": {
    "execution": {
     "iopub.execute_input": "2022-06-01T09:52:47.601389Z",
     "iopub.status.busy": "2022-06-01T09:52:47.599641Z",
     "iopub.status.idle": "2022-06-01T09:52:47.604586Z",
     "shell.execute_reply": "2022-06-01T09:52:47.603012Z"
    }
   },
   "outputs": [],
   "source": [
    "G = nx.Graph()"
   ]
  },
  {
   "cell_type": "code",
   "execution_count": 5,
   "metadata": {
    "execution": {
     "iopub.execute_input": "2022-06-01T09:52:47.619731Z",
     "iopub.status.busy": "2022-06-01T09:52:47.618407Z",
     "iopub.status.idle": "2022-06-01T09:52:47.625373Z",
     "shell.execute_reply": "2022-06-01T09:52:47.624252Z"
    }
   },
   "outputs": [
    {
     "data": {
      "text/plain": [
       "{'cwe': 600,\n",
       " 'cwe_aps_no techniques': 256,\n",
       " 'cwe_aps_techniques_no techniques_tactics': 55,\n",
       " 'cwe_aps_techniques_tactics': 13}"
      ]
     },
     "execution_count": 5,
     "metadata": {},
     "output_type": "execute_result"
    }
   ],
   "source": [
    "counts_dict = {}\n",
    "for w in w_dict:\n",
    "    links = w_dict[w]\n",
    "    str = [\"cwe\"]\n",
    "    if links[\"ap\"]:\n",
    "        str.append(\"aps\")\n",
    "\n",
    "    techniques = False\n",
    "    no_techniques = False\n",
    "    tactics = False\n",
    "    no_tactics = False\n",
    "    for ap in links[\"ap\"]:\n",
    "        if ap_dict[ap][\"techniques\"]:\n",
    "            techniques = True\n",
    "        else:\n",
    "            no_techniques = True\n",
    "        for technique in ap_dict[ap][\"techniques\"]:\n",
    "            if technique_dict[technique][\"tactics\"]:\n",
    "                tactics = True\n",
    "            else:\n",
    "                no_tactics = True\n",
    "    if techniques:\n",
    "        str.append(\"techniques\")\n",
    "    if no_techniques:\n",
    "        str.append(\"no techniques\")\n",
    "    if tactics:\n",
    "        str.append(\"tactics\")\n",
    "    if no_tactics:\n",
    "        str.append(\"no tactics\")\n",
    "\n",
    "    str = \"_\".join(str)\n",
    "\n",
    "    if str in counts_dict:\n",
    "        counts_dict[str] += 1\n",
    "    else:\n",
    "        counts_dict[str] = 1\n",
    "\n",
    "counts_dict"
   ]
  },
  {
   "cell_type": "code",
   "execution_count": 6,
   "metadata": {
    "execution": {
     "iopub.execute_input": "2022-06-01T09:52:47.632300Z",
     "iopub.status.busy": "2022-06-01T09:52:47.631115Z",
     "iopub.status.idle": "2022-06-01T09:52:47.635360Z",
     "shell.execute_reply": "2022-06-01T09:52:47.634462Z"
    }
   },
   "outputs": [],
   "source": [
    "for key in counts_dict:\n",
    "    G.add_node(key, label=counts_dict[key], color=\"red\", title=key)"
   ]
  },
  {
   "cell_type": "code",
   "execution_count": 7,
   "metadata": {
    "execution": {
     "iopub.execute_input": "2022-06-01T09:52:47.647064Z",
     "iopub.status.busy": "2022-06-01T09:52:47.645944Z",
     "iopub.status.idle": "2022-06-01T09:52:47.651529Z",
     "shell.execute_reply": "2022-06-01T09:52:47.650649Z"
    }
   },
   "outputs": [
    {
     "data": {
      "text/plain": [
       "{'ap_cwes_no techniques': 332,\n",
       " 'ap_cwes_techniques_tactics': 73,\n",
       " 'ap_no cwes_techniques_tactics': 18,\n",
       " 'ap_no cwes_no techniques': 123}"
      ]
     },
     "execution_count": 7,
     "metadata": {},
     "output_type": "execute_result"
    }
   ],
   "source": [
    "counts_dict = {}\n",
    "for ap in ap_dict:\n",
    "    links = ap_dict[ap]\n",
    "    str = [\"ap\"]\n",
    "    if links[\"cwes\"]:\n",
    "        str.append(\"cwes\")\n",
    "    else:\n",
    "        str.append(\"no cwes\")\n",
    "\n",
    "    if links[\"techniques\"]:\n",
    "        str.append(\"techniques\")\n",
    "    else:\n",
    "        str.append(\"no techniques\")\n",
    "\n",
    "    tactics = False\n",
    "    no_tactics = False\n",
    "    for technique in links[\"techniques\"]:\n",
    "        if technique_dict[technique][\"tactics\"]:\n",
    "            tactics = True\n",
    "        else:\n",
    "            no_tactics = True\n",
    "\n",
    "    if tactics:\n",
    "        str.append(\"tactics\")\n",
    "    if no_tactics:\n",
    "        str.append(\"no tactics\")\n",
    "\n",
    "    str = \"_\".join(str)\n",
    "\n",
    "    if str in counts_dict:\n",
    "        counts_dict[str] += 1\n",
    "    else:\n",
    "        counts_dict[str] = 1\n",
    "\n",
    "counts_dict"
   ]
  },
  {
   "cell_type": "code",
   "execution_count": 8,
   "metadata": {
    "execution": {
     "iopub.execute_input": "2022-06-01T09:52:47.665894Z",
     "iopub.status.busy": "2022-06-01T09:52:47.664778Z",
     "iopub.status.idle": "2022-06-01T09:52:47.668924Z",
     "shell.execute_reply": "2022-06-01T09:52:47.667853Z"
    }
   },
   "outputs": [],
   "source": [
    "for key in counts_dict:\n",
    "    G.add_node(key, label=counts_dict[key], color=\"green\", title=key)\n",
    "    true_key = key.split(\"_\")\n",
    "    if \"cwes\" in true_key:\n",
    "        for node in G.nodes:\n",
    "            if node.startswith(\"cwe\"):\n",
    "                true_node = node.split(\"_\")\n",
    "                if \"techniques\" in true_key and \"techniques\" in true_node:\n",
    "                    tactics_set_key = set()\n",
    "                    tactics_set_node = set()\n",
    "                    for term in true_key:\n",
    "                        if \"tactics\" in term:\n",
    "                            tactics_set_key.add(term)\n",
    "                    for term in true_node:\n",
    "                        if \"tactics\" in term:\n",
    "                            tactics_set_node.add(term)\n",
    "\n",
    "                    if tactics_set_key == tactics_set_node:\n",
    "                        G.add_edge(key, node, color=\"black\")\n",
    "                if \"no techniques\" in true_key and \"no techniques\" in true_node:\n",
    "                    G.add_edge(key, node, color=\"black\")"
   ]
  },
  {
   "cell_type": "code",
   "execution_count": 9,
   "metadata": {
    "execution": {
     "iopub.execute_input": "2022-06-01T09:52:47.676852Z",
     "iopub.status.busy": "2022-06-01T09:52:47.675800Z",
     "iopub.status.idle": "2022-06-01T09:52:47.680705Z",
     "shell.execute_reply": "2022-06-01T09:52:47.679170Z"
    }
   },
   "outputs": [],
   "source": [
    "for technique in technique_dict:\n",
    "    technique_dict[technique][\"ap\"] = []\n",
    "\n",
    "for ap in ap_dict:\n",
    "    for technique in ap_dict[ap][\"techniques\"]:\n",
    "        technique_dict[technique][\"ap\"].append(ap)"
   ]
  },
  {
   "cell_type": "code",
   "execution_count": 10,
   "metadata": {
    "execution": {
     "iopub.execute_input": "2022-06-01T09:52:47.695388Z",
     "iopub.status.busy": "2022-06-01T09:52:47.693900Z",
     "iopub.status.idle": "2022-06-01T09:52:47.699725Z",
     "shell.execute_reply": "2022-06-01T09:52:47.700815Z"
    }
   },
   "outputs": [
    {
     "data": {
      "text/plain": [
       "{'technique_tactics': 465,\n",
       " 'technique_aps_tactics_cwes': 80,\n",
       " 'technique_aps_tactics_no cwes': 18,\n",
       " 'technique_aps_tactics_cwes_no cwes': 3}"
      ]
     },
     "execution_count": 10,
     "metadata": {},
     "output_type": "execute_result"
    }
   ],
   "source": [
    "counts_dict = {}\n",
    "for technique in technique_dict:\n",
    "    links = technique_dict[technique]\n",
    "    str = [\"technique\"]\n",
    "    if links[\"ap\"]:\n",
    "        str.append(\"aps\")\n",
    "\n",
    "    if links[\"tactics\"]:\n",
    "        str.append(\"tactics\")\n",
    "    else:\n",
    "        str.append(\"no tactics\")\n",
    "\n",
    "    cwes = False\n",
    "    no_cwes = False\n",
    "\n",
    "    for ap in technique_dict[technique][\"ap\"]:\n",
    "        if ap_dict[ap][\"cwes\"]:\n",
    "            cwes = True\n",
    "        else:\n",
    "            no_cwes = True\n",
    "\n",
    "    if cwes:\n",
    "        str.append(\"cwes\")\n",
    "    if no_cwes:\n",
    "        str.append(\"no cwes\")\n",
    "\n",
    "    str = \"_\".join(str)\n",
    "\n",
    "    if str in counts_dict:\n",
    "        counts_dict[str] += 1\n",
    "    else:\n",
    "        counts_dict[str] = 1\n",
    "\n",
    "counts_dict"
   ]
  },
  {
   "cell_type": "code",
   "execution_count": 11,
   "metadata": {
    "execution": {
     "iopub.execute_input": "2022-06-01T09:52:47.711997Z",
     "iopub.status.busy": "2022-06-01T09:52:47.710711Z",
     "iopub.status.idle": "2022-06-01T09:52:47.716516Z",
     "shell.execute_reply": "2022-06-01T09:52:47.717515Z"
    }
   },
   "outputs": [
    {
     "name": "stdout",
     "output_type": "stream",
     "text": [
      "14\n"
     ]
    }
   ],
   "source": [
    "tactics = set()\n",
    "\n",
    "for technique in technique_dict:\n",
    "    tactics.update(technique_dict[technique][\"tactics\"])\n",
    "\n",
    "print(len(tactics))\n",
    "\n",
    "G.add_node(\"tactics\", label=len(tactics), color=\"blue\", title=\"tactics\")"
   ]
  },
  {
   "cell_type": "code",
   "execution_count": 12,
   "metadata": {
    "execution": {
     "iopub.execute_input": "2022-06-01T09:52:47.731161Z",
     "iopub.status.busy": "2022-06-01T09:52:47.729942Z",
     "iopub.status.idle": "2022-06-01T09:52:47.734951Z",
     "shell.execute_reply": "2022-06-01T09:52:47.733763Z"
    }
   },
   "outputs": [],
   "source": [
    "for key in counts_dict:\n",
    "    G.add_node(key, label=counts_dict[key], color=\"orange\", title=key)\n",
    "    true_key = key.split(\"_\")\n",
    "    if \"tactics\" in true_key:\n",
    "        G.add_edge(key, \"tactics\", color=\"black\")\n",
    "    for node in G.nodes:\n",
    "        true_node = node.split(\"_\")\n",
    "        if \"ap\" in true_node:\n",
    "            if (\"cwes\" in true_node and \"cwes\" in true_key) or (\n",
    "                \"no cwes\" in true_node and \"no cwes\" in true_key\n",
    "            ):\n",
    "                if (\"tactics\" in true_node and \"tactics\" in true_key) or (\n",
    "                    \"no tactics\" in true_node and \"no tactics\" in true_key\n",
    "                ):\n",
    "                    G.add_edge(key, node, color=\"black\")"
   ]
  },
  {
   "cell_type": "code",
   "execution_count": 13,
   "metadata": {
    "execution": {
     "iopub.execute_input": "2022-06-01T09:52:47.742247Z",
     "iopub.status.busy": "2022-06-01T09:52:47.741044Z",
     "iopub.status.idle": "2022-06-01T09:52:47.747139Z",
     "shell.execute_reply": "2022-06-01T09:52:47.745518Z"
    }
   },
   "outputs": [],
   "source": [
    "# Save graph\n",
    "file_path = \"demo/complete_graph_networkx.pkl\"\n",
    "nx.write_gpickle(G, file_path)"
   ]
  },
  {
   "cell_type": "code",
   "execution_count": 14,
   "metadata": {
    "execution": {
     "iopub.execute_input": "2022-06-01T09:52:47.755601Z",
     "iopub.status.busy": "2022-06-01T09:52:47.754214Z",
     "iopub.status.idle": "2022-06-01T09:52:47.864515Z",
     "shell.execute_reply": "2022-06-01T09:52:47.865409Z"
    }
   },
   "outputs": [
    {
     "data": {
      "text/html": [
       "\n",
       "        <iframe\n",
       "            width=\"600px\"\n",
       "            height=\"600px\"\n",
       "            src=\"complete.html\"\n",
       "            frameborder=\"0\"\n",
       "            allowfullscreen\n",
       "        ></iframe>\n",
       "        "
      ],
      "text/plain": [
       "<IPython.lib.display.IFrame at 0x7fb676b2cb00>"
      ]
     },
     "execution_count": 14,
     "metadata": {},
     "output_type": "execute_result"
    }
   ],
   "source": [
    "from pyvis.network import Network\n",
    "\n",
    "nt = Network(\"600px\", \"600px\", notebook=True)\n",
    "nt.from_nx(G)\n",
    "nt.show(\"complete.html\")"
   ]
  },
  {
   "cell_type": "code",
   "execution_count": null,
   "metadata": {},
   "outputs": [],
   "source": []
  }
 ],
 "metadata": {
  "interpreter": {
   "hash": "fe5398c8201012d3ec3837fc46b21f6bb5cc60fe8bdaa4e264ad4d58fc1758ab"
  },
  "kernelspec": {
   "display_name": "Python 3.6.9 ('venv_BRON_ML')",
   "language": "python",
   "name": "python3"
  },
  "language_info": {
   "codemirror_mode": {
    "name": "ipython",
    "version": 3
   },
   "file_extension": ".py",
   "mimetype": "text/x-python",
   "name": "python",
   "nbconvert_exporter": "python",
   "pygments_lexer": "ipython3",
   "version": "3.6.9"
  }
 },
 "nbformat": 4,
 "nbformat_minor": 2
}
