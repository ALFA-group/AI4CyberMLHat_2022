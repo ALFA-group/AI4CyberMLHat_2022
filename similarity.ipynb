{
 "cells": [
  {
   "cell_type": "code",
   "execution_count": 1,
   "metadata": {
    "execution": {
     "iopub.execute_input": "2022-06-06T21:35:02.050844Z",
     "iopub.status.busy": "2022-06-06T21:35:02.043936Z",
     "iopub.status.idle": "2022-06-06T21:35:04.997484Z",
     "shell.execute_reply": "2022-06-06T21:35:04.995770Z"
    }
   },
   "outputs": [],
   "source": [
    "import json\n",
    "from sklearn.feature_extraction.text import CountVectorizer, TfidfVectorizer\n",
    "from sklearn.metrics.pairwise import cosine_similarity\n",
    "import numpy as np\n",
    "import torch\n",
    "from sentence_transformers import SentenceTransformer, util\n",
    "import pandas as pd\n",
    "import spacy\n",
    "import matplotlib.pyplot as plt"
   ]
  },
  {
   "cell_type": "code",
   "execution_count": 2,
   "metadata": {
    "execution": {
     "iopub.execute_input": "2022-06-06T21:35:05.013146Z",
     "iopub.status.busy": "2022-06-06T21:35:05.012166Z",
     "iopub.status.idle": "2022-06-06T21:35:05.054809Z",
     "shell.execute_reply": "2022-06-06T21:35:05.053938Z"
    }
   },
   "outputs": [],
   "source": [
    "f = open(\"cwe_mitigation_ids_temp.json\")\n",
    "w_mitigation = json.load(f)\n",
    "\n",
    "f = open(\"capec_mitigation_temp.json\")\n",
    "ap_mitigation = json.load(f)\n",
    "\n",
    "f = open(\"cwe_temp.json\")\n",
    "cwe = json.load(f)\n",
    "\n",
    "f = open(\"capec_temp.json\")\n",
    "capec = json.load(f)\n",
    "\n",
    "f = open(\"ap_names.json\")\n",
    "ap_names = json.load(f)\n",
    "\n",
    "f = open(\"cwe_names.json\")\n",
    "cwe_names = json.load(f)\n",
    "\n",
    "with open(\"w_dict.json\", \"r\") as f:\n",
    "    w_dict = json.load(f)\n",
    "with open(\"ap_dict.json\", \"r\") as f:\n",
    "    ap_dict = json.load(f)\n",
    "\n",
    "with open(\"ap_mitigation_descriptions.json\", \"r\") as f:\n",
    "    ap_mitigation_descriptions = list(set(json.load(f)))\n",
    "with open(\"cwe_mitigation_descriptions.json\", \"r\") as f:\n",
    "    cwe_mitigation_descriptions = list(set(json.load(f)))"
   ]
  },
  {
   "cell_type": "code",
   "execution_count": 3,
   "metadata": {
    "execution": {
     "iopub.execute_input": "2022-06-06T21:35:05.063409Z",
     "iopub.status.busy": "2022-06-06T21:35:05.061863Z",
     "iopub.status.idle": "2022-06-06T21:35:05.066815Z",
     "shell.execute_reply": "2022-06-06T21:35:05.065328Z"
    }
   },
   "outputs": [],
   "source": [
    "def get_unique_pairs(pairwise_similarities):\n",
    "    unique_pairs = []\n",
    "    for i in range(len(pairwise_similarities)):\n",
    "        for j in range(i + 1, len(pairwise_similarities)):\n",
    "            unique_pairs.append(pairwise_similarities[i][j])\n",
    "\n",
    "    return unique_pairs"
   ]
  },
  {
   "cell_type": "code",
   "execution_count": 4,
   "metadata": {
    "execution": {
     "iopub.execute_input": "2022-06-06T21:35:05.129810Z",
     "iopub.status.busy": "2022-06-06T21:35:05.113260Z",
     "iopub.status.idle": "2022-06-06T21:35:05.745209Z",
     "shell.execute_reply": "2022-06-06T21:35:05.746461Z"
    }
   },
   "outputs": [
    {
     "name": "stdout",
     "output_type": "stream",
     "text": [
      "Among APs  0.0934644719163671\n",
      "Among CWEs  0.1563300413956124\n",
      "Between CWEs and APs  0.11576254620911308\n"
     ]
    }
   ],
   "source": [
    "vectorizer = CountVectorizer()\n",
    "vectorizer.fit(ap_mitigation_descriptions + cwe_mitigation_descriptions)\n",
    "\n",
    "ap_mitigation_vectors = vectorizer.transform(ap_mitigation_descriptions)\n",
    "cwe_mitigation_vectors = vectorizer.transform(cwe_mitigation_descriptions)\n",
    "\n",
    "ap_similarities_all = cosine_similarity(ap_mitigation_vectors, ap_mitigation_vectors)\n",
    "among_aps = np.mean(get_unique_pairs(ap_similarities_all))\n",
    "\n",
    "cwe_similarities_all = cosine_similarity(cwe_mitigation_vectors, cwe_mitigation_vectors)\n",
    "among_cwes = np.mean(get_unique_pairs(cwe_similarities_all))\n",
    "\n",
    "cwe_ap_similarities_all = cosine_similarity(\n",
    "    cwe_mitigation_vectors, ap_mitigation_vectors\n",
    ")\n",
    "between_cwes_aps = np.mean(cwe_ap_similarities_all)\n",
    "\n",
    "print(\"Among APs \", among_aps)\n",
    "print(\"Among CWEs \", among_cwes)\n",
    "print(\"Between CWEs and APs \", between_cwes_aps)"
   ]
  },
  {
   "cell_type": "code",
   "execution_count": 5,
   "metadata": {
    "execution": {
     "iopub.execute_input": "2022-06-06T21:35:05.781374Z",
     "iopub.status.busy": "2022-06-06T21:35:05.767644Z",
     "iopub.status.idle": "2022-06-06T21:35:05.930455Z",
     "shell.execute_reply": "2022-06-06T21:35:05.929552Z"
    }
   },
   "outputs": [
    {
     "name": "stdout",
     "output_type": "stream",
     "text": [
      "Among AP names  0.01115952804433786\n",
      "Between CWE and AP names 0.011774239418148034\n"
     ]
    }
   ],
   "source": [
    "vectorizer = CountVectorizer()\n",
    "vectorizer.fit(ap_names + cwe_names)\n",
    "\n",
    "ap_name_vectors = vectorizer.transform(ap_names)\n",
    "cwe_name_vectors = vectorizer.transform(cwe_names)\n",
    "\n",
    "ap_name_similarities_all = cosine_similarity(ap_name_vectors, ap_name_vectors)\n",
    "among_ap_names = np.mean(get_unique_pairs((ap_name_similarities_all)))\n",
    "\n",
    "ap_cwe_name_similarities_all = cosine_similarity(ap_name_vectors, cwe_name_vectors)\n",
    "between_cwes_aps_names = np.mean(ap_cwe_name_similarities_all)\n",
    "\n",
    "print(\"Among AP names \", among_ap_names)\n",
    "print(\"Between CWE and AP names\", between_cwes_aps_names)"
   ]
  },
  {
   "cell_type": "code",
   "execution_count": 6,
   "metadata": {
    "execution": {
     "iopub.execute_input": "2022-06-06T21:35:05.939500Z",
     "iopub.status.busy": "2022-06-06T21:35:05.938673Z",
     "iopub.status.idle": "2022-06-06T21:35:05.942343Z",
     "shell.execute_reply": "2022-06-06T21:35:05.943057Z"
    }
   },
   "outputs": [],
   "source": [
    "def get_unique_pairs_mean(pairwise_similarities):\n",
    "    unique_pairs = []\n",
    "    for i in range(len(pairwise_similarities)):\n",
    "        for j in range(i + 1, len(pairwise_similarities)):\n",
    "            unique_pairs.append(pairwise_similarities[i][j])\n",
    "\n",
    "    return np.mean(unique_pairs)"
   ]
  },
  {
   "cell_type": "code",
   "execution_count": 7,
   "metadata": {
    "execution": {
     "iopub.execute_input": "2022-06-06T21:35:05.952243Z",
     "iopub.status.busy": "2022-06-06T21:35:05.951396Z",
     "iopub.status.idle": "2022-06-06T21:35:05.955949Z",
     "shell.execute_reply": "2022-06-06T21:35:05.955077Z"
    }
   },
   "outputs": [],
   "source": [
    "top_25_cwes = [\n",
    "    \"79\",\n",
    "    \"787\",\n",
    "    \"20\",\n",
    "    \"125\",\n",
    "    \"119\",\n",
    "    \"89\",\n",
    "    \"200\",\n",
    "    \"416\",\n",
    "    \"352\",\n",
    "    \"78\",\n",
    "    \"190\",\n",
    "    \"22\",\n",
    "    \"476\",\n",
    "    \"287\",\n",
    "    \"434\",\n",
    "    \"732\",\n",
    "    \"94\",\n",
    "    \"522\",\n",
    "    \"611\",\n",
    "    \"798\",\n",
    "    \"502\",\n",
    "    \"269\",\n",
    "    \"400\",\n",
    "    \"306\",\n",
    "    \"862\",\n",
    "]\n",
    "\n",
    "bron_to_original_ids = {}\n",
    "\n",
    "for w in cwe:\n",
    "    if w[\"original_id\"] in top_25_cwes:\n",
    "        bron_to_original_ids[w[\"_id\"]] = w[\"original_id\"]"
   ]
  },
  {
   "cell_type": "code",
   "execution_count": 8,
   "metadata": {
    "execution": {
     "iopub.execute_input": "2022-06-06T21:35:05.976712Z",
     "iopub.status.busy": "2022-06-06T21:35:05.970086Z",
     "iopub.status.idle": "2022-06-06T21:35:06.399621Z",
     "shell.execute_reply": "2022-06-06T21:35:06.398770Z"
    }
   },
   "outputs": [
    {
     "name": "stderr",
     "output_type": "stream",
     "text": [
      "/home/ubuntu/venv_BRON_ML/lib/python3.6/site-packages/numpy/core/fromnumeric.py:3373: RuntimeWarning: Mean of empty slice.\n",
      "  out=out, **kwargs)\n",
      "/home/ubuntu/venv_BRON_ML/lib/python3.6/site-packages/numpy/core/_methods.py:170: RuntimeWarning: invalid value encountered in double_scalars\n",
      "  ret = ret.dtype.type(ret / rcount)\n"
     ]
    }
   ],
   "source": [
    "top_25_cwe_mitigation_similarities = {}\n",
    "ap_similarities_top_25 = []\n",
    "cwe_similarities_top_25 = []\n",
    "cwe_ap_similarities_top_25 = []\n",
    "ap_name_similarities_top_25 = []\n",
    "ap_cwe_name_similarities_top_25 = []\n",
    "\n",
    "for cwe_id in bron_to_original_ids:\n",
    "    cwe_mitigations = set()\n",
    "    for cwe_mitigation in w_dict[cwe_id][\"mitigations\"]:\n",
    "        for cwe_mit in w_mitigation:\n",
    "            if cwe_mitigation == cwe_mit[\"_id\"]:\n",
    "                cwe_mitigations.add(cwe_mit[\"metadata\"][\"Description\"])\n",
    "\n",
    "    ap_mitigations = set()\n",
    "    cur_ap_names = []\n",
    "    for ap in w_dict[cwe_id][\"ap\"]:\n",
    "        for capec_mitigation in ap_dict[ap][\"mitigations\"]:\n",
    "            for ap_mit in ap_mitigation:\n",
    "                if capec_mitigation == ap_mit[\"_id\"]:\n",
    "                    ap_mitigations.add(ap_mit[\"metadata\"])\n",
    "        cur_ap_names.append(ap_dict[ap][\"name\"])\n",
    "\n",
    "    cwe_mitigations = list(cwe_mitigations)\n",
    "    ap_mitigations = list(ap_mitigations)\n",
    "    vectorizer = CountVectorizer()\n",
    "    vectorizer.fit(cwe_mitigations + ap_mitigations)\n",
    "\n",
    "    among_aps = float(\"nan\")\n",
    "    among_cwes = float(\"nan\")\n",
    "    between_cwes_aps = float(\"nan\")\n",
    "\n",
    "    if ap_mitigations:\n",
    "        ap_mitigation_vectors = vectorizer.transform(ap_mitigations)\n",
    "        ap_similarities = cosine_similarity(\n",
    "            ap_mitigation_vectors, ap_mitigation_vectors\n",
    "        )\n",
    "        ap_similarities_top_25.extend(get_unique_pairs(ap_similarities))\n",
    "        among_aps = get_unique_pairs_mean(ap_similarities)\n",
    "\n",
    "    if cwe_mitigations:\n",
    "        cwe_mitigation_vectors = vectorizer.transform(cwe_mitigations)\n",
    "        cwe_similarities = cosine_similarity(\n",
    "            cwe_mitigation_vectors, cwe_mitigation_vectors\n",
    "        )\n",
    "        cwe_similarities_top_25.extend(get_unique_pairs(cwe_similarities))\n",
    "        among_cwes = get_unique_pairs_mean(cwe_similarities)\n",
    "\n",
    "    if cwe_mitigations and ap_mitigations:\n",
    "        cwe_ap_similarities = cosine_similarity(\n",
    "            cwe_mitigation_vectors, ap_mitigation_vectors\n",
    "        )\n",
    "        cwe_ap_similarities_top_25.extend(cwe_ap_similarities.flatten())\n",
    "        between_cwes_aps = np.mean(cwe_ap_similarities)\n",
    "\n",
    "    vectorizer = CountVectorizer()\n",
    "    vectorizer.fit(cur_ap_names + [w_dict[cwe_id][\"name\"]])\n",
    "\n",
    "    if cur_ap_names:\n",
    "        ap_name_vectors = vectorizer.transform(cur_ap_names)\n",
    "        ap_name_similarities = cosine_similarity(ap_name_vectors, ap_name_vectors)\n",
    "        among_ap_names = get_unique_pairs_mean(ap_name_similarities)\n",
    "        ap_name_similarities_top_25.extend(get_unique_pairs(ap_name_similarities))\n",
    "        cwe_name_vector = vectorizer.transform([w_dict[cwe_id][\"name\"]])\n",
    "        cwe_ap_name_similarities = cosine_similarity(ap_name_vectors, cwe_name_vector)\n",
    "        ap_cwe_name_similarities_top_25.extend(cwe_ap_name_similarities.flatten())\n",
    "        between_cwe_ap_names = np.mean(cwe_ap_name_similarities)\n",
    "\n",
    "    top_25_cwe_mitigation_similarities[bron_to_original_ids[cwe_id]] = {\n",
    "        \"name\": w_dict[cwe_id][\"name\"],\n",
    "        \"Among APs\": among_aps,\n",
    "        \"Among CWEs\": among_cwes,\n",
    "        \"Between CWEs and APs\": between_cwes_aps,\n",
    "        \"Among AP names\": among_ap_names,\n",
    "        \"Between CWE and AP names\": between_cwe_ap_names,\n",
    "    }"
   ]
  },
  {
   "cell_type": "code",
   "execution_count": 9,
   "metadata": {
    "execution": {
     "iopub.execute_input": "2022-06-06T21:35:06.418229Z",
     "iopub.status.busy": "2022-06-06T21:35:06.416523Z",
     "iopub.status.idle": "2022-06-06T21:35:06.421015Z",
     "shell.execute_reply": "2022-06-06T21:35:06.419996Z"
    }
   },
   "outputs": [],
   "source": [
    "top_25_cwe_mitigation_similarities = pd.DataFrame(top_25_cwe_mitigation_similarities).T"
   ]
  },
  {
   "cell_type": "code",
   "execution_count": 10,
   "metadata": {
    "execution": {
     "iopub.execute_input": "2022-06-06T21:35:06.433394Z",
     "iopub.status.busy": "2022-06-06T21:35:06.432507Z",
     "iopub.status.idle": "2022-06-06T21:35:06.439482Z",
     "shell.execute_reply": "2022-06-06T21:35:06.440151Z"
    }
   },
   "outputs": [
    {
     "data": {
      "text/plain": [
       "Series([], dtype: float64)"
      ]
     },
     "execution_count": 1,
     "metadata": {},
     "output_type": "execute_result"
    }
   ],
   "source": [
    "top_25_cwe_mitigation_similarities.mean()"
   ]
  },
  {
   "cell_type": "code",
   "execution_count": 11,
   "metadata": {
    "execution": {
     "iopub.execute_input": "2022-06-06T21:35:06.452813Z",
     "iopub.status.busy": "2022-06-06T21:35:06.451893Z",
     "iopub.status.idle": "2022-06-06T21:35:06.516068Z",
     "shell.execute_reply": "2022-06-06T21:35:06.516762Z"
    }
   },
   "outputs": [
    {
     "data": {
      "text/html": [
       "<style  type=\"text/css\" >\n",
       "</style><table id=\"T_885d9b10_e5e0_11ec_9669_fa163ee081a9\" ><thead>    <tr>        <th class=\"col_heading level0 col0\" >cwe id</th>        <th class=\"col_heading level0 col1\" >name</th>        <th class=\"col_heading level0 col2\" >Among APs</th>        <th class=\"col_heading level0 col3\" >Among CWEs</th>        <th class=\"col_heading level0 col4\" >Between CWEs and APs</th>        <th class=\"col_heading level0 col5\" >Among AP names</th>        <th class=\"col_heading level0 col6\" >Between CWE and AP names</th>    </tr></thead><tbody>\n",
       "                <tr>\n",
       "                                <td id=\"T_885d9b10_e5e0_11ec_9669_fa163ee081a9row0_col0\" class=\"data row0 col0\" >119</td>\n",
       "                        <td id=\"T_885d9b10_e5e0_11ec_9669_fa163ee081a9row0_col1\" class=\"data row0 col1\" >Improper Restriction of Operations within the Bounds of a Memory Buffer</td>\n",
       "                        <td id=\"T_885d9b10_e5e0_11ec_9669_fa163ee081a9row0_col2\" class=\"data row0 col2\" >0.115263</td>\n",
       "                        <td id=\"T_885d9b10_e5e0_11ec_9669_fa163ee081a9row0_col3\" class=\"data row0 col3\" >0.267493</td>\n",
       "                        <td id=\"T_885d9b10_e5e0_11ec_9669_fa163ee081a9row0_col4\" class=\"data row0 col4\" >0.139495</td>\n",
       "                        <td id=\"T_885d9b10_e5e0_11ec_9669_fa163ee081a9row0_col5\" class=\"data row0 col5\" >0.253960</td>\n",
       "                        <td id=\"T_885d9b10_e5e0_11ec_9669_fa163ee081a9row0_col6\" class=\"data row0 col6\" >0.088778</td>\n",
       "            </tr>\n",
       "            <tr>\n",
       "                                <td id=\"T_885d9b10_e5e0_11ec_9669_fa163ee081a9row1_col0\" class=\"data row1 col0\" >125</td>\n",
       "                        <td id=\"T_885d9b10_e5e0_11ec_9669_fa163ee081a9row1_col1\" class=\"data row1 col1\" >Out-of-bounds Read</td>\n",
       "                        <td id=\"T_885d9b10_e5e0_11ec_9669_fa163ee081a9row1_col2\" class=\"data row1 col2\" >nan</td>\n",
       "                        <td id=\"T_885d9b10_e5e0_11ec_9669_fa163ee081a9row1_col3\" class=\"data row1 col3\" >0.114493</td>\n",
       "                        <td id=\"T_885d9b10_e5e0_11ec_9669_fa163ee081a9row1_col4\" class=\"data row1 col4\" >nan</td>\n",
       "                        <td id=\"T_885d9b10_e5e0_11ec_9669_fa163ee081a9row1_col5\" class=\"data row1 col5\" >nan</td>\n",
       "                        <td id=\"T_885d9b10_e5e0_11ec_9669_fa163ee081a9row1_col6\" class=\"data row1 col6\" >0.000000</td>\n",
       "            </tr>\n",
       "            <tr>\n",
       "                                <td id=\"T_885d9b10_e5e0_11ec_9669_fa163ee081a9row2_col0\" class=\"data row2 col0\" >190</td>\n",
       "                        <td id=\"T_885d9b10_e5e0_11ec_9669_fa163ee081a9row2_col1\" class=\"data row2 col1\" >Integer Overflow or Wraparound</td>\n",
       "                        <td id=\"T_885d9b10_e5e0_11ec_9669_fa163ee081a9row2_col2\" class=\"data row2 col2\" >0.099355</td>\n",
       "                        <td id=\"T_885d9b10_e5e0_11ec_9669_fa163ee081a9row2_col3\" class=\"data row2 col3\" >0.264664</td>\n",
       "                        <td id=\"T_885d9b10_e5e0_11ec_9669_fa163ee081a9row2_col4\" class=\"data row2 col4\" >0.143784</td>\n",
       "                        <td id=\"T_885d9b10_e5e0_11ec_9669_fa163ee081a9row2_col5\" class=\"data row2 col5\" >nan</td>\n",
       "                        <td id=\"T_885d9b10_e5e0_11ec_9669_fa163ee081a9row2_col6\" class=\"data row2 col6\" >0.577350</td>\n",
       "            </tr>\n",
       "            <tr>\n",
       "                                <td id=\"T_885d9b10_e5e0_11ec_9669_fa163ee081a9row3_col0\" class=\"data row3 col0\" >20</td>\n",
       "                        <td id=\"T_885d9b10_e5e0_11ec_9669_fa163ee081a9row3_col1\" class=\"data row3 col1\" >Improper Input Validation</td>\n",
       "                        <td id=\"T_885d9b10_e5e0_11ec_9669_fa163ee081a9row3_col2\" class=\"data row3 col2\" >0.130990</td>\n",
       "                        <td id=\"T_885d9b10_e5e0_11ec_9669_fa163ee081a9row3_col3\" class=\"data row3 col3\" >0.309180</td>\n",
       "                        <td id=\"T_885d9b10_e5e0_11ec_9669_fa163ee081a9row3_col4\" class=\"data row3 col4\" >0.187939</td>\n",
       "                        <td id=\"T_885d9b10_e5e0_11ec_9669_fa163ee081a9row3_col5\" class=\"data row3 col5\" >0.048580</td>\n",
       "                        <td id=\"T_885d9b10_e5e0_11ec_9669_fa163ee081a9row3_col6\" class=\"data row3 col6\" >0.027510</td>\n",
       "            </tr>\n",
       "            <tr>\n",
       "                                <td id=\"T_885d9b10_e5e0_11ec_9669_fa163ee081a9row4_col0\" class=\"data row4 col0\" >200</td>\n",
       "                        <td id=\"T_885d9b10_e5e0_11ec_9669_fa163ee081a9row4_col1\" class=\"data row4 col1\" >Exposure of Sensitive Information to an Unauthorized Actor</td>\n",
       "                        <td id=\"T_885d9b10_e5e0_11ec_9669_fa163ee081a9row4_col2\" class=\"data row4 col2\" >0.098117</td>\n",
       "                        <td id=\"T_885d9b10_e5e0_11ec_9669_fa163ee081a9row4_col3\" class=\"data row4 col3\" >nan</td>\n",
       "                        <td id=\"T_885d9b10_e5e0_11ec_9669_fa163ee081a9row4_col4\" class=\"data row4 col4\" >0.206580</td>\n",
       "                        <td id=\"T_885d9b10_e5e0_11ec_9669_fa163ee081a9row4_col5\" class=\"data row4 col5\" >0.061717</td>\n",
       "                        <td id=\"T_885d9b10_e5e0_11ec_9669_fa163ee081a9row4_col6\" class=\"data row4 col6\" >0.003460</td>\n",
       "            </tr>\n",
       "            <tr>\n",
       "                                <td id=\"T_885d9b10_e5e0_11ec_9669_fa163ee081a9row5_col0\" class=\"data row5 col0\" >22</td>\n",
       "                        <td id=\"T_885d9b10_e5e0_11ec_9669_fa163ee081a9row5_col1\" class=\"data row5 col1\" >Improper Limitation of a Pathname to a Restricted Directory ('Path Traversal')</td>\n",
       "                        <td id=\"T_885d9b10_e5e0_11ec_9669_fa163ee081a9row5_col2\" class=\"data row5 col2\" >0.144097</td>\n",
       "                        <td id=\"T_885d9b10_e5e0_11ec_9669_fa163ee081a9row5_col3\" class=\"data row5 col3\" >0.377541</td>\n",
       "                        <td id=\"T_885d9b10_e5e0_11ec_9669_fa163ee081a9row5_col4\" class=\"data row5 col4\" >0.195878</td>\n",
       "                        <td id=\"T_885d9b10_e5e0_11ec_9669_fa163ee081a9row5_col5\" class=\"data row5 col5\" >0.184396</td>\n",
       "                        <td id=\"T_885d9b10_e5e0_11ec_9669_fa163ee081a9row5_col6\" class=\"data row5 col6\" >0.140560</td>\n",
       "            </tr>\n",
       "            <tr>\n",
       "                                <td id=\"T_885d9b10_e5e0_11ec_9669_fa163ee081a9row6_col0\" class=\"data row6 col0\" >269</td>\n",
       "                        <td id=\"T_885d9b10_e5e0_11ec_9669_fa163ee081a9row6_col1\" class=\"data row6 col1\" >Improper Privilege Management</td>\n",
       "                        <td id=\"T_885d9b10_e5e0_11ec_9669_fa163ee081a9row6_col2\" class=\"data row6 col2\" >0.086833</td>\n",
       "                        <td id=\"T_885d9b10_e5e0_11ec_9669_fa163ee081a9row6_col3\" class=\"data row6 col3\" >0.311411</td>\n",
       "                        <td id=\"T_885d9b10_e5e0_11ec_9669_fa163ee081a9row6_col4\" class=\"data row6 col4\" >0.128370</td>\n",
       "                        <td id=\"T_885d9b10_e5e0_11ec_9669_fa163ee081a9row6_col5\" class=\"data row6 col5\" >0.438832</td>\n",
       "                        <td id=\"T_885d9b10_e5e0_11ec_9669_fa163ee081a9row6_col6\" class=\"data row6 col6\" >0.383277</td>\n",
       "            </tr>\n",
       "            <tr>\n",
       "                                <td id=\"T_885d9b10_e5e0_11ec_9669_fa163ee081a9row7_col0\" class=\"data row7 col0\" >287</td>\n",
       "                        <td id=\"T_885d9b10_e5e0_11ec_9669_fa163ee081a9row7_col1\" class=\"data row7 col1\" >Improper Authentication</td>\n",
       "                        <td id=\"T_885d9b10_e5e0_11ec_9669_fa163ee081a9row7_col2\" class=\"data row7 col2\" >0.076365</td>\n",
       "                        <td id=\"T_885d9b10_e5e0_11ec_9669_fa163ee081a9row7_col3\" class=\"data row7 col3\" >nan</td>\n",
       "                        <td id=\"T_885d9b10_e5e0_11ec_9669_fa163ee081a9row7_col4\" class=\"data row7 col4\" >0.108220</td>\n",
       "                        <td id=\"T_885d9b10_e5e0_11ec_9669_fa163ee081a9row7_col5\" class=\"data row7 col5\" >0.041580</td>\n",
       "                        <td id=\"T_885d9b10_e5e0_11ec_9669_fa163ee081a9row7_col6\" class=\"data row7 col6\" >0.100000</td>\n",
       "            </tr>\n",
       "            <tr>\n",
       "                                <td id=\"T_885d9b10_e5e0_11ec_9669_fa163ee081a9row8_col0\" class=\"data row8 col0\" >306</td>\n",
       "                        <td id=\"T_885d9b10_e5e0_11ec_9669_fa163ee081a9row8_col1\" class=\"data row8 col1\" >Missing Authentication for Critical Function</td>\n",
       "                        <td id=\"T_885d9b10_e5e0_11ec_9669_fa163ee081a9row8_col2\" class=\"data row8 col2\" >0.304705</td>\n",
       "                        <td id=\"T_885d9b10_e5e0_11ec_9669_fa163ee081a9row8_col3\" class=\"data row8 col3\" >0.342175</td>\n",
       "                        <td id=\"T_885d9b10_e5e0_11ec_9669_fa163ee081a9row8_col4\" class=\"data row8 col4\" >0.305751</td>\n",
       "                        <td id=\"T_885d9b10_e5e0_11ec_9669_fa163ee081a9row8_col5\" class=\"data row8 col5\" >0.000000</td>\n",
       "                        <td id=\"T_885d9b10_e5e0_11ec_9669_fa163ee081a9row8_col6\" class=\"data row8 col6\" >0.000000</td>\n",
       "            </tr>\n",
       "            <tr>\n",
       "                                <td id=\"T_885d9b10_e5e0_11ec_9669_fa163ee081a9row9_col0\" class=\"data row9 col0\" >352</td>\n",
       "                        <td id=\"T_885d9b10_e5e0_11ec_9669_fa163ee081a9row9_col1\" class=\"data row9 col1\" >Cross-Site Request Forgery (CSRF)</td>\n",
       "                        <td id=\"T_885d9b10_e5e0_11ec_9669_fa163ee081a9row9_col2\" class=\"data row9 col2\" >0.283831</td>\n",
       "                        <td id=\"T_885d9b10_e5e0_11ec_9669_fa163ee081a9row9_col3\" class=\"data row9 col3\" >0.261373</td>\n",
       "                        <td id=\"T_885d9b10_e5e0_11ec_9669_fa163ee081a9row9_col4\" class=\"data row9 col4\" >0.271493</td>\n",
       "                        <td id=\"T_885d9b10_e5e0_11ec_9669_fa163ee081a9row9_col5\" class=\"data row9 col5\" >0.186004</td>\n",
       "                        <td id=\"T_885d9b10_e5e0_11ec_9669_fa163ee081a9row9_col6\" class=\"data row9 col6\" >0.408608</td>\n",
       "            </tr>\n",
       "            <tr>\n",
       "                                <td id=\"T_885d9b10_e5e0_11ec_9669_fa163ee081a9row10_col0\" class=\"data row10 col0\" >400</td>\n",
       "                        <td id=\"T_885d9b10_e5e0_11ec_9669_fa163ee081a9row10_col1\" class=\"data row10 col1\" >Uncontrolled Resource Consumption</td>\n",
       "                        <td id=\"T_885d9b10_e5e0_11ec_9669_fa163ee081a9row10_col2\" class=\"data row10 col2\" >0.148151</td>\n",
       "                        <td id=\"T_885d9b10_e5e0_11ec_9669_fa163ee081a9row10_col3\" class=\"data row10 col3\" >0.272707</td>\n",
       "                        <td id=\"T_885d9b10_e5e0_11ec_9669_fa163ee081a9row10_col4\" class=\"data row10 col4\" >0.179967</td>\n",
       "                        <td id=\"T_885d9b10_e5e0_11ec_9669_fa163ee081a9row10_col5\" class=\"data row10 col5\" >0.000000</td>\n",
       "                        <td id=\"T_885d9b10_e5e0_11ec_9669_fa163ee081a9row10_col6\" class=\"data row10 col6\" >0.000000</td>\n",
       "            </tr>\n",
       "            <tr>\n",
       "                                <td id=\"T_885d9b10_e5e0_11ec_9669_fa163ee081a9row11_col0\" class=\"data row11 col0\" >416</td>\n",
       "                        <td id=\"T_885d9b10_e5e0_11ec_9669_fa163ee081a9row11_col1\" class=\"data row11 col1\" >Use After Free</td>\n",
       "                        <td id=\"T_885d9b10_e5e0_11ec_9669_fa163ee081a9row11_col2\" class=\"data row11 col2\" >nan</td>\n",
       "                        <td id=\"T_885d9b10_e5e0_11ec_9669_fa163ee081a9row11_col3\" class=\"data row11 col3\" >0.000000</td>\n",
       "                        <td id=\"T_885d9b10_e5e0_11ec_9669_fa163ee081a9row11_col4\" class=\"data row11 col4\" >nan</td>\n",
       "                        <td id=\"T_885d9b10_e5e0_11ec_9669_fa163ee081a9row11_col5\" class=\"data row11 col5\" >0.000000</td>\n",
       "                        <td id=\"T_885d9b10_e5e0_11ec_9669_fa163ee081a9row11_col6\" class=\"data row11 col6\" >0.000000</td>\n",
       "            </tr>\n",
       "            <tr>\n",
       "                                <td id=\"T_885d9b10_e5e0_11ec_9669_fa163ee081a9row12_col0\" class=\"data row12 col0\" >434</td>\n",
       "                        <td id=\"T_885d9b10_e5e0_11ec_9669_fa163ee081a9row12_col1\" class=\"data row12 col1\" >Unrestricted Upload of File with Dangerous Type</td>\n",
       "                        <td id=\"T_885d9b10_e5e0_11ec_9669_fa163ee081a9row12_col2\" class=\"data row12 col2\" >nan</td>\n",
       "                        <td id=\"T_885d9b10_e5e0_11ec_9669_fa163ee081a9row12_col3\" class=\"data row12 col3\" >0.298050</td>\n",
       "                        <td id=\"T_885d9b10_e5e0_11ec_9669_fa163ee081a9row12_col4\" class=\"data row12 col4\" >0.347151</td>\n",
       "                        <td id=\"T_885d9b10_e5e0_11ec_9669_fa163ee081a9row12_col5\" class=\"data row12 col5\" >nan</td>\n",
       "                        <td id=\"T_885d9b10_e5e0_11ec_9669_fa163ee081a9row12_col6\" class=\"data row12 col6\" >0.000000</td>\n",
       "            </tr>\n",
       "            <tr>\n",
       "                                <td id=\"T_885d9b10_e5e0_11ec_9669_fa163ee081a9row13_col0\" class=\"data row13 col0\" >476</td>\n",
       "                        <td id=\"T_885d9b10_e5e0_11ec_9669_fa163ee081a9row13_col1\" class=\"data row13 col1\" >NULL Pointer Dereference</td>\n",
       "                        <td id=\"T_885d9b10_e5e0_11ec_9669_fa163ee081a9row13_col2\" class=\"data row13 col2\" >nan</td>\n",
       "                        <td id=\"T_885d9b10_e5e0_11ec_9669_fa163ee081a9row13_col3\" class=\"data row13 col3\" >0.205164</td>\n",
       "                        <td id=\"T_885d9b10_e5e0_11ec_9669_fa163ee081a9row13_col4\" class=\"data row13 col4\" >nan</td>\n",
       "                        <td id=\"T_885d9b10_e5e0_11ec_9669_fa163ee081a9row13_col5\" class=\"data row13 col5\" >nan</td>\n",
       "                        <td id=\"T_885d9b10_e5e0_11ec_9669_fa163ee081a9row13_col6\" class=\"data row13 col6\" >0.000000</td>\n",
       "            </tr>\n",
       "            <tr>\n",
       "                                <td id=\"T_885d9b10_e5e0_11ec_9669_fa163ee081a9row14_col0\" class=\"data row14 col0\" >502</td>\n",
       "                        <td id=\"T_885d9b10_e5e0_11ec_9669_fa163ee081a9row14_col1\" class=\"data row14 col1\" >Deserialization of Untrusted Data</td>\n",
       "                        <td id=\"T_885d9b10_e5e0_11ec_9669_fa163ee081a9row14_col2\" class=\"data row14 col2\" >0.090891</td>\n",
       "                        <td id=\"T_885d9b10_e5e0_11ec_9669_fa163ee081a9row14_col3\" class=\"data row14 col3\" >0.193196</td>\n",
       "                        <td id=\"T_885d9b10_e5e0_11ec_9669_fa163ee081a9row14_col4\" class=\"data row14 col4\" >0.111261</td>\n",
       "                        <td id=\"T_885d9b10_e5e0_11ec_9669_fa163ee081a9row14_col5\" class=\"data row14 col5\" >nan</td>\n",
       "                        <td id=\"T_885d9b10_e5e0_11ec_9669_fa163ee081a9row14_col6\" class=\"data row14 col6\" >0.000000</td>\n",
       "            </tr>\n",
       "            <tr>\n",
       "                                <td id=\"T_885d9b10_e5e0_11ec_9669_fa163ee081a9row15_col0\" class=\"data row15 col0\" >522</td>\n",
       "                        <td id=\"T_885d9b10_e5e0_11ec_9669_fa163ee081a9row15_col1\" class=\"data row15 col1\" >Insufficiently Protected Credentials</td>\n",
       "                        <td id=\"T_885d9b10_e5e0_11ec_9669_fa163ee081a9row15_col2\" class=\"data row15 col2\" >0.124991</td>\n",
       "                        <td id=\"T_885d9b10_e5e0_11ec_9669_fa163ee081a9row15_col3\" class=\"data row15 col3\" >0.573586</td>\n",
       "                        <td id=\"T_885d9b10_e5e0_11ec_9669_fa163ee081a9row15_col4\" class=\"data row15 col4\" >0.121179</td>\n",
       "                        <td id=\"T_885d9b10_e5e0_11ec_9669_fa163ee081a9row15_col5\" class=\"data row15 col5\" >0.090009</td>\n",
       "                        <td id=\"T_885d9b10_e5e0_11ec_9669_fa163ee081a9row15_col6\" class=\"data row15 col6\" >0.097577</td>\n",
       "            </tr>\n",
       "            <tr>\n",
       "                                <td id=\"T_885d9b10_e5e0_11ec_9669_fa163ee081a9row16_col0\" class=\"data row16 col0\" >611</td>\n",
       "                        <td id=\"T_885d9b10_e5e0_11ec_9669_fa163ee081a9row16_col1\" class=\"data row16 col1\" >Improper Restriction of XML External Entity Reference</td>\n",
       "                        <td id=\"T_885d9b10_e5e0_11ec_9669_fa163ee081a9row16_col2\" class=\"data row16 col2\" >0.943090</td>\n",
       "                        <td id=\"T_885d9b10_e5e0_11ec_9669_fa163ee081a9row16_col3\" class=\"data row16 col3\" >nan</td>\n",
       "                        <td id=\"T_885d9b10_e5e0_11ec_9669_fa163ee081a9row16_col4\" class=\"data row16 col4\" >0.273821</td>\n",
       "                        <td id=\"T_885d9b10_e5e0_11ec_9669_fa163ee081a9row16_col5\" class=\"data row16 col5\" >nan</td>\n",
       "                        <td id=\"T_885d9b10_e5e0_11ec_9669_fa163ee081a9row16_col6\" class=\"data row16 col6\" >0.169031</td>\n",
       "            </tr>\n",
       "            <tr>\n",
       "                                <td id=\"T_885d9b10_e5e0_11ec_9669_fa163ee081a9row17_col0\" class=\"data row17 col0\" >732</td>\n",
       "                        <td id=\"T_885d9b10_e5e0_11ec_9669_fa163ee081a9row17_col1\" class=\"data row17 col1\" >Incorrect Permission Assignment for Critical Resource</td>\n",
       "                        <td id=\"T_885d9b10_e5e0_11ec_9669_fa163ee081a9row17_col2\" class=\"data row17 col2\" >0.135860</td>\n",
       "                        <td id=\"T_885d9b10_e5e0_11ec_9669_fa163ee081a9row17_col3\" class=\"data row17 col3\" >0.335011</td>\n",
       "                        <td id=\"T_885d9b10_e5e0_11ec_9669_fa163ee081a9row17_col4\" class=\"data row17 col4\" >0.180487</td>\n",
       "                        <td id=\"T_885d9b10_e5e0_11ec_9669_fa163ee081a9row17_col5\" class=\"data row17 col5\" >0.015152</td>\n",
       "                        <td id=\"T_885d9b10_e5e0_11ec_9669_fa163ee081a9row17_col6\" class=\"data row17 col6\" >0.000000</td>\n",
       "            </tr>\n",
       "            <tr>\n",
       "                                <td id=\"T_885d9b10_e5e0_11ec_9669_fa163ee081a9row18_col0\" class=\"data row18 col0\" >78</td>\n",
       "                        <td id=\"T_885d9b10_e5e0_11ec_9669_fa163ee081a9row18_col1\" class=\"data row18 col1\" >Improper Neutralization of Special Elements used in an OS Command ('OS Command Injection')</td>\n",
       "                        <td id=\"T_885d9b10_e5e0_11ec_9669_fa163ee081a9row18_col2\" class=\"data row18 col2\" >0.166465</td>\n",
       "                        <td id=\"T_885d9b10_e5e0_11ec_9669_fa163ee081a9row18_col3\" class=\"data row18 col3\" >0.346432</td>\n",
       "                        <td id=\"T_885d9b10_e5e0_11ec_9669_fa163ee081a9row18_col4\" class=\"data row18 col4\" >0.227267</td>\n",
       "                        <td id=\"T_885d9b10_e5e0_11ec_9669_fa163ee081a9row18_col5\" class=\"data row18 col5\" >0.186525</td>\n",
       "                        <td id=\"T_885d9b10_e5e0_11ec_9669_fa163ee081a9row18_col6\" class=\"data row18 col6\" >0.302336</td>\n",
       "            </tr>\n",
       "            <tr>\n",
       "                                <td id=\"T_885d9b10_e5e0_11ec_9669_fa163ee081a9row19_col0\" class=\"data row19 col0\" >787</td>\n",
       "                        <td id=\"T_885d9b10_e5e0_11ec_9669_fa163ee081a9row19_col1\" class=\"data row19 col1\" >Out-of-bounds Write</td>\n",
       "                        <td id=\"T_885d9b10_e5e0_11ec_9669_fa163ee081a9row19_col2\" class=\"data row19 col2\" >nan</td>\n",
       "                        <td id=\"T_885d9b10_e5e0_11ec_9669_fa163ee081a9row19_col3\" class=\"data row19 col3\" >0.267493</td>\n",
       "                        <td id=\"T_885d9b10_e5e0_11ec_9669_fa163ee081a9row19_col4\" class=\"data row19 col4\" >nan</td>\n",
       "                        <td id=\"T_885d9b10_e5e0_11ec_9669_fa163ee081a9row19_col5\" class=\"data row19 col5\" >0.186525</td>\n",
       "                        <td id=\"T_885d9b10_e5e0_11ec_9669_fa163ee081a9row19_col6\" class=\"data row19 col6\" >0.302336</td>\n",
       "            </tr>\n",
       "            <tr>\n",
       "                                <td id=\"T_885d9b10_e5e0_11ec_9669_fa163ee081a9row20_col0\" class=\"data row20 col0\" >79</td>\n",
       "                        <td id=\"T_885d9b10_e5e0_11ec_9669_fa163ee081a9row20_col1\" class=\"data row20 col1\" >Improper Neutralization of Input During Web Page Generation ('Cross-site Scripting')</td>\n",
       "                        <td id=\"T_885d9b10_e5e0_11ec_9669_fa163ee081a9row20_col2\" class=\"data row20 col2\" >0.154469</td>\n",
       "                        <td id=\"T_885d9b10_e5e0_11ec_9669_fa163ee081a9row20_col3\" class=\"data row20 col3\" >0.319419</td>\n",
       "                        <td id=\"T_885d9b10_e5e0_11ec_9669_fa163ee081a9row20_col4\" class=\"data row20 col4\" >0.126001</td>\n",
       "                        <td id=\"T_885d9b10_e5e0_11ec_9669_fa163ee081a9row20_col5\" class=\"data row20 col5\" >0.228436</td>\n",
       "                        <td id=\"T_885d9b10_e5e0_11ec_9669_fa163ee081a9row20_col6\" class=\"data row20 col6\" >0.075378</td>\n",
       "            </tr>\n",
       "            <tr>\n",
       "                                <td id=\"T_885d9b10_e5e0_11ec_9669_fa163ee081a9row21_col0\" class=\"data row21 col0\" >798</td>\n",
       "                        <td id=\"T_885d9b10_e5e0_11ec_9669_fa163ee081a9row21_col1\" class=\"data row21 col1\" >Use of Hard-coded Credentials</td>\n",
       "                        <td id=\"T_885d9b10_e5e0_11ec_9669_fa163ee081a9row21_col2\" class=\"data row21 col2\" >0.160542</td>\n",
       "                        <td id=\"T_885d9b10_e5e0_11ec_9669_fa163ee081a9row21_col3\" class=\"data row21 col3\" >0.383006</td>\n",
       "                        <td id=\"T_885d9b10_e5e0_11ec_9669_fa163ee081a9row21_col4\" class=\"data row21 col4\" >0.241905</td>\n",
       "                        <td id=\"T_885d9b10_e5e0_11ec_9669_fa163ee081a9row21_col5\" class=\"data row21 col5\" >0.000000</td>\n",
       "                        <td id=\"T_885d9b10_e5e0_11ec_9669_fa163ee081a9row21_col6\" class=\"data row21 col6\" >0.000000</td>\n",
       "            </tr>\n",
       "            <tr>\n",
       "                                <td id=\"T_885d9b10_e5e0_11ec_9669_fa163ee081a9row22_col0\" class=\"data row22 col0\" >862</td>\n",
       "                        <td id=\"T_885d9b10_e5e0_11ec_9669_fa163ee081a9row22_col1\" class=\"data row22 col1\" >Missing Authorization</td>\n",
       "                        <td id=\"T_885d9b10_e5e0_11ec_9669_fa163ee081a9row22_col2\" class=\"data row22 col2\" >0.220473</td>\n",
       "                        <td id=\"T_885d9b10_e5e0_11ec_9669_fa163ee081a9row22_col3\" class=\"data row22 col3\" >0.335644</td>\n",
       "                        <td id=\"T_885d9b10_e5e0_11ec_9669_fa163ee081a9row22_col4\" class=\"data row22 col4\" >0.062742</td>\n",
       "                        <td id=\"T_885d9b10_e5e0_11ec_9669_fa163ee081a9row22_col5\" class=\"data row22 col5\" >nan</td>\n",
       "                        <td id=\"T_885d9b10_e5e0_11ec_9669_fa163ee081a9row22_col6\" class=\"data row22 col6\" >0.000000</td>\n",
       "            </tr>\n",
       "            <tr>\n",
       "                                <td id=\"T_885d9b10_e5e0_11ec_9669_fa163ee081a9row23_col0\" class=\"data row23 col0\" >89</td>\n",
       "                        <td id=\"T_885d9b10_e5e0_11ec_9669_fa163ee081a9row23_col1\" class=\"data row23 col1\" >Improper Neutralization of Special Elements used in an SQL Command ('SQL Injection')</td>\n",
       "                        <td id=\"T_885d9b10_e5e0_11ec_9669_fa163ee081a9row23_col2\" class=\"data row23 col2\" >0.279895</td>\n",
       "                        <td id=\"T_885d9b10_e5e0_11ec_9669_fa163ee081a9row23_col3\" class=\"data row23 col3\" >0.355654</td>\n",
       "                        <td id=\"T_885d9b10_e5e0_11ec_9669_fa163ee081a9row23_col4\" class=\"data row23 col4\" >0.279800</td>\n",
       "                        <td id=\"T_885d9b10_e5e0_11ec_9669_fa163ee081a9row23_col5\" class=\"data row23 col5\" >0.297632</td>\n",
       "                        <td id=\"T_885d9b10_e5e0_11ec_9669_fa163ee081a9row23_col6\" class=\"data row23 col6\" >0.321208</td>\n",
       "            </tr>\n",
       "            <tr>\n",
       "                                <td id=\"T_885d9b10_e5e0_11ec_9669_fa163ee081a9row24_col0\" class=\"data row24 col0\" >94</td>\n",
       "                        <td id=\"T_885d9b10_e5e0_11ec_9669_fa163ee081a9row24_col1\" class=\"data row24 col1\" >Improper Control of Generation of Code ('Code Injection')</td>\n",
       "                        <td id=\"T_885d9b10_e5e0_11ec_9669_fa163ee081a9row24_col2\" class=\"data row24 col2\" >0.106479</td>\n",
       "                        <td id=\"T_885d9b10_e5e0_11ec_9669_fa163ee081a9row24_col3\" class=\"data row24 col3\" >0.297503</td>\n",
       "                        <td id=\"T_885d9b10_e5e0_11ec_9669_fa163ee081a9row24_col4\" class=\"data row24 col4\" >0.166226</td>\n",
       "                        <td id=\"T_885d9b10_e5e0_11ec_9669_fa163ee081a9row24_col5\" class=\"data row24 col5\" >0.078567</td>\n",
       "                        <td id=\"T_885d9b10_e5e0_11ec_9669_fa163ee081a9row24_col6\" class=\"data row24 col6\" >0.268274</td>\n",
       "            </tr>\n",
       "    </tbody></table>"
      ],
      "text/plain": [
       "<pandas.io.formats.style.Styler at 0x7fa8c8370cc0>"
      ]
     },
     "execution_count": 1,
     "metadata": {},
     "output_type": "execute_result"
    }
   ],
   "source": [
    "top_25_cwe_mitigation_similarities[\"cwe id\"] = top_25_cwe_mitigation_similarities.index\n",
    "top_25_cwe_mitigation_similarities = top_25_cwe_mitigation_similarities[\n",
    "    [\n",
    "        \"cwe id\",\n",
    "        \"name\",\n",
    "        \"Among APs\",\n",
    "        \"Among CWEs\",\n",
    "        \"Between CWEs and APs\",\n",
    "        \"Among AP names\",\n",
    "        \"Between CWE and AP names\",\n",
    "    ]\n",
    "]\n",
    "top_25_cwe_mitigation_similarities\n",
    "top_25_cwe_mitigation_similarities.style.hide_index()"
   ]
  },
  {
   "cell_type": "code",
   "execution_count": 12,
   "metadata": {
    "execution": {
     "iopub.execute_input": "2022-06-06T21:35:06.532726Z",
     "iopub.status.busy": "2022-06-06T21:35:06.531345Z",
     "iopub.status.idle": "2022-06-06T21:36:06.573243Z",
     "shell.execute_reply": "2022-06-06T21:36:06.574515Z"
    }
   },
   "outputs": [
    {
     "name": "stdout",
     "output_type": "stream",
     "text": [
      "Among AP names  0.12046472\n",
      "Between CWE and AP names 0.08258062601089478\n",
      "Among APs  0.19600216\n",
      "Among CWEs  0.19770257\n",
      "Between CWEs and APs  0.1820322871208191\n"
     ]
    }
   ],
   "source": [
    "model = SentenceTransformer(\"all-mpnet-base-v2\")\n",
    "\n",
    "cwe_embeddings = model.encode(cwe_mitigation_descriptions)\n",
    "ap_embeddings = model.encode(ap_mitigation_descriptions)\n",
    "\n",
    "ap_similarities_all = util.cos_sim(ap_embeddings, ap_embeddings)\n",
    "among_aps = get_unique_pairs_mean(ap_similarities_all)\n",
    "\n",
    "cwe_similarities_all = util.cos_sim(cwe_embeddings, cwe_embeddings)\n",
    "among_cwes = get_unique_pairs_mean(cwe_similarities_all)\n",
    "\n",
    "cwe_ap_similarities_all = util.cos_sim(ap_embeddings, cwe_embeddings)\n",
    "among_cwes_aps = torch.mean(cwe_ap_similarities_all).item()\n",
    "\n",
    "ap_name_vectors = model.encode(ap_names)\n",
    "cwe_name_vectors = model.encode(cwe_names)\n",
    "\n",
    "ap_name_similarities_all = util.cos_sim(ap_name_vectors, ap_name_vectors)\n",
    "among_ap_names = get_unique_pairs_mean(ap_name_similarities_all)\n",
    "\n",
    "ap_cwe_name_similarities_all = util.cos_sim(ap_name_vectors, cwe_name_vectors)\n",
    "between_cwes_aps_names = torch.mean(ap_cwe_name_similarities_all).item()\n",
    "\n",
    "print(\"Among AP names \", among_ap_names)\n",
    "print(\"Between CWE and AP names\", between_cwes_aps_names)\n",
    "\n",
    "print(\"Among APs \", among_aps)\n",
    "print(\"Among CWEs \", among_cwes)\n",
    "print(\"Between CWEs and APs \", among_cwes_aps)"
   ]
  },
  {
   "cell_type": "code",
   "execution_count": 13,
   "metadata": {
    "execution": {
     "iopub.execute_input": "2022-06-06T21:36:06.605200Z",
     "iopub.status.busy": "2022-06-06T21:36:06.602425Z",
     "iopub.status.idle": "2022-06-06T21:36:47.199555Z",
     "shell.execute_reply": "2022-06-06T21:36:47.198731Z"
    }
   },
   "outputs": [],
   "source": [
    "top_25_cwe_mitigation_similarities = {}\n",
    "ap_similarities_top_25 = []\n",
    "cwe_similarities_top_25 = []\n",
    "cwe_ap_similarities_top_25 = []\n",
    "ap_cwe_name_similarities_top_25 = []\n",
    "ap_name_similarities_top_25 = []\n",
    "\n",
    "for cwe_id in bron_to_original_ids:\n",
    "    cwe_mitigations = set()\n",
    "    for cwe_mitigation in w_dict[cwe_id][\"mitigations\"]:\n",
    "        for cwe_mit in w_mitigation:\n",
    "            if cwe_mitigation == cwe_mit[\"_id\"]:\n",
    "                cwe_mitigations.add(cwe_mit[\"metadata\"][\"Description\"])\n",
    "\n",
    "    ap_mitigations = set()\n",
    "    cur_ap_names = []\n",
    "    for ap in w_dict[cwe_id][\"ap\"]:\n",
    "        for capec_mitigation in ap_dict[ap][\"mitigations\"]:\n",
    "            for ap_mit in ap_mitigation:\n",
    "                if capec_mitigation == ap_mit[\"_id\"]:\n",
    "                    ap_mitigations.add(ap_mit[\"metadata\"])\n",
    "        cur_ap_names.append(ap_dict[ap][\"name\"])\n",
    "\n",
    "    among_aps = float(\"nan\")\n",
    "    among_cwes = float(\"nan\")\n",
    "    between_cwes_aps = float(\"nan\")\n",
    "\n",
    "    cwe_mitigations = list(cwe_mitigations)\n",
    "    ap_mitigations = list(ap_mitigations)\n",
    "\n",
    "    cwe_embeddings = model.encode(cwe_mitigations)\n",
    "    ap_embeddings = model.encode(ap_mitigations)\n",
    "\n",
    "    if ap_mitigations:\n",
    "        ap_similarities = util.cos_sim(ap_embeddings, ap_embeddings)\n",
    "        among_aps = get_unique_pairs_mean(ap_similarities)\n",
    "        ap_similarities_top_25.extend(get_unique_pairs(ap_similarities))\n",
    "\n",
    "    if cwe_mitigations:\n",
    "        cwe_similarities = util.cos_sim(cwe_embeddings, cwe_embeddings)\n",
    "        among_cwes = get_unique_pairs_mean(cwe_similarities)\n",
    "        cwe_similarities_top_25.extend(get_unique_pairs(cwe_similarities))\n",
    "\n",
    "    if cwe_mitigations and ap_mitigations:\n",
    "        cwe_ap_similarities = util.cos_sim(ap_embeddings, cwe_embeddings)\n",
    "        between_cwes_aps = torch.mean(cwe_ap_similarities).item()\n",
    "        cwe_ap_similarities_top_25.extend(cwe_ap_similarities.flatten())\n",
    "\n",
    "    if cur_ap_names:\n",
    "        ap_name_vectors = model.encode(cur_ap_names)\n",
    "        ap_name_similarities = util.cos_sim(ap_name_vectors, ap_name_vectors)\n",
    "        among_ap_names = get_unique_pairs_mean(ap_name_similarities)\n",
    "        ap_name_similarities_top_25.extend(get_unique_pairs(ap_name_similarities))\n",
    "\n",
    "        cwe_name_vector = model.encode(w_dict[cwe_id][\"name\"])\n",
    "        cwe_ap_name_similarities = util.cos_sim(ap_name_vectors, cwe_name_vector)\n",
    "        ap_cwe_name_similarities_top_25.extend(cwe_ap_name_similarities.flatten())\n",
    "        between_cwe_ap_names = torch.mean(cwe_ap_name_similarities).item()\n",
    "\n",
    "    top_25_cwe_mitigation_similarities[bron_to_original_ids[cwe_id]] = {\n",
    "        \"name\": w_dict[cwe_id][\"name\"],\n",
    "        \"Among APs\": among_aps,\n",
    "        \"Among CWEs\": among_cwes,\n",
    "        \"Between CWEs and APs\": between_cwes_aps,\n",
    "        \"Among AP names\": among_ap_names,\n",
    "        \"Between CWE and AP names\": between_cwe_ap_names,\n",
    "    }"
   ]
  },
  {
   "cell_type": "code",
   "execution_count": 14,
   "metadata": {
    "execution": {
     "iopub.execute_input": "2022-06-06T21:36:47.212396Z",
     "iopub.status.busy": "2022-06-06T21:36:47.211710Z",
     "iopub.status.idle": "2022-06-06T21:36:47.214815Z",
     "shell.execute_reply": "2022-06-06T21:36:47.215310Z"
    }
   },
   "outputs": [],
   "source": [
    "top_25_cwe_mitigation_similarities = pd.DataFrame(top_25_cwe_mitigation_similarities).T"
   ]
  },
  {
   "cell_type": "code",
   "execution_count": 15,
   "metadata": {
    "execution": {
     "iopub.execute_input": "2022-06-06T21:36:47.222370Z",
     "iopub.status.busy": "2022-06-06T21:36:47.221638Z",
     "iopub.status.idle": "2022-06-06T21:36:47.225915Z",
     "shell.execute_reply": "2022-06-06T21:36:47.226516Z"
    }
   },
   "outputs": [
    {
     "data": {
      "text/plain": [
       "Series([], dtype: float64)"
      ]
     },
     "execution_count": 1,
     "metadata": {},
     "output_type": "execute_result"
    }
   ],
   "source": [
    "top_25_cwe_mitigation_similarities.mean()"
   ]
  },
  {
   "cell_type": "code",
   "execution_count": 16,
   "metadata": {
    "execution": {
     "iopub.execute_input": "2022-06-06T21:36:47.234775Z",
     "iopub.status.busy": "2022-06-06T21:36:47.234022Z",
     "iopub.status.idle": "2022-06-06T21:36:47.250152Z",
     "shell.execute_reply": "2022-06-06T21:36:47.250709Z"
    }
   },
   "outputs": [
    {
     "data": {
      "text/html": [
       "<style  type=\"text/css\" >\n",
       "</style><table id=\"T_c469994c_e5e0_11ec_9669_fa163ee081a9\" ><thead>    <tr>        <th class=\"col_heading level0 col0\" >cwe id</th>        <th class=\"col_heading level0 col1\" >name</th>        <th class=\"col_heading level0 col2\" >Among APs</th>        <th class=\"col_heading level0 col3\" >Among CWEs</th>        <th class=\"col_heading level0 col4\" >Between CWEs and APs</th>        <th class=\"col_heading level0 col5\" >Among AP names</th>        <th class=\"col_heading level0 col6\" >Between CWE and AP names</th>    </tr></thead><tbody>\n",
       "                <tr>\n",
       "                                <td id=\"T_c469994c_e5e0_11ec_9669_fa163ee081a9row0_col0\" class=\"data row0 col0\" >119</td>\n",
       "                        <td id=\"T_c469994c_e5e0_11ec_9669_fa163ee081a9row0_col1\" class=\"data row0 col1\" >Improper Restriction of Operations within the Bounds of a Memory Buffer</td>\n",
       "                        <td id=\"T_c469994c_e5e0_11ec_9669_fa163ee081a9row0_col2\" class=\"data row0 col2\" >0.241287</td>\n",
       "                        <td id=\"T_c469994c_e5e0_11ec_9669_fa163ee081a9row0_col3\" class=\"data row0 col3\" >0.416442</td>\n",
       "                        <td id=\"T_c469994c_e5e0_11ec_9669_fa163ee081a9row0_col4\" class=\"data row0 col4\" >0.273956</td>\n",
       "                        <td id=\"T_c469994c_e5e0_11ec_9669_fa163ee081a9row0_col5\" class=\"data row0 col5\" >0.389568</td>\n",
       "                        <td id=\"T_c469994c_e5e0_11ec_9669_fa163ee081a9row0_col6\" class=\"data row0 col6\" >0.428320</td>\n",
       "            </tr>\n",
       "            <tr>\n",
       "                                <td id=\"T_c469994c_e5e0_11ec_9669_fa163ee081a9row1_col0\" class=\"data row1 col0\" >125</td>\n",
       "                        <td id=\"T_c469994c_e5e0_11ec_9669_fa163ee081a9row1_col1\" class=\"data row1 col1\" >Out-of-bounds Read</td>\n",
       "                        <td id=\"T_c469994c_e5e0_11ec_9669_fa163ee081a9row1_col2\" class=\"data row1 col2\" >nan</td>\n",
       "                        <td id=\"T_c469994c_e5e0_11ec_9669_fa163ee081a9row1_col3\" class=\"data row1 col3\" >0.267841</td>\n",
       "                        <td id=\"T_c469994c_e5e0_11ec_9669_fa163ee081a9row1_col4\" class=\"data row1 col4\" >nan</td>\n",
       "                        <td id=\"T_c469994c_e5e0_11ec_9669_fa163ee081a9row1_col5\" class=\"data row1 col5\" >nan</td>\n",
       "                        <td id=\"T_c469994c_e5e0_11ec_9669_fa163ee081a9row1_col6\" class=\"data row1 col6\" >0.496448</td>\n",
       "            </tr>\n",
       "            <tr>\n",
       "                                <td id=\"T_c469994c_e5e0_11ec_9669_fa163ee081a9row2_col0\" class=\"data row2 col0\" >190</td>\n",
       "                        <td id=\"T_c469994c_e5e0_11ec_9669_fa163ee081a9row2_col1\" class=\"data row2 col1\" >Integer Overflow or Wraparound</td>\n",
       "                        <td id=\"T_c469994c_e5e0_11ec_9669_fa163ee081a9row2_col2\" class=\"data row2 col2\" >0.319081</td>\n",
       "                        <td id=\"T_c469994c_e5e0_11ec_9669_fa163ee081a9row2_col3\" class=\"data row2 col3\" >0.428997</td>\n",
       "                        <td id=\"T_c469994c_e5e0_11ec_9669_fa163ee081a9row2_col4\" class=\"data row2 col4\" >0.357306</td>\n",
       "                        <td id=\"T_c469994c_e5e0_11ec_9669_fa163ee081a9row2_col5\" class=\"data row2 col5\" >nan</td>\n",
       "                        <td id=\"T_c469994c_e5e0_11ec_9669_fa163ee081a9row2_col6\" class=\"data row2 col6\" >0.854027</td>\n",
       "            </tr>\n",
       "            <tr>\n",
       "                                <td id=\"T_c469994c_e5e0_11ec_9669_fa163ee081a9row3_col0\" class=\"data row3 col0\" >20</td>\n",
       "                        <td id=\"T_c469994c_e5e0_11ec_9669_fa163ee081a9row3_col1\" class=\"data row3 col1\" >Improper Input Validation</td>\n",
       "                        <td id=\"T_c469994c_e5e0_11ec_9669_fa163ee081a9row3_col2\" class=\"data row3 col2\" >0.239936</td>\n",
       "                        <td id=\"T_c469994c_e5e0_11ec_9669_fa163ee081a9row3_col3\" class=\"data row3 col3\" >0.374335</td>\n",
       "                        <td id=\"T_c469994c_e5e0_11ec_9669_fa163ee081a9row3_col4\" class=\"data row3 col4\" >0.272639</td>\n",
       "                        <td id=\"T_c469994c_e5e0_11ec_9669_fa163ee081a9row3_col5\" class=\"data row3 col5\" >0.193484</td>\n",
       "                        <td id=\"T_c469994c_e5e0_11ec_9669_fa163ee081a9row3_col6\" class=\"data row3 col6\" >0.174702</td>\n",
       "            </tr>\n",
       "            <tr>\n",
       "                                <td id=\"T_c469994c_e5e0_11ec_9669_fa163ee081a9row4_col0\" class=\"data row4 col0\" >200</td>\n",
       "                        <td id=\"T_c469994c_e5e0_11ec_9669_fa163ee081a9row4_col1\" class=\"data row4 col1\" >Exposure of Sensitive Information to an Unauthorized Actor</td>\n",
       "                        <td id=\"T_c469994c_e5e0_11ec_9669_fa163ee081a9row4_col2\" class=\"data row4 col2\" >0.253614</td>\n",
       "                        <td id=\"T_c469994c_e5e0_11ec_9669_fa163ee081a9row4_col3\" class=\"data row4 col3\" >nan</td>\n",
       "                        <td id=\"T_c469994c_e5e0_11ec_9669_fa163ee081a9row4_col4\" class=\"data row4 col4\" >0.321873</td>\n",
       "                        <td id=\"T_c469994c_e5e0_11ec_9669_fa163ee081a9row4_col5\" class=\"data row4 col5\" >0.204915</td>\n",
       "                        <td id=\"T_c469994c_e5e0_11ec_9669_fa163ee081a9row4_col6\" class=\"data row4 col6\" >0.075225</td>\n",
       "            </tr>\n",
       "            <tr>\n",
       "                                <td id=\"T_c469994c_e5e0_11ec_9669_fa163ee081a9row5_col0\" class=\"data row5 col0\" >22</td>\n",
       "                        <td id=\"T_c469994c_e5e0_11ec_9669_fa163ee081a9row5_col1\" class=\"data row5 col1\" >Improper Limitation of a Pathname to a Restricted Directory ('Path Traversal')</td>\n",
       "                        <td id=\"T_c469994c_e5e0_11ec_9669_fa163ee081a9row5_col2\" class=\"data row5 col2\" >0.316997</td>\n",
       "                        <td id=\"T_c469994c_e5e0_11ec_9669_fa163ee081a9row5_col3\" class=\"data row5 col3\" >0.348529</td>\n",
       "                        <td id=\"T_c469994c_e5e0_11ec_9669_fa163ee081a9row5_col4\" class=\"data row5 col4\" >0.300298</td>\n",
       "                        <td id=\"T_c469994c_e5e0_11ec_9669_fa163ee081a9row5_col5\" class=\"data row5 col5\" >0.367793</td>\n",
       "                        <td id=\"T_c469994c_e5e0_11ec_9669_fa163ee081a9row5_col6\" class=\"data row5 col6\" >0.313407</td>\n",
       "            </tr>\n",
       "            <tr>\n",
       "                                <td id=\"T_c469994c_e5e0_11ec_9669_fa163ee081a9row6_col0\" class=\"data row6 col0\" >269</td>\n",
       "                        <td id=\"T_c469994c_e5e0_11ec_9669_fa163ee081a9row6_col1\" class=\"data row6 col1\" >Improper Privilege Management</td>\n",
       "                        <td id=\"T_c469994c_e5e0_11ec_9669_fa163ee081a9row6_col2\" class=\"data row6 col2\" >0.392639</td>\n",
       "                        <td id=\"T_c469994c_e5e0_11ec_9669_fa163ee081a9row6_col3\" class=\"data row6 col3\" >0.607875</td>\n",
       "                        <td id=\"T_c469994c_e5e0_11ec_9669_fa163ee081a9row6_col4\" class=\"data row6 col4\" >0.448878</td>\n",
       "                        <td id=\"T_c469994c_e5e0_11ec_9669_fa163ee081a9row6_col5\" class=\"data row6 col5\" >0.579413</td>\n",
       "                        <td id=\"T_c469994c_e5e0_11ec_9669_fa163ee081a9row6_col6\" class=\"data row6 col6\" >0.691389</td>\n",
       "            </tr>\n",
       "            <tr>\n",
       "                                <td id=\"T_c469994c_e5e0_11ec_9669_fa163ee081a9row7_col0\" class=\"data row7 col0\" >287</td>\n",
       "                        <td id=\"T_c469994c_e5e0_11ec_9669_fa163ee081a9row7_col1\" class=\"data row7 col1\" >Improper Authentication</td>\n",
       "                        <td id=\"T_c469994c_e5e0_11ec_9669_fa163ee081a9row7_col2\" class=\"data row7 col2\" >0.314521</td>\n",
       "                        <td id=\"T_c469994c_e5e0_11ec_9669_fa163ee081a9row7_col3\" class=\"data row7 col3\" >nan</td>\n",
       "                        <td id=\"T_c469994c_e5e0_11ec_9669_fa163ee081a9row7_col4\" class=\"data row7 col4\" >0.402684</td>\n",
       "                        <td id=\"T_c469994c_e5e0_11ec_9669_fa163ee081a9row7_col5\" class=\"data row7 col5\" >0.312071</td>\n",
       "                        <td id=\"T_c469994c_e5e0_11ec_9669_fa163ee081a9row7_col6\" class=\"data row7 col6\" >0.381499</td>\n",
       "            </tr>\n",
       "            <tr>\n",
       "                                <td id=\"T_c469994c_e5e0_11ec_9669_fa163ee081a9row8_col0\" class=\"data row8 col0\" >306</td>\n",
       "                        <td id=\"T_c469994c_e5e0_11ec_9669_fa163ee081a9row8_col1\" class=\"data row8 col1\" >Missing Authentication for Critical Function</td>\n",
       "                        <td id=\"T_c469994c_e5e0_11ec_9669_fa163ee081a9row8_col2\" class=\"data row8 col2\" >0.389150</td>\n",
       "                        <td id=\"T_c469994c_e5e0_11ec_9669_fa163ee081a9row8_col3\" class=\"data row8 col3\" >0.421480</td>\n",
       "                        <td id=\"T_c469994c_e5e0_11ec_9669_fa163ee081a9row8_col4\" class=\"data row8 col4\" >0.386857</td>\n",
       "                        <td id=\"T_c469994c_e5e0_11ec_9669_fa163ee081a9row8_col5\" class=\"data row8 col5\" >0.055747</td>\n",
       "                        <td id=\"T_c469994c_e5e0_11ec_9669_fa163ee081a9row8_col6\" class=\"data row8 col6\" >0.123551</td>\n",
       "            </tr>\n",
       "            <tr>\n",
       "                                <td id=\"T_c469994c_e5e0_11ec_9669_fa163ee081a9row9_col0\" class=\"data row9 col0\" >352</td>\n",
       "                        <td id=\"T_c469994c_e5e0_11ec_9669_fa163ee081a9row9_col1\" class=\"data row9 col1\" >Cross-Site Request Forgery (CSRF)</td>\n",
       "                        <td id=\"T_c469994c_e5e0_11ec_9669_fa163ee081a9row9_col2\" class=\"data row9 col2\" >0.338677</td>\n",
       "                        <td id=\"T_c469994c_e5e0_11ec_9669_fa163ee081a9row9_col3\" class=\"data row9 col3\" >0.312852</td>\n",
       "                        <td id=\"T_c469994c_e5e0_11ec_9669_fa163ee081a9row9_col4\" class=\"data row9 col4\" >0.306291</td>\n",
       "                        <td id=\"T_c469994c_e5e0_11ec_9669_fa163ee081a9row9_col5\" class=\"data row9 col5\" >0.331407</td>\n",
       "                        <td id=\"T_c469994c_e5e0_11ec_9669_fa163ee081a9row9_col6\" class=\"data row9 col6\" >0.453440</td>\n",
       "            </tr>\n",
       "            <tr>\n",
       "                                <td id=\"T_c469994c_e5e0_11ec_9669_fa163ee081a9row10_col0\" class=\"data row10 col0\" >400</td>\n",
       "                        <td id=\"T_c469994c_e5e0_11ec_9669_fa163ee081a9row10_col1\" class=\"data row10 col1\" >Uncontrolled Resource Consumption</td>\n",
       "                        <td id=\"T_c469994c_e5e0_11ec_9669_fa163ee081a9row10_col2\" class=\"data row10 col2\" >0.307323</td>\n",
       "                        <td id=\"T_c469994c_e5e0_11ec_9669_fa163ee081a9row10_col3\" class=\"data row10 col3\" >0.477838</td>\n",
       "                        <td id=\"T_c469994c_e5e0_11ec_9669_fa163ee081a9row10_col4\" class=\"data row10 col4\" >0.398838</td>\n",
       "                        <td id=\"T_c469994c_e5e0_11ec_9669_fa163ee081a9row10_col5\" class=\"data row10 col5\" >0.118282</td>\n",
       "                        <td id=\"T_c469994c_e5e0_11ec_9669_fa163ee081a9row10_col6\" class=\"data row10 col6\" >0.126660</td>\n",
       "            </tr>\n",
       "            <tr>\n",
       "                                <td id=\"T_c469994c_e5e0_11ec_9669_fa163ee081a9row11_col0\" class=\"data row11 col0\" >416</td>\n",
       "                        <td id=\"T_c469994c_e5e0_11ec_9669_fa163ee081a9row11_col1\" class=\"data row11 col1\" >Use After Free</td>\n",
       "                        <td id=\"T_c469994c_e5e0_11ec_9669_fa163ee081a9row11_col2\" class=\"data row11 col2\" >nan</td>\n",
       "                        <td id=\"T_c469994c_e5e0_11ec_9669_fa163ee081a9row11_col3\" class=\"data row11 col3\" >0.357232</td>\n",
       "                        <td id=\"T_c469994c_e5e0_11ec_9669_fa163ee081a9row11_col4\" class=\"data row11 col4\" >nan</td>\n",
       "                        <td id=\"T_c469994c_e5e0_11ec_9669_fa163ee081a9row11_col5\" class=\"data row11 col5\" >0.118282</td>\n",
       "                        <td id=\"T_c469994c_e5e0_11ec_9669_fa163ee081a9row11_col6\" class=\"data row11 col6\" >0.126660</td>\n",
       "            </tr>\n",
       "            <tr>\n",
       "                                <td id=\"T_c469994c_e5e0_11ec_9669_fa163ee081a9row12_col0\" class=\"data row12 col0\" >434</td>\n",
       "                        <td id=\"T_c469994c_e5e0_11ec_9669_fa163ee081a9row12_col1\" class=\"data row12 col1\" >Unrestricted Upload of File with Dangerous Type</td>\n",
       "                        <td id=\"T_c469994c_e5e0_11ec_9669_fa163ee081a9row12_col2\" class=\"data row12 col2\" >nan</td>\n",
       "                        <td id=\"T_c469994c_e5e0_11ec_9669_fa163ee081a9row12_col3\" class=\"data row12 col3\" >0.315856</td>\n",
       "                        <td id=\"T_c469994c_e5e0_11ec_9669_fa163ee081a9row12_col4\" class=\"data row12 col4\" >0.182513</td>\n",
       "                        <td id=\"T_c469994c_e5e0_11ec_9669_fa163ee081a9row12_col5\" class=\"data row12 col5\" >nan</td>\n",
       "                        <td id=\"T_c469994c_e5e0_11ec_9669_fa163ee081a9row12_col6\" class=\"data row12 col6\" >0.305732</td>\n",
       "            </tr>\n",
       "            <tr>\n",
       "                                <td id=\"T_c469994c_e5e0_11ec_9669_fa163ee081a9row13_col0\" class=\"data row13 col0\" >476</td>\n",
       "                        <td id=\"T_c469994c_e5e0_11ec_9669_fa163ee081a9row13_col1\" class=\"data row13 col1\" >NULL Pointer Dereference</td>\n",
       "                        <td id=\"T_c469994c_e5e0_11ec_9669_fa163ee081a9row13_col2\" class=\"data row13 col2\" >nan</td>\n",
       "                        <td id=\"T_c469994c_e5e0_11ec_9669_fa163ee081a9row13_col3\" class=\"data row13 col3\" >0.329207</td>\n",
       "                        <td id=\"T_c469994c_e5e0_11ec_9669_fa163ee081a9row13_col4\" class=\"data row13 col4\" >nan</td>\n",
       "                        <td id=\"T_c469994c_e5e0_11ec_9669_fa163ee081a9row13_col5\" class=\"data row13 col5\" >nan</td>\n",
       "                        <td id=\"T_c469994c_e5e0_11ec_9669_fa163ee081a9row13_col6\" class=\"data row13 col6\" >0.305732</td>\n",
       "            </tr>\n",
       "            <tr>\n",
       "                                <td id=\"T_c469994c_e5e0_11ec_9669_fa163ee081a9row14_col0\" class=\"data row14 col0\" >502</td>\n",
       "                        <td id=\"T_c469994c_e5e0_11ec_9669_fa163ee081a9row14_col1\" class=\"data row14 col1\" >Deserialization of Untrusted Data</td>\n",
       "                        <td id=\"T_c469994c_e5e0_11ec_9669_fa163ee081a9row14_col2\" class=\"data row14 col2\" >0.296252</td>\n",
       "                        <td id=\"T_c469994c_e5e0_11ec_9669_fa163ee081a9row14_col3\" class=\"data row14 col3\" >0.499736</td>\n",
       "                        <td id=\"T_c469994c_e5e0_11ec_9669_fa163ee081a9row14_col4\" class=\"data row14 col4\" >0.444044</td>\n",
       "                        <td id=\"T_c469994c_e5e0_11ec_9669_fa163ee081a9row14_col5\" class=\"data row14 col5\" >nan</td>\n",
       "                        <td id=\"T_c469994c_e5e0_11ec_9669_fa163ee081a9row14_col6\" class=\"data row14 col6\" >0.249035</td>\n",
       "            </tr>\n",
       "            <tr>\n",
       "                                <td id=\"T_c469994c_e5e0_11ec_9669_fa163ee081a9row15_col0\" class=\"data row15 col0\" >522</td>\n",
       "                        <td id=\"T_c469994c_e5e0_11ec_9669_fa163ee081a9row15_col1\" class=\"data row15 col1\" >Insufficiently Protected Credentials</td>\n",
       "                        <td id=\"T_c469994c_e5e0_11ec_9669_fa163ee081a9row15_col2\" class=\"data row15 col2\" >0.358560</td>\n",
       "                        <td id=\"T_c469994c_e5e0_11ec_9669_fa163ee081a9row15_col3\" class=\"data row15 col3\" >0.850139</td>\n",
       "                        <td id=\"T_c469994c_e5e0_11ec_9669_fa163ee081a9row15_col4\" class=\"data row15 col4\" >0.452282</td>\n",
       "                        <td id=\"T_c469994c_e5e0_11ec_9669_fa163ee081a9row15_col5\" class=\"data row15 col5\" >0.284629</td>\n",
       "                        <td id=\"T_c469994c_e5e0_11ec_9669_fa163ee081a9row15_col6\" class=\"data row15 col6\" >0.284404</td>\n",
       "            </tr>\n",
       "            <tr>\n",
       "                                <td id=\"T_c469994c_e5e0_11ec_9669_fa163ee081a9row16_col0\" class=\"data row16 col0\" >611</td>\n",
       "                        <td id=\"T_c469994c_e5e0_11ec_9669_fa163ee081a9row16_col1\" class=\"data row16 col1\" >Improper Restriction of XML External Entity Reference</td>\n",
       "                        <td id=\"T_c469994c_e5e0_11ec_9669_fa163ee081a9row16_col2\" class=\"data row16 col2\" >0.822658</td>\n",
       "                        <td id=\"T_c469994c_e5e0_11ec_9669_fa163ee081a9row16_col3\" class=\"data row16 col3\" >nan</td>\n",
       "                        <td id=\"T_c469994c_e5e0_11ec_9669_fa163ee081a9row16_col4\" class=\"data row16 col4\" >0.574327</td>\n",
       "                        <td id=\"T_c469994c_e5e0_11ec_9669_fa163ee081a9row16_col5\" class=\"data row16 col5\" >nan</td>\n",
       "                        <td id=\"T_c469994c_e5e0_11ec_9669_fa163ee081a9row16_col6\" class=\"data row16 col6\" >0.386499</td>\n",
       "            </tr>\n",
       "            <tr>\n",
       "                                <td id=\"T_c469994c_e5e0_11ec_9669_fa163ee081a9row17_col0\" class=\"data row17 col0\" >732</td>\n",
       "                        <td id=\"T_c469994c_e5e0_11ec_9669_fa163ee081a9row17_col1\" class=\"data row17 col1\" >Incorrect Permission Assignment for Critical Resource</td>\n",
       "                        <td id=\"T_c469994c_e5e0_11ec_9669_fa163ee081a9row17_col2\" class=\"data row17 col2\" >0.300553</td>\n",
       "                        <td id=\"T_c469994c_e5e0_11ec_9669_fa163ee081a9row17_col3\" class=\"data row17 col3\" >0.464946</td>\n",
       "                        <td id=\"T_c469994c_e5e0_11ec_9669_fa163ee081a9row17_col4\" class=\"data row17 col4\" >0.246803</td>\n",
       "                        <td id=\"T_c469994c_e5e0_11ec_9669_fa163ee081a9row17_col5\" class=\"data row17 col5\" >0.150690</td>\n",
       "                        <td id=\"T_c469994c_e5e0_11ec_9669_fa163ee081a9row17_col6\" class=\"data row17 col6\" >0.217364</td>\n",
       "            </tr>\n",
       "            <tr>\n",
       "                                <td id=\"T_c469994c_e5e0_11ec_9669_fa163ee081a9row18_col0\" class=\"data row18 col0\" >78</td>\n",
       "                        <td id=\"T_c469994c_e5e0_11ec_9669_fa163ee081a9row18_col1\" class=\"data row18 col1\" >Improper Neutralization of Special Elements used in an OS Command ('OS Command Injection')</td>\n",
       "                        <td id=\"T_c469994c_e5e0_11ec_9669_fa163ee081a9row18_col2\" class=\"data row18 col2\" >0.312613</td>\n",
       "                        <td id=\"T_c469994c_e5e0_11ec_9669_fa163ee081a9row18_col3\" class=\"data row18 col3\" >0.325980</td>\n",
       "                        <td id=\"T_c469994c_e5e0_11ec_9669_fa163ee081a9row18_col4\" class=\"data row18 col4\" >0.309492</td>\n",
       "                        <td id=\"T_c469994c_e5e0_11ec_9669_fa163ee081a9row18_col5\" class=\"data row18 col5\" >0.332152</td>\n",
       "                        <td id=\"T_c469994c_e5e0_11ec_9669_fa163ee081a9row18_col6\" class=\"data row18 col6\" >0.446854</td>\n",
       "            </tr>\n",
       "            <tr>\n",
       "                                <td id=\"T_c469994c_e5e0_11ec_9669_fa163ee081a9row19_col0\" class=\"data row19 col0\" >787</td>\n",
       "                        <td id=\"T_c469994c_e5e0_11ec_9669_fa163ee081a9row19_col1\" class=\"data row19 col1\" >Out-of-bounds Write</td>\n",
       "                        <td id=\"T_c469994c_e5e0_11ec_9669_fa163ee081a9row19_col2\" class=\"data row19 col2\" >nan</td>\n",
       "                        <td id=\"T_c469994c_e5e0_11ec_9669_fa163ee081a9row19_col3\" class=\"data row19 col3\" >0.416442</td>\n",
       "                        <td id=\"T_c469994c_e5e0_11ec_9669_fa163ee081a9row19_col4\" class=\"data row19 col4\" >nan</td>\n",
       "                        <td id=\"T_c469994c_e5e0_11ec_9669_fa163ee081a9row19_col5\" class=\"data row19 col5\" >0.332152</td>\n",
       "                        <td id=\"T_c469994c_e5e0_11ec_9669_fa163ee081a9row19_col6\" class=\"data row19 col6\" >0.446854</td>\n",
       "            </tr>\n",
       "            <tr>\n",
       "                                <td id=\"T_c469994c_e5e0_11ec_9669_fa163ee081a9row20_col0\" class=\"data row20 col0\" >79</td>\n",
       "                        <td id=\"T_c469994c_e5e0_11ec_9669_fa163ee081a9row20_col1\" class=\"data row20 col1\" >Improper Neutralization of Input During Web Page Generation ('Cross-site Scripting')</td>\n",
       "                        <td id=\"T_c469994c_e5e0_11ec_9669_fa163ee081a9row20_col2\" class=\"data row20 col2\" >0.371113</td>\n",
       "                        <td id=\"T_c469994c_e5e0_11ec_9669_fa163ee081a9row20_col3\" class=\"data row20 col3\" >0.339154</td>\n",
       "                        <td id=\"T_c469994c_e5e0_11ec_9669_fa163ee081a9row20_col4\" class=\"data row20 col4\" >0.337965</td>\n",
       "                        <td id=\"T_c469994c_e5e0_11ec_9669_fa163ee081a9row20_col5\" class=\"data row20 col5\" >0.457055</td>\n",
       "                        <td id=\"T_c469994c_e5e0_11ec_9669_fa163ee081a9row20_col6\" class=\"data row20 col6\" >0.425710</td>\n",
       "            </tr>\n",
       "            <tr>\n",
       "                                <td id=\"T_c469994c_e5e0_11ec_9669_fa163ee081a9row21_col0\" class=\"data row21 col0\" >798</td>\n",
       "                        <td id=\"T_c469994c_e5e0_11ec_9669_fa163ee081a9row21_col1\" class=\"data row21 col1\" >Use of Hard-coded Credentials</td>\n",
       "                        <td id=\"T_c469994c_e5e0_11ec_9669_fa163ee081a9row21_col2\" class=\"data row21 col2\" >0.364088</td>\n",
       "                        <td id=\"T_c469994c_e5e0_11ec_9669_fa163ee081a9row21_col3\" class=\"data row21 col3\" >0.487045</td>\n",
       "                        <td id=\"T_c469994c_e5e0_11ec_9669_fa163ee081a9row21_col4\" class=\"data row21 col4\" >0.353528</td>\n",
       "                        <td id=\"T_c469994c_e5e0_11ec_9669_fa163ee081a9row21_col5\" class=\"data row21 col5\" >-0.041060</td>\n",
       "                        <td id=\"T_c469994c_e5e0_11ec_9669_fa163ee081a9row21_col6\" class=\"data row21 col6\" >0.325977</td>\n",
       "            </tr>\n",
       "            <tr>\n",
       "                                <td id=\"T_c469994c_e5e0_11ec_9669_fa163ee081a9row22_col0\" class=\"data row22 col0\" >862</td>\n",
       "                        <td id=\"T_c469994c_e5e0_11ec_9669_fa163ee081a9row22_col1\" class=\"data row22 col1\" >Missing Authorization</td>\n",
       "                        <td id=\"T_c469994c_e5e0_11ec_9669_fa163ee081a9row22_col2\" class=\"data row22 col2\" >0.370526</td>\n",
       "                        <td id=\"T_c469994c_e5e0_11ec_9669_fa163ee081a9row22_col3\" class=\"data row22 col3\" >0.519516</td>\n",
       "                        <td id=\"T_c469994c_e5e0_11ec_9669_fa163ee081a9row22_col4\" class=\"data row22 col4\" >0.102444</td>\n",
       "                        <td id=\"T_c469994c_e5e0_11ec_9669_fa163ee081a9row22_col5\" class=\"data row22 col5\" >nan</td>\n",
       "                        <td id=\"T_c469994c_e5e0_11ec_9669_fa163ee081a9row22_col6\" class=\"data row22 col6\" >-0.007489</td>\n",
       "            </tr>\n",
       "            <tr>\n",
       "                                <td id=\"T_c469994c_e5e0_11ec_9669_fa163ee081a9row23_col0\" class=\"data row23 col0\" >89</td>\n",
       "                        <td id=\"T_c469994c_e5e0_11ec_9669_fa163ee081a9row23_col1\" class=\"data row23 col1\" >Improper Neutralization of Special Elements used in an SQL Command ('SQL Injection')</td>\n",
       "                        <td id=\"T_c469994c_e5e0_11ec_9669_fa163ee081a9row23_col2\" class=\"data row23 col2\" >0.412048</td>\n",
       "                        <td id=\"T_c469994c_e5e0_11ec_9669_fa163ee081a9row23_col3\" class=\"data row23 col3\" >0.388785</td>\n",
       "                        <td id=\"T_c469994c_e5e0_11ec_9669_fa163ee081a9row23_col4\" class=\"data row23 col4\" >0.371873</td>\n",
       "                        <td id=\"T_c469994c_e5e0_11ec_9669_fa163ee081a9row23_col5\" class=\"data row23 col5\" >0.409010</td>\n",
       "                        <td id=\"T_c469994c_e5e0_11ec_9669_fa163ee081a9row23_col6\" class=\"data row23 col6\" >0.521581</td>\n",
       "            </tr>\n",
       "            <tr>\n",
       "                                <td id=\"T_c469994c_e5e0_11ec_9669_fa163ee081a9row24_col0\" class=\"data row24 col0\" >94</td>\n",
       "                        <td id=\"T_c469994c_e5e0_11ec_9669_fa163ee081a9row24_col1\" class=\"data row24 col1\" >Improper Control of Generation of Code ('Code Injection')</td>\n",
       "                        <td id=\"T_c469994c_e5e0_11ec_9669_fa163ee081a9row24_col2\" class=\"data row24 col2\" >0.293982</td>\n",
       "                        <td id=\"T_c469994c_e5e0_11ec_9669_fa163ee081a9row24_col3\" class=\"data row24 col3\" >0.399112</td>\n",
       "                        <td id=\"T_c469994c_e5e0_11ec_9669_fa163ee081a9row24_col4\" class=\"data row24 col4\" >0.299257</td>\n",
       "                        <td id=\"T_c469994c_e5e0_11ec_9669_fa163ee081a9row24_col5\" class=\"data row24 col5\" >0.260298</td>\n",
       "                        <td id=\"T_c469994c_e5e0_11ec_9669_fa163ee081a9row24_col6\" class=\"data row24 col6\" >0.476064</td>\n",
       "            </tr>\n",
       "    </tbody></table>"
      ],
      "text/plain": [
       "<pandas.io.formats.style.Styler at 0x7fa8c76a2908>"
      ]
     },
     "execution_count": 1,
     "metadata": {},
     "output_type": "execute_result"
    }
   ],
   "source": [
    "top_25_cwe_mitigation_similarities[\"cwe id\"] = top_25_cwe_mitigation_similarities.index\n",
    "top_25_cwe_mitigation_similarities = top_25_cwe_mitigation_similarities[\n",
    "    [\n",
    "        \"cwe id\",\n",
    "        \"name\",\n",
    "        \"Among APs\",\n",
    "        \"Among CWEs\",\n",
    "        \"Between CWEs and APs\",\n",
    "        \"Among AP names\",\n",
    "        \"Between CWE and AP names\",\n",
    "    ]\n",
    "]\n",
    "top_25_cwe_mitigation_similarities\n",
    "top_25_cwe_mitigation_similarities.style.hide_index()"
   ]
  },
  {
   "cell_type": "code",
   "execution_count": 17,
   "metadata": {
    "execution": {
     "iopub.execute_input": "2022-06-06T21:36:47.255833Z",
     "iopub.status.busy": "2022-06-06T21:36:47.255201Z",
     "iopub.status.idle": "2022-06-06T21:36:49.625062Z",
     "shell.execute_reply": "2022-06-06T21:36:49.626189Z"
    }
   },
   "outputs": [],
   "source": [
    "encode = spacy.load(\"en_core_web_lg\")"
   ]
  },
  {
   "cell_type": "code",
   "execution_count": 18,
   "metadata": {
    "execution": {
     "iopub.execute_input": "2022-06-06T21:36:49.634820Z",
     "iopub.status.busy": "2022-06-06T21:36:49.633445Z",
     "iopub.status.idle": "2022-06-06T21:36:49.637644Z",
     "shell.execute_reply": "2022-06-06T21:36:49.636488Z"
    }
   },
   "outputs": [],
   "source": [
    "def process_text(text):\n",
    "    doc = encode(text.lower())\n",
    "    result = []\n",
    "    for token in doc:\n",
    "        if token.is_punct:\n",
    "            continue\n",
    "        if token.is_space:\n",
    "            continue\n",
    "\n",
    "        result.append(token.text)\n",
    "\n",
    "    return result"
   ]
  },
  {
   "cell_type": "code",
   "execution_count": 19,
   "metadata": {
    "execution": {
     "iopub.execute_input": "2022-06-06T21:36:49.651857Z",
     "iopub.status.busy": "2022-06-06T21:36:49.650491Z",
     "iopub.status.idle": "2022-06-06T21:47:50.880965Z",
     "shell.execute_reply": "2022-06-06T21:47:50.879519Z"
    }
   },
   "outputs": [
    {
     "name": "stderr",
     "output_type": "stream",
     "text": [
      "/home/ubuntu/venv_BRON_ML/lib/python3.6/site-packages/sklearn/feature_extraction/text.py:489: UserWarning: The parameter 'token_pattern' will not be used since 'tokenizer' is not None'\n",
      "  warnings.warn(\"The parameter 'token_pattern' will not be used\"\n"
     ]
    }
   ],
   "source": [
    "# spaCy similarity\n",
    "\n",
    "ap_encodings = []\n",
    "cwe_encodings = []\n",
    "\n",
    "vectorizer = TfidfVectorizer(tokenizer=process_text)\n",
    "vectorizer.fit(ap_mitigation_descriptions + cwe_mitigation_descriptions)\n",
    "\n",
    "idfs = dict(zip(vectorizer.get_feature_names(), vectorizer.idf_))\n",
    "\n",
    "# print(idfs)\n",
    "\n",
    "for i in range(len(ap_mitigation_descriptions)):\n",
    "    desc = ap_mitigation_descriptions[i]\n",
    "    embedding = encode(\" \".join(process_text(desc)))\n",
    "    weighted_embedding = np.zeros((300,))\n",
    "    for j in range(len(embedding)):\n",
    "        weighted_embedding += embedding[j].vector * idfs[embedding[j].text]\n",
    "        # weighted_embedding += embedding[j].vector\n",
    "    weighted_embedding /= len(embedding)\n",
    "    ap_encodings.append(weighted_embedding)\n",
    "\n",
    "for i in range(len(cwe_mitigation_descriptions)):\n",
    "    desc = cwe_mitigation_descriptions[i]\n",
    "    embedding = encode(\" \".join(process_text(desc)))\n",
    "    weighted_embedding = np.zeros((300,))\n",
    "    for j in range(len(embedding)):\n",
    "        weighted_embedding += embedding[j].vector * idfs[embedding[j].text]\n",
    "        # weighted_embedding += embedding[j].vector\n",
    "    weighted_embedding /= len(embedding)\n",
    "    cwe_encodings.append(weighted_embedding)\n",
    "\n",
    "ap_similarities_all = []\n",
    "cwe_similarities_all = []\n",
    "cwe_ap_similarities_all = []\n",
    "\n",
    "for i in range(len(ap_encodings)):\n",
    "    for j in range(i + 1, len(ap_encodings)):\n",
    "        ap_similarities_all.append(\n",
    "            cosine_similarity([ap_encodings[i]], [ap_encodings[j]])[0][0]\n",
    "        )\n",
    "\n",
    "for i in range(len(cwe_encodings)):\n",
    "    for j in range(i + 1, len(cwe_encodings)):\n",
    "        cwe_similarities_all.append(\n",
    "            cosine_similarity([cwe_encodings[i]], [cwe_encodings[j]])[0][0]\n",
    "        )\n",
    "\n",
    "for i in range(len(ap_encodings)):\n",
    "    for j in range(len(cwe_encodings)):\n",
    "        cwe_ap_similarities_all.append(\n",
    "            cosine_similarity([ap_encodings[i]], [cwe_encodings[j]])[0][0]\n",
    "        )"
   ]
  },
  {
   "cell_type": "code",
   "execution_count": 20,
   "metadata": {
    "execution": {
     "iopub.execute_input": "2022-06-06T21:47:50.889413Z",
     "iopub.status.busy": "2022-06-06T21:47:50.888115Z",
     "iopub.status.idle": "2022-06-06T21:47:50.893723Z",
     "shell.execute_reply": "2022-06-06T21:47:50.892547Z"
    }
   },
   "outputs": [],
   "source": [
    "ap_similarities_all_lemma = ap_similarities_all\n",
    "cwe_similarities_all_lemma = cwe_similarities_all\n",
    "cwe_ap_similarities_all_lemma = cwe_ap_similarities_all"
   ]
  },
  {
   "cell_type": "code",
   "execution_count": 21,
   "metadata": {
    "execution": {
     "iopub.execute_input": "2022-06-06T21:47:51.072195Z",
     "iopub.status.busy": "2022-06-06T21:47:51.070702Z",
     "iopub.status.idle": "2022-06-06T21:47:52.645137Z",
     "shell.execute_reply": "2022-06-06T21:47:52.644114Z"
    }
   },
   "outputs": [
    {
     "name": "stdout",
     "output_type": "stream",
     "text": [
      "MannwhitneyuResult(statistic=171641162704.5, pvalue=0.4999999989105259)\n",
      "MannwhitneyuResult(statistic=46387534050.0, pvalue=0.4999999970934227)\n",
      "MannwhitneyuResult(statistic=357708273664.5, pvalue=0.4999999993718891)\n"
     ]
    }
   ],
   "source": [
    "from scipy.stats import mannwhitneyu\n",
    "\n",
    "print(mannwhitneyu(cwe_similarities_all_lemma, cwe_similarities_all))\n",
    "print(mannwhitneyu(ap_similarities_all_lemma, ap_similarities_all))\n",
    "print(mannwhitneyu(cwe_ap_similarities_all_lemma, cwe_ap_similarities_all))"
   ]
  },
  {
   "cell_type": "code",
   "execution_count": 22,
   "metadata": {
    "execution": {
     "iopub.execute_input": "2022-06-06T21:47:52.671515Z",
     "iopub.status.busy": "2022-06-06T21:47:52.656617Z",
     "iopub.status.idle": "2022-06-06T21:52:06.860450Z",
     "shell.execute_reply": "2022-06-06T21:52:06.859197Z"
    }
   },
   "outputs": [
    {
     "name": "stderr",
     "output_type": "stream",
     "text": [
      "/home/ubuntu/venv_BRON_ML/lib/python3.6/site-packages/sklearn/feature_extraction/text.py:489: UserWarning: The parameter 'token_pattern' will not be used since 'tokenizer' is not None'\n",
      "  warnings.warn(\"The parameter 'token_pattern' will not be used\"\n"
     ]
    }
   ],
   "source": [
    "# spaCy similarity\n",
    "\n",
    "ap_name_encodings = []\n",
    "cwe_name_encodings = []\n",
    "\n",
    "vectorizer = TfidfVectorizer(tokenizer=process_text)\n",
    "vectorizer.fit(ap_names + cwe_names)\n",
    "\n",
    "idfs = dict(zip(vectorizer.get_feature_names(), vectorizer.idf_))\n",
    "\n",
    "# print(idfs)\n",
    "for i in range(len(ap_names)):\n",
    "    desc = ap_names[i]\n",
    "    embedding = encode(\" \".join(process_text(desc)))\n",
    "    weighted_embedding = np.zeros((300,))\n",
    "    for j in range(len(embedding)):\n",
    "        weighted_embedding += embedding[j].vector * idfs[embedding[j].text]\n",
    "        # weighted_embedding += embedding[j].vector\n",
    "    weighted_embedding /= len(embedding)\n",
    "    ap_name_encodings.append(weighted_embedding)\n",
    "\n",
    "for i in range(len(cwe_names)):\n",
    "    desc = cwe_names[i]\n",
    "    embedding = encode(\" \".join(process_text(desc)))\n",
    "    weighted_embedding = np.zeros((300,))\n",
    "    for j in range(len(embedding)):\n",
    "        weighted_embedding += embedding[j].vector * idfs[embedding[j].text]\n",
    "        # weighted_embedding += embedding[j].vector\n",
    "    weighted_embedding /= len(embedding)\n",
    "    cwe_name_encodings.append(weighted_embedding)\n",
    "\n",
    "ap_cwe_name_similarities_all = []\n",
    "ap_name_similarities_all = []\n",
    "\n",
    "for i in range(len(ap_name_encodings)):\n",
    "    for j in range(i + 1, len(ap_name_encodings)):\n",
    "        ap_name_similarities_all.append(\n",
    "            cosine_similarity([ap_name_encodings[i]], [ap_name_encodings[j]])[0][0]\n",
    "        )\n",
    "\n",
    "for i in range(len(ap_name_encodings)):\n",
    "    for j in range(len(cwe_name_encodings)):\n",
    "        ap_cwe_name_similarities_all.append(\n",
    "            cosine_similarity([ap_name_encodings[i]], [cwe_name_encodings[j]])[0][0]\n",
    "        )"
   ]
  },
  {
   "cell_type": "code",
   "execution_count": 23,
   "metadata": {
    "execution": {
     "iopub.execute_input": "2022-06-06T21:52:06.947326Z",
     "iopub.status.busy": "2022-06-06T21:52:06.945759Z",
     "iopub.status.idle": "2022-06-06T21:52:07.039383Z",
     "shell.execute_reply": "2022-06-06T21:52:07.040705Z"
    }
   },
   "outputs": [
    {
     "name": "stdout",
     "output_type": "stream",
     "text": [
      "Between APs and CWEs  0.749020262231054\n",
      "Among APs  0.7241398024191311\n",
      "Among CWEs  0.786893591745925\n"
     ]
    }
   ],
   "source": [
    "print(\"Between APs and CWEs \", np.mean(cwe_ap_similarities_all))\n",
    "print(\"Among APs \", np.mean(ap_similarities_all))\n",
    "print(\"Among CWEs \", np.mean(cwe_similarities_all))"
   ]
  },
  {
   "cell_type": "code",
   "execution_count": 24,
   "metadata": {
    "execution": {
     "iopub.execute_input": "2022-06-06T21:52:07.101986Z",
     "iopub.status.busy": "2022-06-06T21:52:07.095395Z",
     "iopub.status.idle": "2022-06-06T21:52:45.890752Z",
     "shell.execute_reply": "2022-06-06T21:52:45.891863Z"
    }
   },
   "outputs": [
    {
     "name": "stderr",
     "output_type": "stream",
     "text": [
      "/home/ubuntu/venv_BRON_ML/lib/python3.6/site-packages/sklearn/feature_extraction/text.py:489: UserWarning: The parameter 'token_pattern' will not be used since 'tokenizer' is not None'\n",
      "  warnings.warn(\"The parameter 'token_pattern' will not be used\"\n",
      "/home/ubuntu/venv_BRON_ML/lib/python3.6/site-packages/sklearn/feature_extraction/text.py:489: UserWarning: The parameter 'token_pattern' will not be used since 'tokenizer' is not None'\n",
      "  warnings.warn(\"The parameter 'token_pattern' will not be used\"\n",
      "/home/ubuntu/venv_BRON_ML/lib/python3.6/site-packages/sklearn/feature_extraction/text.py:489: UserWarning: The parameter 'token_pattern' will not be used since 'tokenizer' is not None'\n",
      "  warnings.warn(\"The parameter 'token_pattern' will not be used\"\n",
      "/home/ubuntu/venv_BRON_ML/lib/python3.6/site-packages/sklearn/feature_extraction/text.py:489: UserWarning: The parameter 'token_pattern' will not be used since 'tokenizer' is not None'\n",
      "  warnings.warn(\"The parameter 'token_pattern' will not be used\"\n",
      "/home/ubuntu/venv_BRON_ML/lib/python3.6/site-packages/sklearn/feature_extraction/text.py:489: UserWarning: The parameter 'token_pattern' will not be used since 'tokenizer' is not None'\n",
      "  warnings.warn(\"The parameter 'token_pattern' will not be used\"\n",
      "/home/ubuntu/venv_BRON_ML/lib/python3.6/site-packages/sklearn/feature_extraction/text.py:489: UserWarning: The parameter 'token_pattern' will not be used since 'tokenizer' is not None'\n",
      "  warnings.warn(\"The parameter 'token_pattern' will not be used\"\n",
      "/home/ubuntu/venv_BRON_ML/lib/python3.6/site-packages/sklearn/feature_extraction/text.py:489: UserWarning: The parameter 'token_pattern' will not be used since 'tokenizer' is not None'\n",
      "  warnings.warn(\"The parameter 'token_pattern' will not be used\"\n",
      "/home/ubuntu/venv_BRON_ML/lib/python3.6/site-packages/sklearn/feature_extraction/text.py:489: UserWarning: The parameter 'token_pattern' will not be used since 'tokenizer' is not None'\n",
      "  warnings.warn(\"The parameter 'token_pattern' will not be used\"\n",
      "/home/ubuntu/venv_BRON_ML/lib/python3.6/site-packages/sklearn/feature_extraction/text.py:489: UserWarning: The parameter 'token_pattern' will not be used since 'tokenizer' is not None'\n",
      "  warnings.warn(\"The parameter 'token_pattern' will not be used\"\n",
      "/home/ubuntu/venv_BRON_ML/lib/python3.6/site-packages/sklearn/feature_extraction/text.py:489: UserWarning: The parameter 'token_pattern' will not be used since 'tokenizer' is not None'\n",
      "  warnings.warn(\"The parameter 'token_pattern' will not be used\"\n",
      "/home/ubuntu/venv_BRON_ML/lib/python3.6/site-packages/numpy/core/fromnumeric.py:3373: RuntimeWarning: Mean of empty slice.\n",
      "  out=out, **kwargs)\n",
      "/home/ubuntu/venv_BRON_ML/lib/python3.6/site-packages/numpy/core/_methods.py:170: RuntimeWarning: invalid value encountered in double_scalars\n",
      "  ret = ret.dtype.type(ret / rcount)\n",
      "/home/ubuntu/venv_BRON_ML/lib/python3.6/site-packages/sklearn/feature_extraction/text.py:489: UserWarning: The parameter 'token_pattern' will not be used since 'tokenizer' is not None'\n",
      "  warnings.warn(\"The parameter 'token_pattern' will not be used\"\n",
      "/home/ubuntu/venv_BRON_ML/lib/python3.6/site-packages/sklearn/feature_extraction/text.py:489: UserWarning: The parameter 'token_pattern' will not be used since 'tokenizer' is not None'\n",
      "  warnings.warn(\"The parameter 'token_pattern' will not be used\"\n",
      "/home/ubuntu/venv_BRON_ML/lib/python3.6/site-packages/sklearn/feature_extraction/text.py:489: UserWarning: The parameter 'token_pattern' will not be used since 'tokenizer' is not None'\n",
      "  warnings.warn(\"The parameter 'token_pattern' will not be used\"\n",
      "/home/ubuntu/venv_BRON_ML/lib/python3.6/site-packages/sklearn/feature_extraction/text.py:489: UserWarning: The parameter 'token_pattern' will not be used since 'tokenizer' is not None'\n",
      "  warnings.warn(\"The parameter 'token_pattern' will not be used\"\n",
      "/home/ubuntu/venv_BRON_ML/lib/python3.6/site-packages/sklearn/feature_extraction/text.py:489: UserWarning: The parameter 'token_pattern' will not be used since 'tokenizer' is not None'\n",
      "  warnings.warn(\"The parameter 'token_pattern' will not be used\"\n",
      "/home/ubuntu/venv_BRON_ML/lib/python3.6/site-packages/sklearn/feature_extraction/text.py:489: UserWarning: The parameter 'token_pattern' will not be used since 'tokenizer' is not None'\n",
      "  warnings.warn(\"The parameter 'token_pattern' will not be used\"\n",
      "/home/ubuntu/venv_BRON_ML/lib/python3.6/site-packages/numpy/core/fromnumeric.py:3373: RuntimeWarning: Mean of empty slice.\n",
      "  out=out, **kwargs)\n",
      "/home/ubuntu/venv_BRON_ML/lib/python3.6/site-packages/numpy/core/_methods.py:170: RuntimeWarning: invalid value encountered in double_scalars\n",
      "  ret = ret.dtype.type(ret / rcount)\n",
      "/home/ubuntu/venv_BRON_ML/lib/python3.6/site-packages/sklearn/feature_extraction/text.py:489: UserWarning: The parameter 'token_pattern' will not be used since 'tokenizer' is not None'\n",
      "  warnings.warn(\"The parameter 'token_pattern' will not be used\"\n",
      "/home/ubuntu/venv_BRON_ML/lib/python3.6/site-packages/sklearn/feature_extraction/text.py:489: UserWarning: The parameter 'token_pattern' will not be used since 'tokenizer' is not None'\n",
      "  warnings.warn(\"The parameter 'token_pattern' will not be used\"\n",
      "/home/ubuntu/venv_BRON_ML/lib/python3.6/site-packages/sklearn/feature_extraction/text.py:489: UserWarning: The parameter 'token_pattern' will not be used since 'tokenizer' is not None'\n",
      "  warnings.warn(\"The parameter 'token_pattern' will not be used\"\n",
      "/home/ubuntu/venv_BRON_ML/lib/python3.6/site-packages/sklearn/feature_extraction/text.py:489: UserWarning: The parameter 'token_pattern' will not be used since 'tokenizer' is not None'\n",
      "  warnings.warn(\"The parameter 'token_pattern' will not be used\"\n",
      "/home/ubuntu/venv_BRON_ML/lib/python3.6/site-packages/sklearn/feature_extraction/text.py:489: UserWarning: The parameter 'token_pattern' will not be used since 'tokenizer' is not None'\n",
      "  warnings.warn(\"The parameter 'token_pattern' will not be used\"\n",
      "/home/ubuntu/venv_BRON_ML/lib/python3.6/site-packages/sklearn/feature_extraction/text.py:489: UserWarning: The parameter 'token_pattern' will not be used since 'tokenizer' is not None'\n",
      "  warnings.warn(\"The parameter 'token_pattern' will not be used\"\n",
      "/home/ubuntu/venv_BRON_ML/lib/python3.6/site-packages/sklearn/feature_extraction/text.py:489: UserWarning: The parameter 'token_pattern' will not be used since 'tokenizer' is not None'\n",
      "  warnings.warn(\"The parameter 'token_pattern' will not be used\"\n",
      "/home/ubuntu/venv_BRON_ML/lib/python3.6/site-packages/sklearn/feature_extraction/text.py:489: UserWarning: The parameter 'token_pattern' will not be used since 'tokenizer' is not None'\n",
      "  warnings.warn(\"The parameter 'token_pattern' will not be used\"\n",
      "/home/ubuntu/venv_BRON_ML/lib/python3.6/site-packages/sklearn/feature_extraction/text.py:489: UserWarning: The parameter 'token_pattern' will not be used since 'tokenizer' is not None'\n",
      "  warnings.warn(\"The parameter 'token_pattern' will not be used\"\n",
      "/home/ubuntu/venv_BRON_ML/lib/python3.6/site-packages/numpy/core/fromnumeric.py:3373: RuntimeWarning: Mean of empty slice.\n",
      "  out=out, **kwargs)\n",
      "/home/ubuntu/venv_BRON_ML/lib/python3.6/site-packages/numpy/core/_methods.py:170: RuntimeWarning: invalid value encountered in double_scalars\n",
      "  ret = ret.dtype.type(ret / rcount)\n",
      "/home/ubuntu/venv_BRON_ML/lib/python3.6/site-packages/sklearn/feature_extraction/text.py:489: UserWarning: The parameter 'token_pattern' will not be used since 'tokenizer' is not None'\n",
      "  warnings.warn(\"The parameter 'token_pattern' will not be used\"\n",
      "/home/ubuntu/venv_BRON_ML/lib/python3.6/site-packages/sklearn/feature_extraction/text.py:489: UserWarning: The parameter 'token_pattern' will not be used since 'tokenizer' is not None'\n",
      "  warnings.warn(\"The parameter 'token_pattern' will not be used\"\n",
      "/home/ubuntu/venv_BRON_ML/lib/python3.6/site-packages/sklearn/feature_extraction/text.py:489: UserWarning: The parameter 'token_pattern' will not be used since 'tokenizer' is not None'\n",
      "  warnings.warn(\"The parameter 'token_pattern' will not be used\"\n",
      "/home/ubuntu/venv_BRON_ML/lib/python3.6/site-packages/sklearn/feature_extraction/text.py:489: UserWarning: The parameter 'token_pattern' will not be used since 'tokenizer' is not None'\n",
      "  warnings.warn(\"The parameter 'token_pattern' will not be used\"\n",
      "/home/ubuntu/venv_BRON_ML/lib/python3.6/site-packages/sklearn/feature_extraction/text.py:489: UserWarning: The parameter 'token_pattern' will not be used since 'tokenizer' is not None'\n",
      "  warnings.warn(\"The parameter 'token_pattern' will not be used\"\n",
      "/home/ubuntu/venv_BRON_ML/lib/python3.6/site-packages/sklearn/feature_extraction/text.py:489: UserWarning: The parameter 'token_pattern' will not be used since 'tokenizer' is not None'\n",
      "  warnings.warn(\"The parameter 'token_pattern' will not be used\"\n",
      "/home/ubuntu/venv_BRON_ML/lib/python3.6/site-packages/sklearn/feature_extraction/text.py:489: UserWarning: The parameter 'token_pattern' will not be used since 'tokenizer' is not None'\n",
      "  warnings.warn(\"The parameter 'token_pattern' will not be used\"\n",
      "/home/ubuntu/venv_BRON_ML/lib/python3.6/site-packages/numpy/core/fromnumeric.py:3373: RuntimeWarning: Mean of empty slice.\n",
      "  out=out, **kwargs)\n",
      "/home/ubuntu/venv_BRON_ML/lib/python3.6/site-packages/numpy/core/_methods.py:170: RuntimeWarning: invalid value encountered in double_scalars\n",
      "  ret = ret.dtype.type(ret / rcount)\n",
      "/home/ubuntu/venv_BRON_ML/lib/python3.6/site-packages/sklearn/feature_extraction/text.py:489: UserWarning: The parameter 'token_pattern' will not be used since 'tokenizer' is not None'\n",
      "  warnings.warn(\"The parameter 'token_pattern' will not be used\"\n",
      "/home/ubuntu/venv_BRON_ML/lib/python3.6/site-packages/sklearn/feature_extraction/text.py:489: UserWarning: The parameter 'token_pattern' will not be used since 'tokenizer' is not None'\n",
      "  warnings.warn(\"The parameter 'token_pattern' will not be used\"\n",
      "/home/ubuntu/venv_BRON_ML/lib/python3.6/site-packages/sklearn/feature_extraction/text.py:489: UserWarning: The parameter 'token_pattern' will not be used since 'tokenizer' is not None'\n",
      "  warnings.warn(\"The parameter 'token_pattern' will not be used\"\n",
      "/home/ubuntu/venv_BRON_ML/lib/python3.6/site-packages/sklearn/feature_extraction/text.py:489: UserWarning: The parameter 'token_pattern' will not be used since 'tokenizer' is not None'\n",
      "  warnings.warn(\"The parameter 'token_pattern' will not be used\"\n",
      "/home/ubuntu/venv_BRON_ML/lib/python3.6/site-packages/sklearn/feature_extraction/text.py:489: UserWarning: The parameter 'token_pattern' will not be used since 'tokenizer' is not None'\n",
      "  warnings.warn(\"The parameter 'token_pattern' will not be used\"\n",
      "/home/ubuntu/venv_BRON_ML/lib/python3.6/site-packages/sklearn/feature_extraction/text.py:489: UserWarning: The parameter 'token_pattern' will not be used since 'tokenizer' is not None'\n",
      "  warnings.warn(\"The parameter 'token_pattern' will not be used\"\n",
      "/home/ubuntu/venv_BRON_ML/lib/python3.6/site-packages/sklearn/feature_extraction/text.py:489: UserWarning: The parameter 'token_pattern' will not be used since 'tokenizer' is not None'\n",
      "  warnings.warn(\"The parameter 'token_pattern' will not be used\"\n",
      "/home/ubuntu/venv_BRON_ML/lib/python3.6/site-packages/sklearn/feature_extraction/text.py:489: UserWarning: The parameter 'token_pattern' will not be used since 'tokenizer' is not None'\n",
      "  warnings.warn(\"The parameter 'token_pattern' will not be used\"\n",
      "/home/ubuntu/venv_BRON_ML/lib/python3.6/site-packages/sklearn/feature_extraction/text.py:489: UserWarning: The parameter 'token_pattern' will not be used since 'tokenizer' is not None'\n",
      "  warnings.warn(\"The parameter 'token_pattern' will not be used\"\n",
      "/home/ubuntu/venv_BRON_ML/lib/python3.6/site-packages/sklearn/feature_extraction/text.py:489: UserWarning: The parameter 'token_pattern' will not be used since 'tokenizer' is not None'\n",
      "  warnings.warn(\"The parameter 'token_pattern' will not be used\"\n",
      "/home/ubuntu/venv_BRON_ML/lib/python3.6/site-packages/sklearn/feature_extraction/text.py:489: UserWarning: The parameter 'token_pattern' will not be used since 'tokenizer' is not None'\n",
      "  warnings.warn(\"The parameter 'token_pattern' will not be used\"\n",
      "/home/ubuntu/venv_BRON_ML/lib/python3.6/site-packages/sklearn/feature_extraction/text.py:489: UserWarning: The parameter 'token_pattern' will not be used since 'tokenizer' is not None'\n",
      "  warnings.warn(\"The parameter 'token_pattern' will not be used\"\n",
      "/home/ubuntu/venv_BRON_ML/lib/python3.6/site-packages/sklearn/feature_extraction/text.py:489: UserWarning: The parameter 'token_pattern' will not be used since 'tokenizer' is not None'\n",
      "  warnings.warn(\"The parameter 'token_pattern' will not be used\"\n",
      "/home/ubuntu/venv_BRON_ML/lib/python3.6/site-packages/sklearn/feature_extraction/text.py:489: UserWarning: The parameter 'token_pattern' will not be used since 'tokenizer' is not None'\n",
      "  warnings.warn(\"The parameter 'token_pattern' will not be used\"\n",
      "/home/ubuntu/venv_BRON_ML/lib/python3.6/site-packages/sklearn/feature_extraction/text.py:489: UserWarning: The parameter 'token_pattern' will not be used since 'tokenizer' is not None'\n",
      "  warnings.warn(\"The parameter 'token_pattern' will not be used\"\n"
     ]
    }
   ],
   "source": [
    "top_25_cwe_mitigation_similarities = {}\n",
    "ap_similarities_top_25 = []\n",
    "cwe_similarities_top_25 = []\n",
    "cwe_ap_similarities_top_25 = []\n",
    "ap_cwe_name_similarities_top_25 = []\n",
    "ap_name_similarities_top_25 = []\n",
    "\n",
    "for cwe_id in bron_to_original_ids:\n",
    "    cwe_mitigations = set()\n",
    "    for cwe_mitigation in w_dict[cwe_id][\"mitigations\"]:\n",
    "        for cwe_mit in w_mitigation:\n",
    "            if cwe_mitigation == cwe_mit[\"_id\"]:\n",
    "                cwe_mitigations.add(cwe_mit[\"metadata\"][\"Description\"])\n",
    "\n",
    "    ap_mitigations = set()\n",
    "    cur_ap_names = []\n",
    "    for ap in w_dict[cwe_id][\"ap\"]:\n",
    "        cur_ap_names.append(ap_dict[ap][\"name\"])\n",
    "        for capec_mitigation in ap_dict[ap][\"mitigations\"]:\n",
    "            for ap_mit in ap_mitigation:\n",
    "                if capec_mitigation == ap_mit[\"_id\"]:\n",
    "                    ap_mitigations.add(ap_mit[\"metadata\"])\n",
    "\n",
    "    cwe_mitigations = list(cwe_mitigations)\n",
    "    ap_mitigations = list(ap_mitigations)\n",
    "\n",
    "    among_aps = float(\"nan\")\n",
    "    among_cwes = float(\"nan\")\n",
    "    between_cwes_aps = float(\"nan\")\n",
    "\n",
    "    vectorizer = TfidfVectorizer(tokenizer=process_text)\n",
    "    vectorizer.fit(cwe_mitigations + ap_mitigations)\n",
    "\n",
    "    idfs = dict(zip(vectorizer.get_feature_names(), vectorizer.idf_))\n",
    "\n",
    "    if ap_mitigations:\n",
    "        ap_encodings = []\n",
    "        for i in range(len(ap_mitigations)):\n",
    "            desc = ap_mitigations[i]\n",
    "            # embedding = encode(desc)\n",
    "            embedding = encode(\" \".join(process_text(desc)))\n",
    "            weighted_embedding = np.zeros((300,))\n",
    "            for j in range(len(embedding)):\n",
    "                weighted_embedding += embedding[j].vector * idfs[embedding[j].text]\n",
    "                # weighted_embedding += embedding[j].vector\n",
    "            weighted_embedding /= len(embedding)\n",
    "            ap_encodings.append(weighted_embedding)\n",
    "        among_aps = []\n",
    "        for i in range(len(ap_encodings)):\n",
    "            for j in range(i + 1, len(ap_encodings)):\n",
    "                among_aps.append(\n",
    "                    cosine_similarity([ap_encodings[i]], [ap_encodings[j]])[0][0]\n",
    "                )\n",
    "        ap_similarities_top_25.extend(among_aps)\n",
    "\n",
    "    if cwe_mitigations:\n",
    "        among_cwes = []\n",
    "        cwe_encodings = []\n",
    "        for i in range(len(cwe_mitigations)):\n",
    "            desc = cwe_mitigations[i]\n",
    "            # embedding = encode(desc)\n",
    "            embedding = encode(\" \".join(process_text(desc)))\n",
    "            weighted_embedding = np.zeros((300,))\n",
    "            # print(embedding)\n",
    "            for j in range(len(embedding)):\n",
    "                # print(embedding[j].text)\n",
    "                weighted_embedding += embedding[j].vector * idfs[embedding[j].text]\n",
    "                # weighted_embedding += embedding[j].vector\n",
    "            weighted_embedding /= len(embedding)\n",
    "            cwe_encodings.append(weighted_embedding)\n",
    "\n",
    "        for i in range(len(cwe_encodings)):\n",
    "            for j in range(i + 1, len(cwe_encodings)):\n",
    "                among_cwes.append(\n",
    "                    cosine_similarity([cwe_encodings[i]], [cwe_encodings[j]])[0][0]\n",
    "                )\n",
    "        cwe_similarities_top_25.extend(among_cwes)\n",
    "\n",
    "    if ap_mitigations and cwe_mitigations:\n",
    "        between_aps_cwes = []\n",
    "        for i in range(len(ap_encodings)):\n",
    "            for j in range(len(cwe_encodings)):\n",
    "                between_aps_cwes.append(\n",
    "                    cosine_similarity([ap_encodings[i]], [cwe_encodings[j]])[0][0]\n",
    "                )\n",
    "        cwe_ap_similarities_top_25.extend(between_aps_cwes)\n",
    "\n",
    "    if cur_ap_names:\n",
    "        vectorizer = TfidfVectorizer(tokenizer=process_text)\n",
    "        vectorizer.fit(cur_ap_names + [w_dict[cwe_id][\"name\"]])\n",
    "        idfs = dict(zip(vectorizer.get_feature_names(), vectorizer.idf_))\n",
    "        ap_name_encodings = []\n",
    "        for i in range(len(cur_ap_names)):\n",
    "            desc = cur_ap_names[i]\n",
    "            # embedding = encode(desc)\n",
    "            embedding = encode(\" \".join(process_text(desc)))\n",
    "            weighted_embedding = np.zeros((300,))\n",
    "            for j in range(len(embedding)):\n",
    "                weighted_embedding += embedding[j].vector * idfs[embedding[j].text]\n",
    "                # weighted_embedding += embedding[j].vector\n",
    "            weighted_embedding /= len(embedding)\n",
    "            ap_name_encodings.append(weighted_embedding)\n",
    "        among_ap_names = []\n",
    "        for i in range(len(ap_name_encodings)):\n",
    "            for j in range(i + 1, len(ap_name_encodings)):\n",
    "                among_ap_names.append(\n",
    "                    cosine_similarity([ap_name_encodings[i]], [ap_name_encodings[j]])[\n",
    "                        0\n",
    "                    ][0]\n",
    "                )\n",
    "        ap_name_similarities_top_25.extend(among_ap_names)\n",
    "\n",
    "        between_ap_cwe_names = []\n",
    "        embedding = encode(\" \".join(process_text(w_dict[cwe_id][\"name\"])))\n",
    "        weighted_embedding = np.zeros((300,))\n",
    "        for j in range(len(embedding)):\n",
    "            weighted_embedding += embedding[j].vector * idfs[embedding[j].text]\n",
    "            # weighted_embedding += embedding[j].vector\n",
    "        weighted_embedding /= len(embedding)\n",
    "        weighted_cwe_embedding = weighted_embedding\n",
    "        for i in range(len(ap_name_encodings)):\n",
    "            between_ap_cwe_names.append(\n",
    "                cosine_similarity([ap_name_encodings[i]], [weighted_cwe_embedding])[0][\n",
    "                    0\n",
    "                ]\n",
    "            )\n",
    "\n",
    "        ap_cwe_name_similarities_top_25.extend(between_ap_cwe_names)\n",
    "\n",
    "    top_25_cwe_mitigation_similarities[bron_to_original_ids[cwe_id]] = {\n",
    "        \"name\": w_dict[cwe_id][\"name\"],\n",
    "        \"Among APs\": np.mean(among_aps),\n",
    "        \"Among CWEs\": np.mean(among_cwes),\n",
    "        \"Between CWEs and APs\": np.mean(between_aps_cwes),\n",
    "    }\n",
    "\n",
    "top_25_cwe_mitigation_similarities = pd.DataFrame(top_25_cwe_mitigation_similarities).T"
   ]
  },
  {
   "cell_type": "code",
   "execution_count": 25,
   "metadata": {
    "execution": {
     "iopub.execute_input": "2022-06-06T21:52:45.901932Z",
     "iopub.status.busy": "2022-06-06T21:52:45.900300Z",
     "iopub.status.idle": "2022-06-06T21:52:45.907077Z",
     "shell.execute_reply": "2022-06-06T21:52:45.908164Z"
    }
   },
   "outputs": [
    {
     "data": {
      "text/plain": [
       "Series([], dtype: float64)"
      ]
     },
     "execution_count": 1,
     "metadata": {},
     "output_type": "execute_result"
    }
   ],
   "source": [
    "top_25_cwe_mitigation_similarities.mean()"
   ]
  },
  {
   "cell_type": "code",
   "execution_count": 26,
   "metadata": {
    "execution": {
     "iopub.execute_input": "2022-06-06T21:52:45.940370Z",
     "iopub.status.busy": "2022-06-06T21:52:45.922953Z",
     "iopub.status.idle": "2022-06-06T21:52:45.949170Z",
     "shell.execute_reply": "2022-06-06T21:52:45.948093Z"
    }
   },
   "outputs": [
    {
     "data": {
      "text/html": [
       "<style  type=\"text/css\" >\n",
       "</style><table id=\"T_ffd5c60c_e5e2_11ec_9669_fa163ee081a9\" ><thead>    <tr>        <th class=\"col_heading level0 col0\" >cwe id</th>        <th class=\"col_heading level0 col1\" >name</th>        <th class=\"col_heading level0 col2\" >Among APs</th>        <th class=\"col_heading level0 col3\" >Among CWEs</th>        <th class=\"col_heading level0 col4\" >Between CWEs and APs</th>    </tr></thead><tbody>\n",
       "                <tr>\n",
       "                                <td id=\"T_ffd5c60c_e5e2_11ec_9669_fa163ee081a9row0_col0\" class=\"data row0 col0\" >119</td>\n",
       "                        <td id=\"T_ffd5c60c_e5e2_11ec_9669_fa163ee081a9row0_col1\" class=\"data row0 col1\" >Improper Restriction of Operations within the Bounds of a Memory Buffer</td>\n",
       "                        <td id=\"T_ffd5c60c_e5e2_11ec_9669_fa163ee081a9row0_col2\" class=\"data row0 col2\" >0.763770</td>\n",
       "                        <td id=\"T_ffd5c60c_e5e2_11ec_9669_fa163ee081a9row0_col3\" class=\"data row0 col3\" >0.885597</td>\n",
       "                        <td id=\"T_ffd5c60c_e5e2_11ec_9669_fa163ee081a9row0_col4\" class=\"data row0 col4\" >0.819408</td>\n",
       "            </tr>\n",
       "            <tr>\n",
       "                                <td id=\"T_ffd5c60c_e5e2_11ec_9669_fa163ee081a9row1_col0\" class=\"data row1 col0\" >125</td>\n",
       "                        <td id=\"T_ffd5c60c_e5e2_11ec_9669_fa163ee081a9row1_col1\" class=\"data row1 col1\" >Out-of-bounds Read</td>\n",
       "                        <td id=\"T_ffd5c60c_e5e2_11ec_9669_fa163ee081a9row1_col2\" class=\"data row1 col2\" >nan</td>\n",
       "                        <td id=\"T_ffd5c60c_e5e2_11ec_9669_fa163ee081a9row1_col3\" class=\"data row1 col3\" >0.853007</td>\n",
       "                        <td id=\"T_ffd5c60c_e5e2_11ec_9669_fa163ee081a9row1_col4\" class=\"data row1 col4\" >0.819408</td>\n",
       "            </tr>\n",
       "            <tr>\n",
       "                                <td id=\"T_ffd5c60c_e5e2_11ec_9669_fa163ee081a9row2_col0\" class=\"data row2 col0\" >190</td>\n",
       "                        <td id=\"T_ffd5c60c_e5e2_11ec_9669_fa163ee081a9row2_col1\" class=\"data row2 col1\" >Integer Overflow or Wraparound</td>\n",
       "                        <td id=\"T_ffd5c60c_e5e2_11ec_9669_fa163ee081a9row2_col2\" class=\"data row2 col2\" >0.808028</td>\n",
       "                        <td id=\"T_ffd5c60c_e5e2_11ec_9669_fa163ee081a9row2_col3\" class=\"data row2 col3\" >0.903090</td>\n",
       "                        <td id=\"T_ffd5c60c_e5e2_11ec_9669_fa163ee081a9row2_col4\" class=\"data row2 col4\" >0.843242</td>\n",
       "            </tr>\n",
       "            <tr>\n",
       "                                <td id=\"T_ffd5c60c_e5e2_11ec_9669_fa163ee081a9row3_col0\" class=\"data row3 col0\" >20</td>\n",
       "                        <td id=\"T_ffd5c60c_e5e2_11ec_9669_fa163ee081a9row3_col1\" class=\"data row3 col1\" >Improper Input Validation</td>\n",
       "                        <td id=\"T_ffd5c60c_e5e2_11ec_9669_fa163ee081a9row3_col2\" class=\"data row3 col2\" >0.775012</td>\n",
       "                        <td id=\"T_ffd5c60c_e5e2_11ec_9669_fa163ee081a9row3_col3\" class=\"data row3 col3\" >0.918163</td>\n",
       "                        <td id=\"T_ffd5c60c_e5e2_11ec_9669_fa163ee081a9row3_col4\" class=\"data row3 col4\" >0.836278</td>\n",
       "            </tr>\n",
       "            <tr>\n",
       "                                <td id=\"T_ffd5c60c_e5e2_11ec_9669_fa163ee081a9row4_col0\" class=\"data row4 col0\" >200</td>\n",
       "                        <td id=\"T_ffd5c60c_e5e2_11ec_9669_fa163ee081a9row4_col1\" class=\"data row4 col1\" >Exposure of Sensitive Information to an Unauthorized Actor</td>\n",
       "                        <td id=\"T_ffd5c60c_e5e2_11ec_9669_fa163ee081a9row4_col2\" class=\"data row4 col2\" >0.755788</td>\n",
       "                        <td id=\"T_ffd5c60c_e5e2_11ec_9669_fa163ee081a9row4_col3\" class=\"data row4 col3\" >nan</td>\n",
       "                        <td id=\"T_ffd5c60c_e5e2_11ec_9669_fa163ee081a9row4_col4\" class=\"data row4 col4\" >0.811187</td>\n",
       "            </tr>\n",
       "            <tr>\n",
       "                                <td id=\"T_ffd5c60c_e5e2_11ec_9669_fa163ee081a9row5_col0\" class=\"data row5 col0\" >22</td>\n",
       "                        <td id=\"T_ffd5c60c_e5e2_11ec_9669_fa163ee081a9row5_col1\" class=\"data row5 col1\" >Improper Limitation of a Pathname to a Restricted Directory ('Path Traversal')</td>\n",
       "                        <td id=\"T_ffd5c60c_e5e2_11ec_9669_fa163ee081a9row5_col2\" class=\"data row5 col2\" >0.816879</td>\n",
       "                        <td id=\"T_ffd5c60c_e5e2_11ec_9669_fa163ee081a9row5_col3\" class=\"data row5 col3\" >0.929606</td>\n",
       "                        <td id=\"T_ffd5c60c_e5e2_11ec_9669_fa163ee081a9row5_col4\" class=\"data row5 col4\" >0.858592</td>\n",
       "            </tr>\n",
       "            <tr>\n",
       "                                <td id=\"T_ffd5c60c_e5e2_11ec_9669_fa163ee081a9row6_col0\" class=\"data row6 col0\" >269</td>\n",
       "                        <td id=\"T_ffd5c60c_e5e2_11ec_9669_fa163ee081a9row6_col1\" class=\"data row6 col1\" >Improper Privilege Management</td>\n",
       "                        <td id=\"T_ffd5c60c_e5e2_11ec_9669_fa163ee081a9row6_col2\" class=\"data row6 col2\" >0.806867</td>\n",
       "                        <td id=\"T_ffd5c60c_e5e2_11ec_9669_fa163ee081a9row6_col3\" class=\"data row6 col3\" >0.908655</td>\n",
       "                        <td id=\"T_ffd5c60c_e5e2_11ec_9669_fa163ee081a9row6_col4\" class=\"data row6 col4\" >0.860483</td>\n",
       "            </tr>\n",
       "            <tr>\n",
       "                                <td id=\"T_ffd5c60c_e5e2_11ec_9669_fa163ee081a9row7_col0\" class=\"data row7 col0\" >287</td>\n",
       "                        <td id=\"T_ffd5c60c_e5e2_11ec_9669_fa163ee081a9row7_col1\" class=\"data row7 col1\" >Improper Authentication</td>\n",
       "                        <td id=\"T_ffd5c60c_e5e2_11ec_9669_fa163ee081a9row7_col2\" class=\"data row7 col2\" >0.758593</td>\n",
       "                        <td id=\"T_ffd5c60c_e5e2_11ec_9669_fa163ee081a9row7_col3\" class=\"data row7 col3\" >nan</td>\n",
       "                        <td id=\"T_ffd5c60c_e5e2_11ec_9669_fa163ee081a9row7_col4\" class=\"data row7 col4\" >0.778637</td>\n",
       "            </tr>\n",
       "            <tr>\n",
       "                                <td id=\"T_ffd5c60c_e5e2_11ec_9669_fa163ee081a9row8_col0\" class=\"data row8 col0\" >306</td>\n",
       "                        <td id=\"T_ffd5c60c_e5e2_11ec_9669_fa163ee081a9row8_col1\" class=\"data row8 col1\" >Missing Authentication for Critical Function</td>\n",
       "                        <td id=\"T_ffd5c60c_e5e2_11ec_9669_fa163ee081a9row8_col2\" class=\"data row8 col2\" >0.913935</td>\n",
       "                        <td id=\"T_ffd5c60c_e5e2_11ec_9669_fa163ee081a9row8_col3\" class=\"data row8 col3\" >0.936953</td>\n",
       "                        <td id=\"T_ffd5c60c_e5e2_11ec_9669_fa163ee081a9row8_col4\" class=\"data row8 col4\" >0.918072</td>\n",
       "            </tr>\n",
       "            <tr>\n",
       "                                <td id=\"T_ffd5c60c_e5e2_11ec_9669_fa163ee081a9row9_col0\" class=\"data row9 col0\" >352</td>\n",
       "                        <td id=\"T_ffd5c60c_e5e2_11ec_9669_fa163ee081a9row9_col1\" class=\"data row9 col1\" >Cross-Site Request Forgery (CSRF)</td>\n",
       "                        <td id=\"T_ffd5c60c_e5e2_11ec_9669_fa163ee081a9row9_col2\" class=\"data row9 col2\" >0.895637</td>\n",
       "                        <td id=\"T_ffd5c60c_e5e2_11ec_9669_fa163ee081a9row9_col3\" class=\"data row9 col3\" >0.867083</td>\n",
       "                        <td id=\"T_ffd5c60c_e5e2_11ec_9669_fa163ee081a9row9_col4\" class=\"data row9 col4\" >0.882475</td>\n",
       "            </tr>\n",
       "            <tr>\n",
       "                                <td id=\"T_ffd5c60c_e5e2_11ec_9669_fa163ee081a9row10_col0\" class=\"data row10 col0\" >400</td>\n",
       "                        <td id=\"T_ffd5c60c_e5e2_11ec_9669_fa163ee081a9row10_col1\" class=\"data row10 col1\" >Uncontrolled Resource Consumption</td>\n",
       "                        <td id=\"T_ffd5c60c_e5e2_11ec_9669_fa163ee081a9row10_col2\" class=\"data row10 col2\" >0.789046</td>\n",
       "                        <td id=\"T_ffd5c60c_e5e2_11ec_9669_fa163ee081a9row10_col3\" class=\"data row10 col3\" >0.911796</td>\n",
       "                        <td id=\"T_ffd5c60c_e5e2_11ec_9669_fa163ee081a9row10_col4\" class=\"data row10 col4\" >0.846046</td>\n",
       "            </tr>\n",
       "            <tr>\n",
       "                                <td id=\"T_ffd5c60c_e5e2_11ec_9669_fa163ee081a9row11_col0\" class=\"data row11 col0\" >416</td>\n",
       "                        <td id=\"T_ffd5c60c_e5e2_11ec_9669_fa163ee081a9row11_col1\" class=\"data row11 col1\" >Use After Free</td>\n",
       "                        <td id=\"T_ffd5c60c_e5e2_11ec_9669_fa163ee081a9row11_col2\" class=\"data row11 col2\" >nan</td>\n",
       "                        <td id=\"T_ffd5c60c_e5e2_11ec_9669_fa163ee081a9row11_col3\" class=\"data row11 col3\" >0.822799</td>\n",
       "                        <td id=\"T_ffd5c60c_e5e2_11ec_9669_fa163ee081a9row11_col4\" class=\"data row11 col4\" >0.846046</td>\n",
       "            </tr>\n",
       "            <tr>\n",
       "                                <td id=\"T_ffd5c60c_e5e2_11ec_9669_fa163ee081a9row12_col0\" class=\"data row12 col0\" >434</td>\n",
       "                        <td id=\"T_ffd5c60c_e5e2_11ec_9669_fa163ee081a9row12_col1\" class=\"data row12 col1\" >Unrestricted Upload of File with Dangerous Type</td>\n",
       "                        <td id=\"T_ffd5c60c_e5e2_11ec_9669_fa163ee081a9row12_col2\" class=\"data row12 col2\" >nan</td>\n",
       "                        <td id=\"T_ffd5c60c_e5e2_11ec_9669_fa163ee081a9row12_col3\" class=\"data row12 col3\" >0.910012</td>\n",
       "                        <td id=\"T_ffd5c60c_e5e2_11ec_9669_fa163ee081a9row12_col4\" class=\"data row12 col4\" >0.917428</td>\n",
       "            </tr>\n",
       "            <tr>\n",
       "                                <td id=\"T_ffd5c60c_e5e2_11ec_9669_fa163ee081a9row13_col0\" class=\"data row13 col0\" >476</td>\n",
       "                        <td id=\"T_ffd5c60c_e5e2_11ec_9669_fa163ee081a9row13_col1\" class=\"data row13 col1\" >NULL Pointer Dereference</td>\n",
       "                        <td id=\"T_ffd5c60c_e5e2_11ec_9669_fa163ee081a9row13_col2\" class=\"data row13 col2\" >nan</td>\n",
       "                        <td id=\"T_ffd5c60c_e5e2_11ec_9669_fa163ee081a9row13_col3\" class=\"data row13 col3\" >0.882515</td>\n",
       "                        <td id=\"T_ffd5c60c_e5e2_11ec_9669_fa163ee081a9row13_col4\" class=\"data row13 col4\" >0.917428</td>\n",
       "            </tr>\n",
       "            <tr>\n",
       "                                <td id=\"T_ffd5c60c_e5e2_11ec_9669_fa163ee081a9row14_col0\" class=\"data row14 col0\" >502</td>\n",
       "                        <td id=\"T_ffd5c60c_e5e2_11ec_9669_fa163ee081a9row14_col1\" class=\"data row14 col1\" >Deserialization of Untrusted Data</td>\n",
       "                        <td id=\"T_ffd5c60c_e5e2_11ec_9669_fa163ee081a9row14_col2\" class=\"data row14 col2\" >0.741590</td>\n",
       "                        <td id=\"T_ffd5c60c_e5e2_11ec_9669_fa163ee081a9row14_col3\" class=\"data row14 col3\" >0.862347</td>\n",
       "                        <td id=\"T_ffd5c60c_e5e2_11ec_9669_fa163ee081a9row14_col4\" class=\"data row14 col4\" >0.817475</td>\n",
       "            </tr>\n",
       "            <tr>\n",
       "                                <td id=\"T_ffd5c60c_e5e2_11ec_9669_fa163ee081a9row15_col0\" class=\"data row15 col0\" >522</td>\n",
       "                        <td id=\"T_ffd5c60c_e5e2_11ec_9669_fa163ee081a9row15_col1\" class=\"data row15 col1\" >Insufficiently Protected Credentials</td>\n",
       "                        <td id=\"T_ffd5c60c_e5e2_11ec_9669_fa163ee081a9row15_col2\" class=\"data row15 col2\" >0.795941</td>\n",
       "                        <td id=\"T_ffd5c60c_e5e2_11ec_9669_fa163ee081a9row15_col3\" class=\"data row15 col3\" >0.841440</td>\n",
       "                        <td id=\"T_ffd5c60c_e5e2_11ec_9669_fa163ee081a9row15_col4\" class=\"data row15 col4\" >0.780063</td>\n",
       "            </tr>\n",
       "            <tr>\n",
       "                                <td id=\"T_ffd5c60c_e5e2_11ec_9669_fa163ee081a9row16_col0\" class=\"data row16 col0\" >611</td>\n",
       "                        <td id=\"T_ffd5c60c_e5e2_11ec_9669_fa163ee081a9row16_col1\" class=\"data row16 col1\" >Improper Restriction of XML External Entity Reference</td>\n",
       "                        <td id=\"T_ffd5c60c_e5e2_11ec_9669_fa163ee081a9row16_col2\" class=\"data row16 col2\" >0.992854</td>\n",
       "                        <td id=\"T_ffd5c60c_e5e2_11ec_9669_fa163ee081a9row16_col3\" class=\"data row16 col3\" >nan</td>\n",
       "                        <td id=\"T_ffd5c60c_e5e2_11ec_9669_fa163ee081a9row16_col4\" class=\"data row16 col4\" >0.844505</td>\n",
       "            </tr>\n",
       "            <tr>\n",
       "                                <td id=\"T_ffd5c60c_e5e2_11ec_9669_fa163ee081a9row17_col0\" class=\"data row17 col0\" >732</td>\n",
       "                        <td id=\"T_ffd5c60c_e5e2_11ec_9669_fa163ee081a9row17_col1\" class=\"data row17 col1\" >Incorrect Permission Assignment for Critical Resource</td>\n",
       "                        <td id=\"T_ffd5c60c_e5e2_11ec_9669_fa163ee081a9row17_col2\" class=\"data row17 col2\" >0.754403</td>\n",
       "                        <td id=\"T_ffd5c60c_e5e2_11ec_9669_fa163ee081a9row17_col3\" class=\"data row17 col3\" >0.909088</td>\n",
       "                        <td id=\"T_ffd5c60c_e5e2_11ec_9669_fa163ee081a9row17_col4\" class=\"data row17 col4\" >0.816704</td>\n",
       "            </tr>\n",
       "            <tr>\n",
       "                                <td id=\"T_ffd5c60c_e5e2_11ec_9669_fa163ee081a9row18_col0\" class=\"data row18 col0\" >78</td>\n",
       "                        <td id=\"T_ffd5c60c_e5e2_11ec_9669_fa163ee081a9row18_col1\" class=\"data row18 col1\" >Improper Neutralization of Special Elements used in an OS Command ('OS Command Injection')</td>\n",
       "                        <td id=\"T_ffd5c60c_e5e2_11ec_9669_fa163ee081a9row18_col2\" class=\"data row18 col2\" >0.818759</td>\n",
       "                        <td id=\"T_ffd5c60c_e5e2_11ec_9669_fa163ee081a9row18_col3\" class=\"data row18 col3\" >0.922300</td>\n",
       "                        <td id=\"T_ffd5c60c_e5e2_11ec_9669_fa163ee081a9row18_col4\" class=\"data row18 col4\" >0.865592</td>\n",
       "            </tr>\n",
       "            <tr>\n",
       "                                <td id=\"T_ffd5c60c_e5e2_11ec_9669_fa163ee081a9row19_col0\" class=\"data row19 col0\" >787</td>\n",
       "                        <td id=\"T_ffd5c60c_e5e2_11ec_9669_fa163ee081a9row19_col1\" class=\"data row19 col1\" >Out-of-bounds Write</td>\n",
       "                        <td id=\"T_ffd5c60c_e5e2_11ec_9669_fa163ee081a9row19_col2\" class=\"data row19 col2\" >nan</td>\n",
       "                        <td id=\"T_ffd5c60c_e5e2_11ec_9669_fa163ee081a9row19_col3\" class=\"data row19 col3\" >0.887470</td>\n",
       "                        <td id=\"T_ffd5c60c_e5e2_11ec_9669_fa163ee081a9row19_col4\" class=\"data row19 col4\" >0.865592</td>\n",
       "            </tr>\n",
       "            <tr>\n",
       "                                <td id=\"T_ffd5c60c_e5e2_11ec_9669_fa163ee081a9row20_col0\" class=\"data row20 col0\" >79</td>\n",
       "                        <td id=\"T_ffd5c60c_e5e2_11ec_9669_fa163ee081a9row20_col1\" class=\"data row20 col1\" >Improper Neutralization of Input During Web Page Generation ('Cross-site Scripting')</td>\n",
       "                        <td id=\"T_ffd5c60c_e5e2_11ec_9669_fa163ee081a9row20_col2\" class=\"data row20 col2\" >0.793708</td>\n",
       "                        <td id=\"T_ffd5c60c_e5e2_11ec_9669_fa163ee081a9row20_col3\" class=\"data row20 col3\" >0.903702</td>\n",
       "                        <td id=\"T_ffd5c60c_e5e2_11ec_9669_fa163ee081a9row20_col4\" class=\"data row20 col4\" >0.829146</td>\n",
       "            </tr>\n",
       "            <tr>\n",
       "                                <td id=\"T_ffd5c60c_e5e2_11ec_9669_fa163ee081a9row21_col0\" class=\"data row21 col0\" >798</td>\n",
       "                        <td id=\"T_ffd5c60c_e5e2_11ec_9669_fa163ee081a9row21_col1\" class=\"data row21 col1\" >Use of Hard-coded Credentials</td>\n",
       "                        <td id=\"T_ffd5c60c_e5e2_11ec_9669_fa163ee081a9row21_col2\" class=\"data row21 col2\" >0.886752</td>\n",
       "                        <td id=\"T_ffd5c60c_e5e2_11ec_9669_fa163ee081a9row21_col3\" class=\"data row21 col3\" >0.926648</td>\n",
       "                        <td id=\"T_ffd5c60c_e5e2_11ec_9669_fa163ee081a9row21_col4\" class=\"data row21 col4\" >0.907826</td>\n",
       "            </tr>\n",
       "            <tr>\n",
       "                                <td id=\"T_ffd5c60c_e5e2_11ec_9669_fa163ee081a9row22_col0\" class=\"data row22 col0\" >862</td>\n",
       "                        <td id=\"T_ffd5c60c_e5e2_11ec_9669_fa163ee081a9row22_col1\" class=\"data row22 col1\" >Missing Authorization</td>\n",
       "                        <td id=\"T_ffd5c60c_e5e2_11ec_9669_fa163ee081a9row22_col2\" class=\"data row22 col2\" >0.757801</td>\n",
       "                        <td id=\"T_ffd5c60c_e5e2_11ec_9669_fa163ee081a9row22_col3\" class=\"data row22 col3\" >0.930107</td>\n",
       "                        <td id=\"T_ffd5c60c_e5e2_11ec_9669_fa163ee081a9row22_col4\" class=\"data row22 col4\" >0.652541</td>\n",
       "            </tr>\n",
       "            <tr>\n",
       "                                <td id=\"T_ffd5c60c_e5e2_11ec_9669_fa163ee081a9row23_col0\" class=\"data row23 col0\" >89</td>\n",
       "                        <td id=\"T_ffd5c60c_e5e2_11ec_9669_fa163ee081a9row23_col1\" class=\"data row23 col1\" >Improper Neutralization of Special Elements used in an SQL Command ('SQL Injection')</td>\n",
       "                        <td id=\"T_ffd5c60c_e5e2_11ec_9669_fa163ee081a9row23_col2\" class=\"data row23 col2\" >0.804733</td>\n",
       "                        <td id=\"T_ffd5c60c_e5e2_11ec_9669_fa163ee081a9row23_col3\" class=\"data row23 col3\" >0.925158</td>\n",
       "                        <td id=\"T_ffd5c60c_e5e2_11ec_9669_fa163ee081a9row23_col4\" class=\"data row23 col4\" >0.853836</td>\n",
       "            </tr>\n",
       "            <tr>\n",
       "                                <td id=\"T_ffd5c60c_e5e2_11ec_9669_fa163ee081a9row24_col0\" class=\"data row24 col0\" >94</td>\n",
       "                        <td id=\"T_ffd5c60c_e5e2_11ec_9669_fa163ee081a9row24_col1\" class=\"data row24 col1\" >Improper Control of Generation of Code ('Code Injection')</td>\n",
       "                        <td id=\"T_ffd5c60c_e5e2_11ec_9669_fa163ee081a9row24_col2\" class=\"data row24 col2\" >0.796097</td>\n",
       "                        <td id=\"T_ffd5c60c_e5e2_11ec_9669_fa163ee081a9row24_col3\" class=\"data row24 col3\" >0.906932</td>\n",
       "                        <td id=\"T_ffd5c60c_e5e2_11ec_9669_fa163ee081a9row24_col4\" class=\"data row24 col4\" >0.841622</td>\n",
       "            </tr>\n",
       "    </tbody></table>"
      ],
      "text/plain": [
       "<pandas.io.formats.style.Styler at 0x7fa8b31ce6d8>"
      ]
     },
     "execution_count": 1,
     "metadata": {},
     "output_type": "execute_result"
    }
   ],
   "source": [
    "top_25_cwe_mitigation_similarities[\"cwe id\"] = top_25_cwe_mitigation_similarities.index\n",
    "top_25_cwe_mitigation_similarities = top_25_cwe_mitigation_similarities[\n",
    "    [\"cwe id\", \"name\", \"Among APs\", \"Among CWEs\", \"Between CWEs and APs\"]\n",
    "]\n",
    "top_25_cwe_mitigation_similarities\n",
    "top_25_cwe_mitigation_similarities.style.hide_index()"
   ]
  },
  {
   "cell_type": "code",
   "execution_count": 27,
   "metadata": {
    "execution": {
     "iopub.execute_input": "2022-06-06T21:52:46.068359Z",
     "iopub.status.busy": "2022-06-06T21:52:46.066968Z",
     "iopub.status.idle": "2022-06-06T21:52:46.308390Z",
     "shell.execute_reply": "2022-06-06T21:52:46.309514Z"
    }
   },
   "outputs": [
    {
     "data": {
      "image/png": "[encoded data removed]",
      "text/plain": [
       "<Figure size 432x288 with 1 Axes>"
      ]
     },
     "metadata": {
      "needs_background": "light"
     },
     "output_type": "display_data"
    }
   ],
   "source": [
    "data = {}\n",
    "\n",
    "cwe_ap_similarities_all = np.array(cwe_ap_similarities_all).flatten()\n",
    "\n",
    "data[\"CWE-AP Similarities Top 25\"] = cwe_ap_similarities_top_25\n",
    "data[\"CWE-AP Similarities All\"] = cwe_ap_similarities_all\n",
    "\n",
    "labels, data = data.keys(), data.values()\n",
    "\n",
    "plt.boxplot(data, vert=False)\n",
    "plt.yticks(range(1, len(labels) + 1), labels)\n",
    "plt.show()"
   ]
  },
  {
   "cell_type": "code",
   "execution_count": 28,
   "metadata": {
    "execution": {
     "iopub.execute_input": "2022-06-06T21:52:46.320228Z",
     "iopub.status.busy": "2022-06-06T21:52:46.318887Z",
     "iopub.status.idle": "2022-06-06T21:52:48.706326Z",
     "shell.execute_reply": "2022-06-06T21:52:48.707753Z"
    }
   },
   "outputs": [
    {
     "data": {
      "text/plain": [
       "<AxesSubplot:>"
      ]
     },
     "execution_count": 1,
     "metadata": {},
     "output_type": "execute_result"
    },
    {
     "data": {
      "image/png": "[encoded data removed]",
      "text/plain": [
       "<Figure size 432x288 with 1 Axes>"
      ]
     },
     "metadata": {
      "needs_background": "light"
     },
     "output_type": "display_data"
    }
   ],
   "source": [
    "import seaborn as sns\n",
    "\n",
    "data = {}\n",
    "\n",
    "data[\"CWE-AP Similarities Top 25\"] = np.array(cwe_ap_similarities_top_25)\n",
    "data[\"CWE-AP Similarities All\"] = np.array(cwe_ap_similarities_all)\n",
    "\n",
    "maxsize = max([a.size for a in data.values()])\n",
    "data_pad = {\n",
    "    k: np.pad(\n",
    "        v,\n",
    "        pad_width=(\n",
    "            0,\n",
    "            maxsize - v.size,\n",
    "        ),\n",
    "        mode=\"constant\",\n",
    "        constant_values=np.nan,\n",
    "    )\n",
    "    for k, v in data.items()\n",
    "}\n",
    "df = pd.DataFrame(data_pad)[[\"CWE-AP Similarities All\", \"CWE-AP Similarities Top 25\"]]\n",
    "\n",
    "fig, ax = plt.subplots()\n",
    "sns.violinplot(data=df, orient=\"h\")"
   ]
  },
  {
   "cell_type": "code",
   "execution_count": 29,
   "metadata": {
    "execution": {
     "iopub.execute_input": "2022-06-06T21:52:48.805853Z",
     "iopub.status.busy": "2022-06-06T21:52:48.768923Z",
     "iopub.status.idle": "2022-06-06T21:52:49.009643Z",
     "shell.execute_reply": "2022-06-06T21:52:49.008170Z"
    }
   },
   "outputs": [
    {
     "name": "stdout",
     "output_type": "stream",
     "text": [
      "1 1083 (541, 1083)\n"
     ]
    },
    {
     "data": {
      "image/png": "[encoded data removed]",
      "text/plain": [
       "<Figure size 432x288 with 1 Axes>"
      ]
     },
     "metadata": {
      "needs_background": "light"
     },
     "output_type": "display_data"
    }
   ],
   "source": [
    "data = {}\n",
    "\n",
    "# TODO were do I get the values from\n",
    "temp_cwe = np.array(cwe_similarities_all).reshape(1083, 541).T\n",
    "print(len(cwe_encodings[0].shape), len(cwe_mitigation_descriptions), temp_cwe.shape)\n",
    "cwe_similarities_all = get_unique_pairs(temp_cwe)\n",
    "\n",
    "data[\"CWE Similarities Top 25\"] = cwe_similarities_top_25\n",
    "data[\"CWE Similarities All\"] = cwe_similarities_all\n",
    "\n",
    "labels, data = data.keys(), data.values()\n",
    "\n",
    "plt.boxplot(data, vert=False)\n",
    "plt.yticks(range(1, len(labels) + 1), labels)\n",
    "plt.show()"
   ]
  },
  {
   "cell_type": "code",
   "execution_count": 30,
   "metadata": {
    "execution": {
     "iopub.execute_input": "2022-06-06T21:52:49.031562Z",
     "iopub.status.busy": "2022-06-06T21:52:49.030207Z",
     "iopub.status.idle": "2022-06-06T21:52:49.653371Z",
     "shell.execute_reply": "2022-06-06T21:52:49.652286Z"
    }
   },
   "outputs": [
    {
     "data": {
      "text/plain": [
       "<AxesSubplot:>"
      ]
     },
     "execution_count": 1,
     "metadata": {},
     "output_type": "execute_result"
    },
    {
     "data": {
      "image/png": "[encoded data removed]",
      "text/plain": [
       "<Figure size 432x288 with 1 Axes>"
      ]
     },
     "metadata": {
      "needs_background": "light"
     },
     "output_type": "display_data"
    }
   ],
   "source": [
    "import seaborn as sns\n",
    "\n",
    "data = {}\n",
    "\n",
    "data[\"CWE Similarities Top 25\"] = np.array(cwe_similarities_top_25)\n",
    "data[\"CWE Similarities All\"] = np.array(cwe_similarities_all)\n",
    "\n",
    "maxsize = max([a.size for a in data.values()])\n",
    "data_pad = {\n",
    "    k: np.pad(\n",
    "        v,\n",
    "        pad_width=(\n",
    "            0,\n",
    "            maxsize - v.size,\n",
    "        ),\n",
    "        mode=\"constant\",\n",
    "        constant_values=np.nan,\n",
    "    )\n",
    "    for k, v in data.items()\n",
    "}\n",
    "df = pd.DataFrame(data_pad)[[\"CWE Similarities All\", \"CWE Similarities Top 25\"]]\n",
    "\n",
    "fig, ax = plt.subplots()\n",
    "sns.violinplot(data=df, orient=\"h\")"
   ]
  },
  {
   "cell_type": "code",
   "execution_count": 31,
   "metadata": {
    "execution": {
     "iopub.execute_input": "2022-06-06T21:52:49.737669Z",
     "iopub.status.busy": "2022-06-06T21:52:49.687753Z",
     "iopub.status.idle": "2022-06-06T21:52:49.878833Z",
     "shell.execute_reply": "2022-06-06T21:52:49.877433Z"
    }
   },
   "outputs": [
    {
     "name": "stdout",
     "output_type": "stream",
     "text": [
      "14 (390, 781) (781, 390) 781 390\n"
     ]
    },
    {
     "data": {
      "image/png": "[encoded data removed]",
      "text/plain": [
       "<Figure size 432x288 with 1 Axes>"
      ]
     },
     "metadata": {
      "needs_background": "light"
     },
     "output_type": "display_data"
    }
   ],
   "source": [
    "data = {}\n",
    "\n",
    "n_row = len(ap_mitigation_descriptions)\n",
    "temp_ap = np.array(ap_similarities_all)\n",
    "n_col = int(temp_ap.shape[0] / n_row)\n",
    "temp_ap = temp_ap.reshape(n_row, n_col).T\n",
    "\n",
    "print(len(ap_encodings), temp_ap.shape, temp_ap.T.shape, n_row, n_col)\n",
    "ap_similarities_all = get_unique_pairs(temp_ap)\n",
    "\n",
    "data[\"AP Similarities Top 25\"] = ap_similarities_top_25\n",
    "data[\"AP Similarities All\"] = ap_similarities_all\n",
    "\n",
    "labels, data = data.keys(), data.values()\n",
    "\n",
    "plt.boxplot(data, vert=False)\n",
    "plt.yticks(range(1, len(labels) + 1), labels)\n",
    "plt.show()"
   ]
  },
  {
   "cell_type": "code",
   "execution_count": 32,
   "metadata": {
    "execution": {
     "iopub.execute_input": "2022-06-06T21:52:49.918667Z",
     "iopub.status.busy": "2022-06-06T21:52:49.894760Z",
     "iopub.status.idle": "2022-06-06T21:52:50.393799Z",
     "shell.execute_reply": "2022-06-06T21:52:50.394581Z"
    }
   },
   "outputs": [
    {
     "data": {
      "text/plain": [
       "<AxesSubplot:>"
      ]
     },
     "execution_count": 1,
     "metadata": {},
     "output_type": "execute_result"
    },
    {
     "data": {
      "image/png": "[encoded data removed]",
      "text/plain": [
       "<Figure size 432x288 with 1 Axes>"
      ]
     },
     "metadata": {
      "needs_background": "light"
     },
     "output_type": "display_data"
    }
   ],
   "source": [
    "import seaborn as sns\n",
    "\n",
    "data = {}\n",
    "\n",
    "data[\"AP Similarities Top 25\"] = np.array(ap_similarities_top_25)\n",
    "data[\"AP Similarities All\"] = np.array(ap_similarities_all)\n",
    "\n",
    "maxsize = max([a.size for a in data.values()])\n",
    "data_pad = {\n",
    "    k: np.pad(\n",
    "        v,\n",
    "        pad_width=(\n",
    "            0,\n",
    "            maxsize - v.size,\n",
    "        ),\n",
    "        mode=\"constant\",\n",
    "        constant_values=np.nan,\n",
    "    )\n",
    "    for k, v in data.items()\n",
    "}\n",
    "df = pd.DataFrame(data_pad)[[\"AP Similarities All\", \"AP Similarities Top 25\"]]\n",
    "\n",
    "fig, ax = plt.subplots()\n",
    "sns.violinplot(data=df, orient=\"h\")"
   ]
  },
  {
   "cell_type": "code",
   "execution_count": 33,
   "metadata": {
    "execution": {
     "iopub.execute_input": "2022-06-06T21:52:50.449448Z",
     "iopub.status.busy": "2022-06-06T21:52:50.448586Z",
     "iopub.status.idle": "2022-06-06T21:52:51.957088Z",
     "shell.execute_reply": "2022-06-06T21:52:51.958470Z"
    }
   },
   "outputs": [
    {
     "data": {
      "text/plain": [
       "<AxesSubplot:>"
      ]
     },
     "execution_count": 1,
     "metadata": {},
     "output_type": "execute_result"
    },
    {
     "data": {
      "image/png": "[encoded data removed]",
      "text/plain": [
       "<Figure size 432x288 with 1 Axes>"
      ]
     },
     "metadata": {
      "needs_background": "light"
     },
     "output_type": "display_data"
    }
   ],
   "source": [
    "import seaborn as sns\n",
    "\n",
    "ap_cwe_name_similarities_all = np.array(ap_cwe_name_similarities_all).flatten()\n",
    "\n",
    "data = {}\n",
    "\n",
    "data[\"AP CWE Name Similarities Top 25\"] = np.array(ap_cwe_name_similarities_top_25)\n",
    "data[\"AP CWE Name Similarities All\"] = np.array(ap_cwe_name_similarities_all)\n",
    "\n",
    "maxsize = max([a.size for a in data.values()])\n",
    "data_pad = {\n",
    "    k: np.pad(\n",
    "        v,\n",
    "        pad_width=(\n",
    "            0,\n",
    "            maxsize - v.size,\n",
    "        ),\n",
    "        mode=\"constant\",\n",
    "        constant_values=np.nan,\n",
    "    )\n",
    "    for k, v in data.items()\n",
    "}\n",
    "df = pd.DataFrame(data_pad)[\n",
    "    [\"AP CWE Name Similarities All\", \"AP CWE Name Similarities Top 25\"]\n",
    "]\n",
    "\n",
    "fig, ax = plt.subplots()\n",
    "sns.violinplot(data=df, orient=\"h\")"
   ]
  },
  {
   "cell_type": "code",
   "execution_count": 34,
   "metadata": {
    "execution": {
     "iopub.execute_input": "2022-06-06T21:52:52.017329Z",
     "iopub.status.busy": "2022-06-06T21:52:52.016173Z",
     "iopub.status.idle": "2022-06-06T21:52:52.174060Z",
     "shell.execute_reply": "2022-06-06T21:52:52.172468Z"
    }
   },
   "outputs": [
    {
     "name": "stdout",
     "output_type": "stream",
     "text": [
      "14 (3, 49595) (49595, 3) 3 49595\n"
     ]
    },
    {
     "data": {
      "text/plain": [
       "<AxesSubplot:>"
      ]
     },
     "execution_count": 1,
     "metadata": {},
     "output_type": "execute_result"
    },
    {
     "data": {
      "image/png": "[encoded data removed]",
      "text/plain": [
       "<Figure size 432x288 with 1 Axes>"
      ]
     },
     "metadata": {
      "needs_background": "light"
     },
     "output_type": "display_data"
    }
   ],
   "source": [
    "import seaborn as sns\n",
    "\n",
    "n_row = len(ap_name_encodings)\n",
    "temp_ap = np.array(ap_name_similarities_all)\n",
    "n_col = int(temp_ap.shape[0] / n_row)\n",
    "temp_ap = temp_ap.reshape(n_row, n_col)\n",
    "\n",
    "print(len(ap_encodings), temp_ap.shape, temp_ap.T.shape, n_row, n_col)\n",
    "\n",
    "ap_name_similarities_all = get_unique_pairs(temp_ap)\n",
    "\n",
    "data = {}\n",
    "\n",
    "data[\"AP Name Similarities Top 25\"] = np.array(ap_name_similarities_top_25)\n",
    "data[\"AP Name Similarities All\"] = np.array(ap_name_similarities_all)\n",
    "\n",
    "maxsize = max([a.size for a in data.values()])\n",
    "data_pad = {\n",
    "    k: np.pad(\n",
    "        v,\n",
    "        pad_width=(\n",
    "            0,\n",
    "            maxsize - v.size,\n",
    "        ),\n",
    "        mode=\"constant\",\n",
    "        constant_values=np.nan,\n",
    "    )\n",
    "    for k, v in data.items()\n",
    "}\n",
    "df = pd.DataFrame(data_pad)[[\"AP Name Similarities All\", \"AP Name Similarities Top 25\"]]\n",
    "\n",
    "fig, ax = plt.subplots()\n",
    "sns.violinplot(data=df, orient=\"h\")"
   ]
  },
  {
   "cell_type": "code",
   "execution_count": 35,
   "metadata": {
    "execution": {
     "iopub.execute_input": "2022-06-06T21:52:52.184448Z",
     "iopub.status.busy": "2022-06-06T21:52:52.183068Z",
     "iopub.status.idle": "2022-06-06T21:52:52.190257Z",
     "shell.execute_reply": "2022-06-06T21:52:52.188842Z"
    }
   },
   "outputs": [
    {
     "name": "stdout",
     "output_type": "stream",
     "text": [
      "0.7755936210918124\n",
      "0.9106498592354353\n",
      "0.8376359882581162\n",
      "0.5014002702816215\n",
      "0.4288006617978225\n"
     ]
    }
   ],
   "source": [
    "print(np.mean(ap_similarities_top_25))\n",
    "print(np.mean(cwe_similarities_top_25))\n",
    "print(np.mean(cwe_ap_similarities_top_25))\n",
    "print(np.mean(ap_cwe_name_similarities_top_25))\n",
    "print(np.mean(ap_name_similarities_top_25))"
   ]
  },
  {
   "cell_type": "code",
   "execution_count": 36,
   "metadata": {
    "execution": {
     "iopub.execute_input": "2022-06-06T21:52:52.216497Z",
     "iopub.status.busy": "2022-06-06T21:52:52.215122Z",
     "iopub.status.idle": "2022-06-06T21:52:52.228048Z",
     "shell.execute_reply": "2022-06-06T21:52:52.229002Z"
    }
   },
   "outputs": [
    {
     "name": "stdout",
     "output_type": "stream",
     "text": [
      "0.7267642577191903\n",
      "0.7852746826503998\n",
      "0.749020262231054\n",
      "0.43478139759935736\n",
      "0.5321131393396916\n"
     ]
    }
   ],
   "source": [
    "print(np.mean(ap_similarities_all))\n",
    "print(np.mean(cwe_similarities_all))\n",
    "print(np.mean(cwe_ap_similarities_all))\n",
    "# print(torch.mean(cwe_ap_similarities_all).item())\n",
    "print(np.mean(ap_cwe_name_similarities_all))\n",
    "# print(torch.mean(ap_cwe_name_similarities_all).item())\n",
    "print(np.mean(ap_name_similarities_all))"
   ]
  },
  {
   "cell_type": "code",
   "execution_count": 37,
   "metadata": {
    "execution": {
     "iopub.execute_input": "2022-06-06T21:52:52.237310Z",
     "iopub.status.busy": "2022-06-06T21:52:52.235368Z",
     "iopub.status.idle": "2022-06-06T21:52:52.241289Z",
     "shell.execute_reply": "2022-06-06T21:52:52.242187Z"
    }
   },
   "outputs": [
    {
     "name": "stdout",
     "output_type": "stream",
     "text": [
      "3379\n",
      "845823\n",
      "589\n",
      "146070\n",
      "14872\n",
      "75855\n"
     ]
    }
   ],
   "source": [
    "print(len(cwe_ap_similarities_top_25))\n",
    "# print(len(cwe_ap_similarities_all.flatten()))\n",
    "print(len(cwe_ap_similarities_all))\n",
    "print(len(cwe_similarities_top_25))\n",
    "print(len(cwe_similarities_all))\n",
    "print(len(ap_similarities_top_25))\n",
    "print(len(ap_similarities_all))"
   ]
  }
 ],
 "metadata": {
  "interpreter": {
   "hash": "fe5398c8201012d3ec3837fc46b21f6bb5cc60fe8bdaa4e264ad4d58fc1758ab"
  },
  "kernelspec": {
   "display_name": "Python 3.6.9 ('venv_BRON_ML')",
   "language": "python",
   "name": "python3"
  },
  "language_info": {
   "codemirror_mode": {
    "name": "ipython",
    "version": 3
   },
   "file_extension": ".py",
   "mimetype": "text/x-python",
   "name": "python",
   "nbconvert_exporter": "python",
   "pygments_lexer": "ipython3",
   "version": "3.6.9"
  }
 },
 "nbformat": 4,
 "nbformat_minor": 2
}
