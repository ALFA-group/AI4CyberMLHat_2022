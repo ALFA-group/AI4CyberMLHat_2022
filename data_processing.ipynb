{
 "cells": [
  {
   "cell_type": "code",
   "execution_count": 1,
   "metadata": {
    "execution": {
     "iopub.execute_input": "2022-05-30T10:11:47.293673Z",
     "iopub.status.busy": "2022-05-30T10:11:47.290503Z",
     "iopub.status.idle": "2022-05-30T10:11:47.298199Z",
     "shell.execute_reply": "2022-05-30T10:11:47.296937Z"
    }
   },
   "outputs": [],
   "source": [
    "import json\n",
    "import random"
   ]
  },
  {
   "cell_type": "code",
   "execution_count": 2,
   "metadata": {
    "execution": {
     "iopub.execute_input": "2022-05-30T10:11:47.307121Z",
     "iopub.status.busy": "2022-05-30T10:11:47.305860Z",
     "iopub.status.idle": "2022-05-30T10:11:47.332348Z",
     "shell.execute_reply": "2022-05-30T10:11:47.331386Z"
    }
   },
   "outputs": [],
   "source": [
    "f = open(\"cwe_temp.json\")\n",
    "cwe = json.load(f)\n",
    "\n",
    "f = open(\"cwe_capec_temp.json\")\n",
    "cwe_capec = json.load(f)\n",
    "\n",
    "f = open(\"cwe_cwemitigation_temp.json\")\n",
    "cwe_mitigation = json.load(f)"
   ]
  },
  {
   "cell_type": "code",
   "execution_count": 3,
   "metadata": {
    "execution": {
     "iopub.execute_input": "2022-05-30T10:11:47.347299Z",
     "iopub.status.busy": "2022-05-30T10:11:47.343574Z",
     "iopub.status.idle": "2022-05-30T10:11:47.389656Z",
     "shell.execute_reply": "2022-05-30T10:11:47.388282Z"
    }
   },
   "outputs": [],
   "source": [
    "f = open(\"capec_temp.json\")\n",
    "capec = json.load(f)\n",
    "f = open(\"technique_temp.json\")\n",
    "technique = json.load(f)\n",
    "\n",
    "f = open(\"tactic_temp.json\")\n",
    "tactic = json.load(f)\n",
    "\n",
    "f = open(\"tactic_technique_temp.json\")\n",
    "tactic_technique = json.load(f)\n",
    "\n",
    "f = open(\"capec_capecmitigation_temp.json\")\n",
    "capec_mitigation = json.load(f)\n",
    "\n",
    "f = open(\"technique_capec_temp.json\")\n",
    "technique_capec = json.load(f)\n",
    "\n",
    "f = open(\"technique_techniquemitigation_temp.json\")\n",
    "technique_techniquemitigation = json.load(f)\n",
    "\n",
    "f = open(\"technique_techniquedetection_temp.json\")\n",
    "technique_techniquedetection = json.load(f)\n",
    "\n",
    "f = open(\"capec_capecdetection_temp.json\")\n",
    "capec_detection = json.load(f)\n",
    "\n",
    "f = open(\"cwe_cwedetection_temp.json\")\n",
    "cwe_detection = json.load(f)"
   ]
  },
  {
   "cell_type": "code",
   "execution_count": 4,
   "metadata": {
    "execution": {
     "iopub.execute_input": "2022-05-30T10:11:47.428889Z",
     "iopub.status.busy": "2022-05-30T10:11:47.400467Z",
     "iopub.status.idle": "2022-05-30T10:11:47.438152Z",
     "shell.execute_reply": "2022-05-30T10:11:47.439185Z"
    }
   },
   "outputs": [],
   "source": [
    "w_dict = {}\n",
    "ap_dict = {}\n",
    "technique_dict = {}\n",
    "tactic_dict = {}\n",
    "\n",
    "for w in cwe:\n",
    "    w_dict[w[\"_id\"]] = {\n",
    "        \"ap\": set(),\n",
    "        \"mitigations\": set(),\n",
    "        \"name\": w[\"name\"],\n",
    "        \"detections\": set(),\n",
    "        \"short description\": w[\"metadata\"][\"short_description\"],\n",
    "        \"description\": w[\"metadata\"][\"description\"],\n",
    "    }\n",
    "for ap in capec:\n",
    "    ap_dict[ap[\"_id\"]] = {\n",
    "        \"mitigations\": set(),\n",
    "        \"techniques\": set(),\n",
    "        \"name\": ap[\"name\"],\n",
    "        \"cwes\": set(),\n",
    "        \"detections\": set(),\n",
    "        \"short description\": ap[\"metadata\"][\"short_description\"],\n",
    "        \"description\": ap[\"metadata\"][\"description\"],\n",
    "    }\n",
    "for tech in technique:\n",
    "    technique_dict[tech[\"_id\"]] = {\n",
    "        \"name\": tech[\"name\"],\n",
    "        \"tactics\": set(),\n",
    "        \"mitigations\": set(),\n",
    "        \"detections\": set(),\n",
    "        \"short description\": tech[\"metadata\"][\"short_description\"],\n",
    "        \"description\": tech[\"metadata\"][\"description\"],\n",
    "    }\n",
    "for tac in tactic:\n",
    "    tactic_dict[tac[\"_id\"]] = {\n",
    "        \"name\": tac[\"name\"],\n",
    "        \"short description\": tac[\"metadata\"][\"short_description\"],\n",
    "        \"description\": tac[\"metadata\"][\"description\"],\n",
    "    }\n",
    "\n",
    "for w_ap in cwe_capec:\n",
    "    w = w_ap[\"_to\"]\n",
    "    ap = w_ap[\"_from\"]\n",
    "    w_dict[w][\"ap\"].add(ap)\n",
    "    ap_dict[ap][\"cwes\"].add(w)\n",
    "for w_mitigation in cwe_mitigation:\n",
    "    w = w_mitigation[\"_from\"]\n",
    "    w_dict[w][\"mitigations\"].add(w_mitigation[\"_to\"])\n",
    "for w_detection in cwe_detection:\n",
    "    w = w_detection[\"_from\"]\n",
    "    w_dict[w][\"detections\"].add(w_detection[\"_to\"])\n",
    "\n",
    "for ap_mitigation in capec_mitigation:\n",
    "    ap = ap_mitigation[\"_from\"]\n",
    "    ap_dict[ap][\"mitigations\"].add(ap_mitigation[\"_to\"])\n",
    "for ap_technique in technique_capec:\n",
    "    ap = ap_technique[\"_to\"]\n",
    "    ap_dict[ap][\"techniques\"].add(ap_technique[\"_from\"])\n",
    "for ap_detection in capec_detection:\n",
    "    ap = ap_detection[\"_from\"]\n",
    "    ap_dict[ap][\"detections\"].add(ap_detection[\"_to\"])\n",
    "\n",
    "for tac_tech in tactic_technique:\n",
    "    tech = tac_tech[\"_to\"]\n",
    "    technique_dict[tech][\"tactics\"].add(tac_tech[\"_from\"])\n",
    "\n",
    "for tech_mitigation in technique_techniquemitigation:\n",
    "    tech = tech_mitigation[\"_from\"]\n",
    "    technique_dict[tech][\"mitigations\"].add(tech_mitigation[\"_to\"])\n",
    "for tech_detection in technique_techniquedetection:\n",
    "    tech = tech_detection[\"_from\"]\n",
    "    technique_dict[tech][\"detections\"].add(tech_detection[\"_to\"])"
   ]
  },
  {
   "cell_type": "code",
   "execution_count": 5,
   "metadata": {
    "execution": {
     "iopub.execute_input": "2022-05-30T10:11:47.461050Z",
     "iopub.status.busy": "2022-05-30T10:11:47.459822Z",
     "iopub.status.idle": "2022-05-30T10:11:47.466204Z",
     "shell.execute_reply": "2022-05-30T10:11:47.465101Z"
    }
   },
   "outputs": [],
   "source": [
    "for w in w_dict:\n",
    "    w_dict[w][\"ap\"] = list(w_dict[w][\"ap\"])\n",
    "    w_dict[w][\"mitigations\"] = list(w_dict[w][\"mitigations\"])\n",
    "    w_dict[w][\"detections\"] = list(w_dict[w][\"detections\"])\n",
    "\n",
    "for ap in ap_dict:\n",
    "    ap_dict[ap][\"cwes\"] = list(ap_dict[ap][\"cwes\"])\n",
    "    ap_dict[ap][\"mitigations\"] = list(ap_dict[ap][\"mitigations\"])\n",
    "    ap_dict[ap][\"detections\"] = list(ap_dict[ap][\"detections\"])\n",
    "    ap_dict[ap][\"techniques\"] = list(ap_dict[ap][\"techniques\"])\n",
    "\n",
    "for tech in technique_dict:\n",
    "    technique_dict[tech][\"mitigations\"] = list(technique_dict[tech][\"mitigations\"])\n",
    "    technique_dict[tech][\"detections\"] = list(technique_dict[tech][\"detections\"])\n",
    "    technique_dict[tech][\"tactics\"] = list(technique_dict[tech][\"tactics\"])"
   ]
  },
  {
   "cell_type": "code",
   "execution_count": 6,
   "metadata": {
    "execution": {
     "iopub.execute_input": "2022-05-30T10:11:47.476588Z",
     "iopub.status.busy": "2022-05-30T10:11:47.475529Z",
     "iopub.status.idle": "2022-05-30T10:11:47.513821Z",
     "shell.execute_reply": "2022-05-30T10:11:47.512604Z"
    }
   },
   "outputs": [],
   "source": [
    "f = open(\"cwe_mitigation_ids_temp.json\")\n",
    "w_mitigation = json.load(f)\n",
    "\n",
    "f = open(\"capec_mitigation_temp.json\")\n",
    "ap_mitigation = json.load(f)\n",
    "\n",
    "f = open(\"technique_mitigation_temp.json\")\n",
    "technique_mitigation = json.load(f)\n",
    "\n",
    "f = open(\"technique_detection_temp.json\")\n",
    "technique_detection = json.load(f)\n",
    "\n",
    "f = open(\"capec_detection_temp.json\")\n",
    "ap_detection = json.load(f)\n",
    "\n",
    "f = open(\"cwe_detection_temp.json\")\n",
    "w_detection = json.load(f)"
   ]
  },
  {
   "cell_type": "code",
   "execution_count": 7,
   "metadata": {
    "execution": {
     "iopub.execute_input": "2022-05-30T10:11:47.577981Z",
     "iopub.status.busy": "2022-05-30T10:11:47.556745Z",
     "iopub.status.idle": "2022-05-30T10:11:48.136553Z",
     "shell.execute_reply": "2022-05-30T10:11:48.135117Z"
    }
   },
   "outputs": [],
   "source": [
    "ap_names = []\n",
    "cwe_names = []\n",
    "ap_descriptions = []\n",
    "cwe_descriptions = []\n",
    "technique_descriptions = []\n",
    "tactic_descriptions = []\n",
    "ap_short_descriptions = []\n",
    "cwe_short_descriptions = []\n",
    "technique_short_descriptions = []\n",
    "tactic_short_descriptions = []\n",
    "\n",
    "ap_mitigation_descriptions = []\n",
    "cwe_mitigation_descriptions = []\n",
    "tech_mitigation_names = []\n",
    "tech_detection_names = []\n",
    "ap_detection_descriptions = []\n",
    "cwe_detection_descriptions = []\n",
    "\n",
    "for ap in ap_dict:\n",
    "    ap_names.append(ap_dict[ap][\"name\"])\n",
    "    if ap_dict[ap][\"short description\"]:\n",
    "        ap_short_descriptions.append(ap_dict[ap][\"short description\"])\n",
    "        ap_descriptions.append(ap_dict[ap][\"short description\"])\n",
    "\n",
    "    if ap_dict[ap][\"description\"]:\n",
    "        ap_descriptions.append(ap_dict[ap][\"description\"])\n",
    "\n",
    "    for mitigation in ap_dict[ap][\"mitigations\"]:\n",
    "        for ap_mit in ap_mitigation:\n",
    "            if mitigation == ap_mit[\"_id\"]:\n",
    "                ap_mitigation_descriptions.append(ap_mit[\"metadata\"])\n",
    "\n",
    "    for detection in ap_dict[ap][\"detections\"]:\n",
    "        for ap_det in ap_detection:\n",
    "            if detection == ap_det[\"_id\"]:\n",
    "                ap_detection_descriptions.append(ap_det[\"metadata\"])\n",
    "\n",
    "\n",
    "technique_names = []\n",
    "for technique in technique_dict:\n",
    "    technique_names.append(technique_dict[technique][\"name\"])\n",
    "    technique_short_descriptions.append(technique_dict[technique][\"short description\"])\n",
    "    technique_descriptions.append(technique_dict[technique][\"description\"])\n",
    "    for mitigation in technique_dict[technique][\"mitigations\"]:\n",
    "        for tech_mit in technique_mitigation:\n",
    "            if mitigation == tech_mit[\"_id\"]:\n",
    "                tech_mitigation_names.append(tech_mit[\"name\"])\n",
    "\n",
    "    for detection in technique_dict[technique][\"detections\"]:\n",
    "        for tech_det in technique_detection:\n",
    "            if detection == tech_det[\"_id\"]:\n",
    "                tech_detection_names.append(tech_det[\"name\"])\n",
    "\n",
    "tactic_names = []\n",
    "for tactic in tactic_dict:\n",
    "    tactic_names.append(tactic_dict[tactic][\"name\"])\n",
    "    tactic_short_descriptions.append(tactic_dict[tactic][\"short description\"])\n",
    "    tactic_descriptions.append(tactic_dict[tactic][\"description\"])\n",
    "\n",
    "for w in w_dict:\n",
    "    cwe_names.append(w_dict[w][\"name\"])\n",
    "    if w_dict[w][\"short description\"]:\n",
    "        cwe_short_descriptions.append(w_dict[w][\"short description\"])\n",
    "        cwe_descriptions.append(w_dict[w][\"short description\"])\n",
    "    if w_dict[w][\"description\"]:\n",
    "        cwe_descriptions.append(w_dict[w][\"description\"])\n",
    "\n",
    "    for mitigation in w_dict[w][\"mitigations\"]:\n",
    "        for cwe_mit in w_mitigation:\n",
    "            if mitigation == cwe_mit[\"_id\"]:\n",
    "                cwe_mitigation_descriptions.append(cwe_mit[\"metadata\"][\"Description\"])\n",
    "\n",
    "    for detection in w_dict[w][\"detections\"]:\n",
    "        for cwe_det in w_detection:\n",
    "            if detection == cwe_det[\"_id\"]:\n",
    "                cwe_detection_descriptions.append(cwe_det[\"metadata\"][\"Description\"])"
   ]
  },
  {
   "cell_type": "code",
   "execution_count": 8,
   "metadata": {
    "execution": {
     "iopub.execute_input": "2022-05-30T10:11:48.151910Z",
     "iopub.status.busy": "2022-05-30T10:11:48.146758Z",
     "iopub.status.idle": "2022-05-30T10:11:48.282807Z",
     "shell.execute_reply": "2022-05-30T10:11:48.283997Z"
    }
   },
   "outputs": [],
   "source": [
    "with open(\"w_dict.json\", \"w\") as f:\n",
    "    json.dump(w_dict, f, indent=2)\n",
    "with open(\"ap_dict.json\", \"w\") as f:\n",
    "    json.dump(ap_dict, f, indent=2)\n",
    "with open(\"technique_dict.json\", \"w\") as f:\n",
    "    json.dump(technique_dict, f, indent=2)\n",
    "with open(\"tactic_dict.json\", \"w\") as f:\n",
    "    json.dump(tactic_dict, f, indent=2)\n",
    "with open(\"cwe_names.json\", \"w\") as f:\n",
    "    json.dump(cwe_names, f, indent=2)\n",
    "with open(\"ap_names.json\", \"w\") as f:\n",
    "    json.dump(ap_names, f, indent=2)\n",
    "with open(\"technique_names.json\", \"w\") as f:\n",
    "    json.dump(technique_names, f, indent=2)\n",
    "with open(\"tactic_names.json\", \"w\") as f:\n",
    "    json.dump(tactic_names, f, indent=2)\n",
    "with open(\"cwe_short_descriptions.json\", \"w\") as f:\n",
    "    json.dump(cwe_short_descriptions, f, indent=2)\n",
    "with open(\"ap_short_descriptions.json\", \"w\") as f:\n",
    "    json.dump(ap_short_descriptions, f, indent=2)\n",
    "with open(\"technique_short_descriptions.json\", \"w\") as f:\n",
    "    json.dump(technique_short_descriptions, f, indent=2)\n",
    "with open(\"tactic_short_descriptions.json\", \"w\") as f:\n",
    "    json.dump(tactic_short_descriptions, f, indent=2)\n",
    "with open(\"cwe_descriptions.json\", \"w\") as f:\n",
    "    json.dump(cwe_descriptions, f, indent=2)\n",
    "with open(\"ap_descriptions.json\", \"w\") as f:\n",
    "    json.dump(ap_descriptions, f, indent=2)\n",
    "with open(\"technique_descriptions.json\", \"w\") as f:\n",
    "    json.dump(technique_descriptions, f, indent=2)\n",
    "with open(\"tactic_descriptions.json\", \"w\") as f:\n",
    "    json.dump(tactic_descriptions, f, indent=2)\n",
    "with open(\"ap_mitigation_descriptions.json\", \"w\") as f:\n",
    "    json.dump(ap_mitigation_descriptions, f, indent=2)\n",
    "with open(\"cwe_mitigation_descriptions.json\", \"w\") as f:\n",
    "    json.dump(cwe_mitigation_descriptions, f, indent=2)\n",
    "with open(\"tech_mitigation_names.json\", \"w\") as f:\n",
    "    json.dump(tech_mitigation_names, f, indent=2)\n",
    "with open(\"tech_detection_names.json\", \"w\") as f:\n",
    "    json.dump(tech_detection_names, f, indent=2)\n",
    "with open(\"ap_detection_descriptions.json\", \"w\") as f:\n",
    "    json.dump(ap_detection_descriptions, f, indent=2)\n",
    "with open(\"cwe_detection_descriptions.json\", \"w\") as f:\n",
    "    json.dump(cwe_detection_descriptions, f, indent=2)"
   ]
  },
  {
   "cell_type": "code",
   "execution_count": 9,
   "metadata": {
    "execution": {
     "iopub.execute_input": "2022-05-30T10:11:48.300374Z",
     "iopub.status.busy": "2022-05-30T10:11:48.299044Z",
     "iopub.status.idle": "2022-05-30T10:11:48.303609Z",
     "shell.execute_reply": "2022-05-30T10:11:48.302466Z"
    }
   },
   "outputs": [],
   "source": [
    "# consistent set of negative examples for CAPEC-Technique\n",
    "negative_example_ids = []\n",
    "\n",
    "random.seed(0)\n",
    "\n",
    "positive_example_num = 0\n",
    "\n",
    "for ap in ap_dict:\n",
    "    for technique in ap_dict[ap][\"techniques\"]:\n",
    "        positive_example_num += 1\n",
    "\n",
    "\n",
    "for i in range(positive_example_num):\n",
    "    random_ap = random.choice(list(ap_dict))\n",
    "    random_technique = random.choice(list(technique_dict))\n",
    "    while random_technique in ap_dict[random_ap][\"techniques\"]:\n",
    "        random_ap = random.choice(list(ap_dict))\n",
    "        random_technique = random.choice(list(technique_dict))\n",
    "    ap = random_ap\n",
    "    technique = random_technique\n",
    "    negative_example_ids.append((ap, technique))\n",
    "\n",
    "negative_example_json = []\n",
    "for example in negative_example_ids:\n",
    "    negative_example_json.append({\"ap\": example[0], \"technique\": example[1]})\n",
    "\n",
    "with open(\"negative_examples_100_2.json\", \"w\", encoding=\"utf-8\") as f:\n",
    "    json.dump(negative_example_json, f, ensure_ascii=False, indent=4)"
   ]
  },
  {
   "cell_type": "code",
   "execution_count": 10,
   "metadata": {
    "execution": {
     "iopub.execute_input": "2022-05-30T10:11:48.316558Z",
     "iopub.status.busy": "2022-05-30T10:11:48.313192Z",
     "iopub.status.idle": "2022-05-30T10:11:48.329139Z",
     "shell.execute_reply": "2022-05-30T10:11:48.330345Z"
    }
   },
   "outputs": [
    {
     "data": {
      "text/plain": [
       "117"
      ]
     },
     "execution_count": 1,
     "metadata": {},
     "output_type": "execute_result"
    }
   ],
   "source": [
    "positive_example_num"
   ]
  },
  {
   "cell_type": "code",
   "execution_count": null,
   "metadata": {},
   "outputs": [],
   "source": []
  }
 ],
 "metadata": {
  "interpreter": {
   "hash": "98b0a9b7b4eaaa670588a142fd0a9b87eaafe866f1db4228be72b4211d12040f"
  },
  "kernelspec": {
   "display_name": "Python 3.7.10 64-bit ('base': conda)",
   "name": "python3"
  },
  "language_info": {
   "codemirror_mode": {
    "name": "ipython",
    "version": 3
   },
   "file_extension": ".py",
   "mimetype": "text/x-python",
   "name": "python",
   "nbconvert_exporter": "python",
   "pygments_lexer": "ipython3",
   "version": "3.6.9"
  }
 },
 "nbformat": 4,
 "nbformat_minor": 2
}
